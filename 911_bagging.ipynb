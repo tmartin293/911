{
 "cells": [
  {
   "cell_type": "code",
   "execution_count": 42,
   "metadata": {
    "collapsed": false
   },
   "outputs": [
    {
     "data": {
      "text/html": [
       "<div>\n",
       "<table border=\"1\" class=\"dataframe\">\n",
       "  <thead>\n",
       "    <tr style=\"text-align: right;\">\n",
       "      <th></th>\n",
       "      <th>lat</th>\n",
       "      <th>lng</th>\n",
       "      <th>desc</th>\n",
       "      <th>zip</th>\n",
       "      <th>title</th>\n",
       "      <th>timeStamp</th>\n",
       "      <th>twp</th>\n",
       "      <th>addr</th>\n",
       "      <th>e</th>\n",
       "    </tr>\n",
       "  </thead>\n",
       "  <tbody>\n",
       "    <tr>\n",
       "      <th>0</th>\n",
       "      <td>40.297876</td>\n",
       "      <td>-75.581294</td>\n",
       "      <td>REINDEER CT &amp; DEAD END;  NEW HANOVER; Station ...</td>\n",
       "      <td>19525.0</td>\n",
       "      <td>EMS: BACK PAINS/INJURY</td>\n",
       "      <td>2015-12-10 17:10:52</td>\n",
       "      <td>NEW HANOVER</td>\n",
       "      <td>REINDEER CT &amp; DEAD END</td>\n",
       "      <td>1</td>\n",
       "    </tr>\n",
       "    <tr>\n",
       "      <th>1</th>\n",
       "      <td>40.258061</td>\n",
       "      <td>-75.264680</td>\n",
       "      <td>BRIAR PATH &amp; WHITEMARSH LN;  HATFIELD TOWNSHIP...</td>\n",
       "      <td>19446.0</td>\n",
       "      <td>EMS: DIABETIC EMERGENCY</td>\n",
       "      <td>2015-12-10 17:29:21</td>\n",
       "      <td>HATFIELD TOWNSHIP</td>\n",
       "      <td>BRIAR PATH &amp; WHITEMARSH LN</td>\n",
       "      <td>1</td>\n",
       "    </tr>\n",
       "    <tr>\n",
       "      <th>2</th>\n",
       "      <td>40.121182</td>\n",
       "      <td>-75.351975</td>\n",
       "      <td>HAWS AVE; NORRISTOWN; 2015-12-10 @ 14:39:21-St...</td>\n",
       "      <td>19401.0</td>\n",
       "      <td>Fire: GAS-ODOR/LEAK</td>\n",
       "      <td>2015-12-10 14:39:21</td>\n",
       "      <td>NORRISTOWN</td>\n",
       "      <td>HAWS AVE</td>\n",
       "      <td>1</td>\n",
       "    </tr>\n",
       "    <tr>\n",
       "      <th>3</th>\n",
       "      <td>40.116153</td>\n",
       "      <td>-75.343513</td>\n",
       "      <td>AIRY ST &amp; SWEDE ST;  NORRISTOWN; Station 308A;...</td>\n",
       "      <td>19401.0</td>\n",
       "      <td>EMS: CARDIAC EMERGENCY</td>\n",
       "      <td>2015-12-10 16:47:36</td>\n",
       "      <td>NORRISTOWN</td>\n",
       "      <td>AIRY ST &amp; SWEDE ST</td>\n",
       "      <td>1</td>\n",
       "    </tr>\n",
       "    <tr>\n",
       "      <th>4</th>\n",
       "      <td>40.251492</td>\n",
       "      <td>-75.603350</td>\n",
       "      <td>CHERRYWOOD CT &amp; DEAD END;  LOWER POTTSGROVE; S...</td>\n",
       "      <td>NaN</td>\n",
       "      <td>EMS: DIZZINESS</td>\n",
       "      <td>2015-12-10 16:56:52</td>\n",
       "      <td>LOWER POTTSGROVE</td>\n",
       "      <td>CHERRYWOOD CT &amp; DEAD END</td>\n",
       "      <td>1</td>\n",
       "    </tr>\n",
       "  </tbody>\n",
       "</table>\n",
       "</div>"
      ],
      "text/plain": [
       "         lat        lng                                               desc  \\\n",
       "0  40.297876 -75.581294  REINDEER CT & DEAD END;  NEW HANOVER; Station ...   \n",
       "1  40.258061 -75.264680  BRIAR PATH & WHITEMARSH LN;  HATFIELD TOWNSHIP...   \n",
       "2  40.121182 -75.351975  HAWS AVE; NORRISTOWN; 2015-12-10 @ 14:39:21-St...   \n",
       "3  40.116153 -75.343513  AIRY ST & SWEDE ST;  NORRISTOWN; Station 308A;...   \n",
       "4  40.251492 -75.603350  CHERRYWOOD CT & DEAD END;  LOWER POTTSGROVE; S...   \n",
       "\n",
       "       zip                    title            timeStamp                twp  \\\n",
       "0  19525.0   EMS: BACK PAINS/INJURY  2015-12-10 17:10:52        NEW HANOVER   \n",
       "1  19446.0  EMS: DIABETIC EMERGENCY  2015-12-10 17:29:21  HATFIELD TOWNSHIP   \n",
       "2  19401.0      Fire: GAS-ODOR/LEAK  2015-12-10 14:39:21         NORRISTOWN   \n",
       "3  19401.0   EMS: CARDIAC EMERGENCY  2015-12-10 16:47:36         NORRISTOWN   \n",
       "4      NaN           EMS: DIZZINESS  2015-12-10 16:56:52   LOWER POTTSGROVE   \n",
       "\n",
       "                         addr  e  \n",
       "0      REINDEER CT & DEAD END  1  \n",
       "1  BRIAR PATH & WHITEMARSH LN  1  \n",
       "2                    HAWS AVE  1  \n",
       "3          AIRY ST & SWEDE ST  1  \n",
       "4    CHERRYWOOD CT & DEAD END  1  "
      ]
     },
     "execution_count": 42,
     "metadata": {},
     "output_type": "execute_result"
    }
   ],
   "source": [
    "import pandas as pd\n",
    "import numpy as np\n",
    "import datetime as dt\n",
    "from pandas import Series\n",
    "from time import sleep\n",
    "from geopy.geocoders import Nominatim\n",
    "from sklearn.ensemble import BaggingClassifier\n",
    "from sklearn.model_selection import train_test_split\n",
    "from sklearn import preprocessing\n",
    "\n",
    "#importing the dataset using pandas\n",
    "df = pd.read_csv(\"./911.csv\")\n",
    "\n",
    "#sample of original dataset\n",
    "df.head(5)"
   ]
  },
  {
   "cell_type": "code",
   "execution_count": 43,
   "metadata": {
    "collapsed": false
   },
   "outputs": [
    {
     "data": {
      "text/html": [
       "<div>\n",
       "<table border=\"1\" class=\"dataframe\">\n",
       "  <thead>\n",
       "    <tr style=\"text-align: right;\">\n",
       "      <th></th>\n",
       "      <th>lat</th>\n",
       "      <th>lng</th>\n",
       "      <th>zip</th>\n",
       "      <th>title</th>\n",
       "      <th>twp</th>\n",
       "      <th>addr</th>\n",
       "      <th>date</th>\n",
       "      <th>time</th>\n",
       "    </tr>\n",
       "  </thead>\n",
       "  <tbody>\n",
       "    <tr>\n",
       "      <th>0</th>\n",
       "      <td>40.297876</td>\n",
       "      <td>-75.581294</td>\n",
       "      <td>19525.0</td>\n",
       "      <td>EMS: BACK PAINS/INJURY</td>\n",
       "      <td>NEW HANOVER</td>\n",
       "      <td>REINDEER CT &amp; DEAD END</td>\n",
       "      <td>2015-12-10</td>\n",
       "      <td>17:10:52</td>\n",
       "    </tr>\n",
       "    <tr>\n",
       "      <th>1</th>\n",
       "      <td>40.258061</td>\n",
       "      <td>-75.264680</td>\n",
       "      <td>19446.0</td>\n",
       "      <td>EMS: DIABETIC EMERGENCY</td>\n",
       "      <td>HATFIELD TOWNSHIP</td>\n",
       "      <td>BRIAR PATH &amp; WHITEMARSH LN</td>\n",
       "      <td>2015-12-10</td>\n",
       "      <td>17:29:21</td>\n",
       "    </tr>\n",
       "    <tr>\n",
       "      <th>2</th>\n",
       "      <td>40.121182</td>\n",
       "      <td>-75.351975</td>\n",
       "      <td>19401.0</td>\n",
       "      <td>Fire: GAS-ODOR/LEAK</td>\n",
       "      <td>NORRISTOWN</td>\n",
       "      <td>HAWS AVE</td>\n",
       "      <td>2015-12-10</td>\n",
       "      <td>14:39:21</td>\n",
       "    </tr>\n",
       "    <tr>\n",
       "      <th>3</th>\n",
       "      <td>40.116153</td>\n",
       "      <td>-75.343513</td>\n",
       "      <td>19401.0</td>\n",
       "      <td>EMS: CARDIAC EMERGENCY</td>\n",
       "      <td>NORRISTOWN</td>\n",
       "      <td>AIRY ST &amp; SWEDE ST</td>\n",
       "      <td>2015-12-10</td>\n",
       "      <td>16:47:36</td>\n",
       "    </tr>\n",
       "    <tr>\n",
       "      <th>4</th>\n",
       "      <td>40.251492</td>\n",
       "      <td>-75.603350</td>\n",
       "      <td>NaN</td>\n",
       "      <td>EMS: DIZZINESS</td>\n",
       "      <td>LOWER POTTSGROVE</td>\n",
       "      <td>CHERRYWOOD CT &amp; DEAD END</td>\n",
       "      <td>2015-12-10</td>\n",
       "      <td>16:56:52</td>\n",
       "    </tr>\n",
       "    <tr>\n",
       "      <th>5</th>\n",
       "      <td>40.253473</td>\n",
       "      <td>-75.283245</td>\n",
       "      <td>19446.0</td>\n",
       "      <td>EMS: HEAD INJURY</td>\n",
       "      <td>LANSDALE</td>\n",
       "      <td>CANNON AVE &amp; W 9TH ST</td>\n",
       "      <td>2015-12-10</td>\n",
       "      <td>15:39:04</td>\n",
       "    </tr>\n",
       "    <tr>\n",
       "      <th>6</th>\n",
       "      <td>40.182111</td>\n",
       "      <td>-75.127795</td>\n",
       "      <td>19044.0</td>\n",
       "      <td>EMS: NAUSEA/VOMITING</td>\n",
       "      <td>HORSHAM</td>\n",
       "      <td>LAUREL AVE &amp; OAKDALE AVE</td>\n",
       "      <td>2015-12-10</td>\n",
       "      <td>16:46:48</td>\n",
       "    </tr>\n",
       "    <tr>\n",
       "      <th>7</th>\n",
       "      <td>40.217286</td>\n",
       "      <td>-75.405182</td>\n",
       "      <td>19426.0</td>\n",
       "      <td>EMS: RESPIRATORY EMERGENCY</td>\n",
       "      <td>SKIPPACK</td>\n",
       "      <td>COLLEGEVILLE RD &amp; LYWISKI RD</td>\n",
       "      <td>2015-12-10</td>\n",
       "      <td>16:17:05</td>\n",
       "    </tr>\n",
       "    <tr>\n",
       "      <th>8</th>\n",
       "      <td>40.289027</td>\n",
       "      <td>-75.399590</td>\n",
       "      <td>19438.0</td>\n",
       "      <td>EMS: SYNCOPAL EPISODE</td>\n",
       "      <td>LOWER SALFORD</td>\n",
       "      <td>MAIN ST &amp; OLD SUMNEYTOWN PIKE</td>\n",
       "      <td>2015-12-10</td>\n",
       "      <td>16:51:42</td>\n",
       "    </tr>\n",
       "    <tr>\n",
       "      <th>9</th>\n",
       "      <td>40.102398</td>\n",
       "      <td>-75.291458</td>\n",
       "      <td>19462.0</td>\n",
       "      <td>Traffic: VEHICLE ACCIDENT -</td>\n",
       "      <td>PLYMOUTH</td>\n",
       "      <td>BLUEROUTE  &amp; RAMP I476 NB TO CHEMICAL RD</td>\n",
       "      <td>2015-12-10</td>\n",
       "      <td>17:35:41</td>\n",
       "    </tr>\n",
       "  </tbody>\n",
       "</table>\n",
       "</div>"
      ],
      "text/plain": [
       "         lat        lng      zip                        title  \\\n",
       "0  40.297876 -75.581294  19525.0       EMS: BACK PAINS/INJURY   \n",
       "1  40.258061 -75.264680  19446.0      EMS: DIABETIC EMERGENCY   \n",
       "2  40.121182 -75.351975  19401.0          Fire: GAS-ODOR/LEAK   \n",
       "3  40.116153 -75.343513  19401.0       EMS: CARDIAC EMERGENCY   \n",
       "4  40.251492 -75.603350      NaN               EMS: DIZZINESS   \n",
       "5  40.253473 -75.283245  19446.0             EMS: HEAD INJURY   \n",
       "6  40.182111 -75.127795  19044.0         EMS: NAUSEA/VOMITING   \n",
       "7  40.217286 -75.405182  19426.0   EMS: RESPIRATORY EMERGENCY   \n",
       "8  40.289027 -75.399590  19438.0        EMS: SYNCOPAL EPISODE   \n",
       "9  40.102398 -75.291458  19462.0  Traffic: VEHICLE ACCIDENT -   \n",
       "\n",
       "                 twp                                      addr         date  \\\n",
       "0        NEW HANOVER                    REINDEER CT & DEAD END  2015-12-10    \n",
       "1  HATFIELD TOWNSHIP                BRIAR PATH & WHITEMARSH LN  2015-12-10    \n",
       "2         NORRISTOWN                                  HAWS AVE  2015-12-10    \n",
       "3         NORRISTOWN                        AIRY ST & SWEDE ST  2015-12-10    \n",
       "4   LOWER POTTSGROVE                  CHERRYWOOD CT & DEAD END  2015-12-10    \n",
       "5           LANSDALE                     CANNON AVE & W 9TH ST  2015-12-10    \n",
       "6            HORSHAM                  LAUREL AVE & OAKDALE AVE  2015-12-10    \n",
       "7           SKIPPACK              COLLEGEVILLE RD & LYWISKI RD  2015-12-10    \n",
       "8      LOWER SALFORD             MAIN ST & OLD SUMNEYTOWN PIKE  2015-12-10    \n",
       "9           PLYMOUTH  BLUEROUTE  & RAMP I476 NB TO CHEMICAL RD  2015-12-10    \n",
       "\n",
       "       time  \n",
       "0  17:10:52  \n",
       "1  17:29:21  \n",
       "2  14:39:21  \n",
       "3  16:47:36  \n",
       "4  16:56:52  \n",
       "5  15:39:04  \n",
       "6  16:46:48  \n",
       "7  16:17:05  \n",
       "8  16:51:42  \n",
       "9  17:35:41  "
      ]
     },
     "execution_count": 43,
     "metadata": {},
     "output_type": "execute_result"
    }
   ],
   "source": [
    "#separate timeStamp data into 2 new columns\n",
    "df['date'] = df.timeStamp.str[0:11]\n",
    "df['time'] = df.timeStamp.str[-8:]\n",
    "\n",
    "#Get rid of dummy 'e' column and 'timeStamp' column\n",
    "del df['e']\n",
    "del df['timeStamp']\n",
    "#If time at end, then try to extract station number and impute\n",
    "del df['desc']\n",
    "\n",
    "#sample of dataset\n",
    "df.head(10)"
   ]
  },
  {
   "cell_type": "code",
   "execution_count": 44,
   "metadata": {
    "collapsed": false
   },
   "outputs": [
    {
     "data": {
      "text/plain": [
       "lat      177755\n",
       "lng      177755\n",
       "zip      155957\n",
       "title    177755\n",
       "twp      177694\n",
       "addr     177755\n",
       "date     177755\n",
       "time     177755\n",
       "dtype: int64"
      ]
     },
     "execution_count": 44,
     "metadata": {},
     "output_type": "execute_result"
    }
   ],
   "source": [
    "#count number of values in each column\n",
    "df.count()"
   ]
  },
  {
   "cell_type": "code",
   "execution_count": 45,
   "metadata": {
    "collapsed": false
   },
   "outputs": [
    {
     "data": {
      "text/plain": [
       "21822"
      ]
     },
     "execution_count": 45,
     "metadata": {},
     "output_type": "execute_result"
    }
   ],
   "source": [
    "#Finds total number of rows with missing values \n",
    "#Rows with more than one missing value only counted once\n",
    "df.isnull().any(axis=1).sum()"
   ]
  },
  {
   "cell_type": "code",
   "execution_count": 46,
   "metadata": {
    "collapsed": false
   },
   "outputs": [
    {
     "data": {
      "text/plain": [
       "lat      155957\n",
       "lng      155957\n",
       "zip      155957\n",
       "title    155957\n",
       "twp      155933\n",
       "addr     155957\n",
       "date     155957\n",
       "time     155957\n",
       "dtype: int64"
      ]
     },
     "execution_count": 46,
     "metadata": {},
     "output_type": "execute_result"
    }
   ],
   "source": [
    "#Drop rows with missing zipcode values\n",
    "df = df.dropna(subset=['zip'])\n",
    "\n",
    "#Convert float values for zipcodes to integer type\n",
    "df['zip'] = df['zip'].astype(int)\n",
    "df.count()"
   ]
  },
  {
   "cell_type": "code",
   "execution_count": 47,
   "metadata": {
    "collapsed": false
   },
   "outputs": [
    {
     "name": "stdout",
     "output_type": "stream",
     "text": [
      "UPPER MORELAND\n",
      "WARRINGTON\n",
      "NORRISTOWN\n",
      "NORRISTOWN\n",
      "MONTGOMERY\n",
      "UPPER MERION\n",
      "TOWAMENCIN\n",
      "HATBORO\n",
      "HORSHAM\n",
      "HATFIELD\n",
      "JENKINTOWN\n",
      "LOWER MERION\n",
      "FRANCONIA\n",
      "HATBORO\n",
      "POTTSTOWN\n",
      "SKIPPACK\n",
      "SKIPPACK\n",
      "UPPER MORELAND\n",
      "NORRISTOWN\n",
      "NORRISTOWN\n",
      "UPPER SALFORD\n",
      "SPRINGFIELD\n",
      "UPPER MERION\n",
      "UPPER PROVIDENCE\n"
     ]
    }
   ],
   "source": [
    "empty = np.where(pd.isnull(df))\n",
    "geolocator = Nominatim()\n",
    "index = 0\n",
    "\n",
    "\n",
    "#Impute 24 missing township values\n",
    "for i in np.nditer(empty):\n",
    "    \n",
    "    #row of missing township cell\n",
    "    row = empty[0][index] \n",
    "    #column of missing township cell\n",
    "    column = empty[1][index]\n",
    "    \n",
    "    \n",
    "    temp_lat = repr(df.iloc[row,0])\n",
    "    temp_long = repr(df.iloc[row,1])\n",
    "    \n",
    "    \n",
    "    location = geolocator.reverse([temp_lat, temp_long], timeout = 60)\n",
    "    \n",
    "    if column == 4:\n",
    "        \n",
    "    \n",
    "        #extract township value from location dictionary\n",
    "        town = location.raw['address']['city'] \n",
    "    \n",
    "    \n",
    "        #remove 'Township' ending from name of town    \n",
    "        if town.endswith(\"Township\"):\n",
    "            town = town[0:-9]\n",
    "            \n",
    "        else:\n",
    "            pass\n",
    "                \n",
    "        #convert to uppercase to maintain township format in dataframe    \n",
    "        town = town.upper()\n",
    "    \n",
    "        #put imputed township name into corresponding missing cell of dataframe\n",
    "        df.iloc[row, column] = town\n",
    "    \n",
    "        print(df.iloc[row, column])\n",
    "        \n",
    "    else:\n",
    "        \n",
    "        pass\n",
    "        \n",
    "        #Elected to comment out code to impute missing zipcodes because it would take too long (approx. 4-6 hrs.)\n",
    "        #zcode = location.raw['address']['postcode']\n",
    "        \n",
    "        #df.iloc[row, column] = zcode\n",
    "        \n",
    "        #print(df.iloc[row, column])\n",
    "    \n",
    "        \n",
    "    #increment index to get to next set of index values for empty township cell\n",
    "    index += 1"
   ]
  },
  {
   "cell_type": "code",
   "execution_count": 48,
   "metadata": {
    "collapsed": false
   },
   "outputs": [
    {
     "data": {
      "text/plain": [
       "lat      155957\n",
       "lng      155957\n",
       "zip      155957\n",
       "title    155957\n",
       "twp      155957\n",
       "addr     155957\n",
       "date     155957\n",
       "time     155957\n",
       "dtype: int64"
      ]
     },
     "execution_count": 48,
     "metadata": {},
     "output_type": "execute_result"
    }
   ],
   "source": [
    "df.count()"
   ]
  },
  {
   "cell_type": "code",
   "execution_count": 49,
   "metadata": {
    "collapsed": false
   },
   "outputs": [],
   "source": [
    "hour = df.time.str[0:2]\n",
    "hour2 = pd.to_numeric(hour)\n",
    "\n",
    "#If time of call is between 6PM and 6AM then it is classified as 'night', otherwise it is classified as 'day'\n",
    "\n",
    "for i, row in df.iterrows():\n",
    "    if(hour2.loc[i] >= 18 or hour2.loc[i] < 6):\n",
    "        hour.at[i] = 'night'\n",
    "    else:\n",
    "        hour.at[i] = 'day'\n"
   ]
  },
  {
   "cell_type": "code",
   "execution_count": 50,
   "metadata": {
    "collapsed": false
   },
   "outputs": [],
   "source": [
    "#Replace military time with either 'night' or 'day'\n",
    "del df['time']\n",
    "\n",
    "df['time_of_day'] = hour\n",
    "\n",
    "#df.head(10)   "
   ]
  },
  {
   "cell_type": "code",
   "execution_count": 51,
   "metadata": {
    "collapsed": false
   },
   "outputs": [],
   "source": [
    "#Change date format to weekdays format\n",
    "df['dates'] = pd.to_datetime(df['date'])\n",
    "df['weekday'] = df['dates'].dt.weekday_name\n",
    "\n",
    "del df['date']\n",
    "del df['dates']"
   ]
  },
  {
   "cell_type": "code",
   "execution_count": 52,
   "metadata": {
    "collapsed": false
   },
   "outputs": [],
   "source": [
    "#Separate first part of 911 call classification from rest of title\n",
    "df['class'], df['title2'] = df['title'].str.split(':', 1).str\n",
    "del df['title']\n",
    "del df['title2']\n"
   ]
  },
  {
   "cell_type": "code",
   "execution_count": 53,
   "metadata": {
    "collapsed": false
   },
   "outputs": [
    {
     "data": {
      "text/html": [
       "<div>\n",
       "<table border=\"1\" class=\"dataframe\">\n",
       "  <thead>\n",
       "    <tr style=\"text-align: right;\">\n",
       "      <th></th>\n",
       "      <th>lat</th>\n",
       "      <th>lng</th>\n",
       "      <th>zip</th>\n",
       "      <th>twp</th>\n",
       "      <th>addr</th>\n",
       "      <th>time_of_day</th>\n",
       "      <th>weekday</th>\n",
       "      <th>class</th>\n",
       "    </tr>\n",
       "  </thead>\n",
       "  <tbody>\n",
       "    <tr>\n",
       "      <th>0</th>\n",
       "      <td>40.297876</td>\n",
       "      <td>-75.581294</td>\n",
       "      <td>19525</td>\n",
       "      <td>NEW HANOVER</td>\n",
       "      <td>REINDEER CT &amp; DEAD END</td>\n",
       "      <td>day</td>\n",
       "      <td>Thursday</td>\n",
       "      <td>EMS</td>\n",
       "    </tr>\n",
       "    <tr>\n",
       "      <th>1</th>\n",
       "      <td>40.258061</td>\n",
       "      <td>-75.264680</td>\n",
       "      <td>19446</td>\n",
       "      <td>HATFIELD TOWNSHIP</td>\n",
       "      <td>BRIAR PATH &amp; WHITEMARSH LN</td>\n",
       "      <td>day</td>\n",
       "      <td>Thursday</td>\n",
       "      <td>EMS</td>\n",
       "    </tr>\n",
       "    <tr>\n",
       "      <th>2</th>\n",
       "      <td>40.121182</td>\n",
       "      <td>-75.351975</td>\n",
       "      <td>19401</td>\n",
       "      <td>NORRISTOWN</td>\n",
       "      <td>HAWS AVE</td>\n",
       "      <td>day</td>\n",
       "      <td>Thursday</td>\n",
       "      <td>Fire</td>\n",
       "    </tr>\n",
       "    <tr>\n",
       "      <th>3</th>\n",
       "      <td>40.116153</td>\n",
       "      <td>-75.343513</td>\n",
       "      <td>19401</td>\n",
       "      <td>NORRISTOWN</td>\n",
       "      <td>AIRY ST &amp; SWEDE ST</td>\n",
       "      <td>day</td>\n",
       "      <td>Thursday</td>\n",
       "      <td>EMS</td>\n",
       "    </tr>\n",
       "    <tr>\n",
       "      <th>5</th>\n",
       "      <td>40.253473</td>\n",
       "      <td>-75.283245</td>\n",
       "      <td>19446</td>\n",
       "      <td>LANSDALE</td>\n",
       "      <td>CANNON AVE &amp; W 9TH ST</td>\n",
       "      <td>day</td>\n",
       "      <td>Thursday</td>\n",
       "      <td>EMS</td>\n",
       "    </tr>\n",
       "    <tr>\n",
       "      <th>6</th>\n",
       "      <td>40.182111</td>\n",
       "      <td>-75.127795</td>\n",
       "      <td>19044</td>\n",
       "      <td>HORSHAM</td>\n",
       "      <td>LAUREL AVE &amp; OAKDALE AVE</td>\n",
       "      <td>day</td>\n",
       "      <td>Thursday</td>\n",
       "      <td>EMS</td>\n",
       "    </tr>\n",
       "    <tr>\n",
       "      <th>7</th>\n",
       "      <td>40.217286</td>\n",
       "      <td>-75.405182</td>\n",
       "      <td>19426</td>\n",
       "      <td>SKIPPACK</td>\n",
       "      <td>COLLEGEVILLE RD &amp; LYWISKI RD</td>\n",
       "      <td>day</td>\n",
       "      <td>Thursday</td>\n",
       "      <td>EMS</td>\n",
       "    </tr>\n",
       "    <tr>\n",
       "      <th>8</th>\n",
       "      <td>40.289027</td>\n",
       "      <td>-75.399590</td>\n",
       "      <td>19438</td>\n",
       "      <td>LOWER SALFORD</td>\n",
       "      <td>MAIN ST &amp; OLD SUMNEYTOWN PIKE</td>\n",
       "      <td>day</td>\n",
       "      <td>Thursday</td>\n",
       "      <td>EMS</td>\n",
       "    </tr>\n",
       "    <tr>\n",
       "      <th>9</th>\n",
       "      <td>40.102398</td>\n",
       "      <td>-75.291458</td>\n",
       "      <td>19462</td>\n",
       "      <td>PLYMOUTH</td>\n",
       "      <td>BLUEROUTE  &amp; RAMP I476 NB TO CHEMICAL RD</td>\n",
       "      <td>day</td>\n",
       "      <td>Thursday</td>\n",
       "      <td>Traffic</td>\n",
       "    </tr>\n",
       "    <tr>\n",
       "      <th>11</th>\n",
       "      <td>40.084161</td>\n",
       "      <td>-75.308386</td>\n",
       "      <td>19428</td>\n",
       "      <td>PLYMOUTH</td>\n",
       "      <td>BROOK RD &amp; COLWELL LN</td>\n",
       "      <td>day</td>\n",
       "      <td>Thursday</td>\n",
       "      <td>Traffic</td>\n",
       "    </tr>\n",
       "  </tbody>\n",
       "</table>\n",
       "</div>"
      ],
      "text/plain": [
       "          lat        lng    zip                twp  \\\n",
       "0   40.297876 -75.581294  19525        NEW HANOVER   \n",
       "1   40.258061 -75.264680  19446  HATFIELD TOWNSHIP   \n",
       "2   40.121182 -75.351975  19401         NORRISTOWN   \n",
       "3   40.116153 -75.343513  19401         NORRISTOWN   \n",
       "5   40.253473 -75.283245  19446           LANSDALE   \n",
       "6   40.182111 -75.127795  19044            HORSHAM   \n",
       "7   40.217286 -75.405182  19426           SKIPPACK   \n",
       "8   40.289027 -75.399590  19438      LOWER SALFORD   \n",
       "9   40.102398 -75.291458  19462           PLYMOUTH   \n",
       "11  40.084161 -75.308386  19428           PLYMOUTH   \n",
       "\n",
       "                                        addr time_of_day   weekday    class  \n",
       "0                     REINDEER CT & DEAD END         day  Thursday      EMS  \n",
       "1                 BRIAR PATH & WHITEMARSH LN         day  Thursday      EMS  \n",
       "2                                   HAWS AVE         day  Thursday     Fire  \n",
       "3                         AIRY ST & SWEDE ST         day  Thursday      EMS  \n",
       "5                      CANNON AVE & W 9TH ST         day  Thursday      EMS  \n",
       "6                   LAUREL AVE & OAKDALE AVE         day  Thursday      EMS  \n",
       "7               COLLEGEVILLE RD & LYWISKI RD         day  Thursday      EMS  \n",
       "8              MAIN ST & OLD SUMNEYTOWN PIKE         day  Thursday      EMS  \n",
       "9   BLUEROUTE  & RAMP I476 NB TO CHEMICAL RD         day  Thursday  Traffic  \n",
       "11                     BROOK RD & COLWELL LN         day  Thursday  Traffic  "
      ]
     },
     "execution_count": 53,
     "metadata": {},
     "output_type": "execute_result"
    }
   ],
   "source": [
    "df.head(10)"
   ]
  },
  {
   "cell_type": "code",
   "execution_count": 54,
   "metadata": {
    "collapsed": false
   },
   "outputs": [
    {
     "data": {
      "text/plain": [
       "array([19525, 19446, 19401, 19044, 19426, 19438, 19462, 19428, 19040,\n",
       "       19027, 18936, 18974, 19031, 19403, 19422, 19085, 18964, 19038,\n",
       "       19406, 19468, 19010, 19095, 19464, 19444, 19041, 19440, 19405,\n",
       "       19002, 19096, 19454, 19465, 19004, 19066, 19072, 18041, 19046,\n",
       "       19090, 19012, 19025, 19473, 18073, 18969, 18074, 19460, 19001,\n",
       "       18054, 19009, 19006, 19035, 19150, 19075, 19034, 19151, 19453,\n",
       "       19003, 18914, 19512, 18976, 19120, 18915, 18076, 19477, 19087,\n",
       "       18966, 19131, 19128, 19083, 19053, 19475, 18960, 19504, 18070,\n",
       "       19492, 18932, 19118, 18092, 19490, 19518, 18056, 19119, 19107,\n",
       "       17752, 19111, 18927, 19435, 18951, 19472, 19503, 19126, 19505,\n",
       "       19423, 19138, 36107, 18036, 19116, 19139, 19129, 19115, 19355,\n",
       "       77316, 19457, 19082, 19127, 19443, 17555, 19520, 19063, 19020, 19404], dtype=int64)"
      ]
     },
     "execution_count": 54,
     "metadata": {},
     "output_type": "execute_result"
    }
   ],
   "source": [
    "#unique zipcodes in the dataset\n",
    "df.zip.unique()"
   ]
  },
  {
   "cell_type": "code",
   "execution_count": 55,
   "metadata": {
    "collapsed": false
   },
   "outputs": [
    {
     "name": "stdout",
     "output_type": "stream",
     "text": [
      "109\n"
     ]
    }
   ],
   "source": [
    "#find the number of unique zipcodes\n",
    "s = Series(df.zip)\n",
    "zip_unique = s.unique().size\n",
    "print(zip_unique)"
   ]
  },
  {
   "cell_type": "code",
   "execution_count": 56,
   "metadata": {
    "collapsed": false
   },
   "outputs": [
    {
     "data": {
      "text/plain": [
       "array(['NEW HANOVER', 'HATFIELD TOWNSHIP', 'NORRISTOWN', 'LANSDALE',\n",
       "       'HORSHAM', 'SKIPPACK', 'LOWER SALFORD', 'PLYMOUTH',\n",
       "       'UPPER MORELAND', 'CHELTENHAM', 'MONTGOMERY', 'WHITEMARSH',\n",
       "       'UPPER GWYNEDD', 'LOWER PROVIDENCE', 'WHITPAIN', 'DELAWARE COUNTY',\n",
       "       'FRANCONIA', 'WEST CONSHOHOCKEN', 'UPPER MERION', 'LIMERICK',\n",
       "       'DOUGLASS', 'LOWER MERION', 'POTTSTOWN', 'BRIDGEPORT', 'TOWAMENCIN',\n",
       "       'AMBLER', 'LOWER POTTSGROVE', 'CHESTER COUNTY', 'UPPER HANOVER',\n",
       "       'SPRINGFIELD', 'ROCKLEDGE', 'ABINGTON', 'WEST NORRITON',\n",
       "       'ROYERSFORD', 'UPPER DUBLIN', 'UPPER SALFORD', 'CONSHOHOCKEN',\n",
       "       'PENNSBURG', 'TELFORD', 'EAST NORRITON', 'UPPER FREDERICK',\n",
       "       'UPPER PROVIDENCE', 'SALFORD', 'LEHIGH COUNTY', 'MARLBOROUGH',\n",
       "       'BRYN ATHYN', 'LOWER MORELAND', 'HATBORO', 'LOWER GWYNEDD',\n",
       "       'WORCESTER', 'COLLEGEVILLE', 'SCHWENKSVILLE', 'SOUDERTON',\n",
       "       'PERKIOMEN', 'LOWER FREDERICK', 'BUCKS COUNTY', 'RED HILL',\n",
       "       'WEST POTTSGROVE', 'UPPER POTTSGROVE', 'EAST GREENVILLE',\n",
       "       'NORTH WALES', 'JENKINTOWN', 'TRAPPE', 'NARBERTH', 'BERKS COUNTY',\n",
       "       'GREEN LANE', u'WARRINGTON', 'PHILA COUNTY', u'HATFIELD',\n",
       "       'HATFIELD BORO'], dtype=object)"
      ]
     },
     "execution_count": 56,
     "metadata": {},
     "output_type": "execute_result"
    }
   ],
   "source": [
    "#unique townships in the dataset\n",
    "df.twp.unique()"
   ]
  },
  {
   "cell_type": "code",
   "execution_count": 57,
   "metadata": {
    "collapsed": false
   },
   "outputs": [
    {
     "name": "stdout",
     "output_type": "stream",
     "text": [
      "70\n"
     ]
    }
   ],
   "source": [
    "#find the number of unique townships\n",
    "s2 = Series(df.twp)\n",
    "twp_unique = s2.unique().size\n",
    "print(twp_unique)"
   ]
  },
  {
   "cell_type": "code",
   "execution_count": 58,
   "metadata": {
    "collapsed": false
   },
   "outputs": [
    {
     "data": {
      "text/plain": [
       "25162"
      ]
     },
     "execution_count": 58,
     "metadata": {},
     "output_type": "execute_result"
    }
   ],
   "source": [
    "#find the number of unique address locations\n",
    "s4 = Series(df.addr)\n",
    "s4.unique().size"
   ]
  },
  {
   "cell_type": "code",
   "execution_count": 59,
   "metadata": {
    "collapsed": false
   },
   "outputs": [
    {
     "data": {
      "text/plain": [
       "16968"
      ]
     },
     "execution_count": 59,
     "metadata": {},
     "output_type": "execute_result"
    }
   ],
   "source": [
    "sLat = Series(df.lat)\n",
    "sLat.unique().size"
   ]
  },
  {
   "cell_type": "code",
   "execution_count": 60,
   "metadata": {
    "collapsed": false
   },
   "outputs": [
    {
     "data": {
      "text/plain": [
       "16992"
      ]
     },
     "execution_count": 60,
     "metadata": {},
     "output_type": "execute_result"
    }
   ],
   "source": [
    "sLong = Series(df.lng)\n",
    "sLong.unique().size"
   ]
  },
  {
   "cell_type": "code",
   "execution_count": 61,
   "metadata": {
    "collapsed": false
   },
   "outputs": [],
   "source": [
    "#find max, min latitudes and longitudes\n",
    "#sLat.max()\n",
    "#sLat.min()\n",
    "#sLong.max()\n",
    "#sLong.min()"
   ]
  },
  {
   "cell_type": "code",
   "execution_count": 62,
   "metadata": {
    "collapsed": true
   },
   "outputs": [],
   "source": [
    "#Change string data to label encoded integers for RandomForestClassifier()\n",
    "le_dow = preprocessing.LabelEncoder()\n",
    "le_tod = preprocessing.LabelEncoder()\n",
    "le_addr = preprocessing.LabelEncoder()\n",
    "le_twp = preprocessing.LabelEncoder()\n",
    "le_class = preprocessing.LabelEncoder()\n",
    "\n",
    "le_dow = le_dow.fit_transform(df['weekday'])\n",
    "le_tod = le_tod.fit_transform(df['time_of_day'])\n",
    "le_addr = le_addr.fit_transform(df['addr'])\n",
    "le_twp = le_twp.fit_transform(df['twp'])\n",
    "le_class = le_class.fit_transform(df['class'])"
   ]
  },
  {
   "cell_type": "code",
   "execution_count": 63,
   "metadata": {
    "collapsed": false
   },
   "outputs": [
    {
     "data": {
      "text/html": [
       "<div>\n",
       "<table border=\"1\" class=\"dataframe\">\n",
       "  <thead>\n",
       "    <tr style=\"text-align: right;\">\n",
       "      <th></th>\n",
       "      <th>lat</th>\n",
       "      <th>lng</th>\n",
       "      <th>zip</th>\n",
       "      <th>weekday</th>\n",
       "      <th>time_of_day</th>\n",
       "      <th>addr</th>\n",
       "      <th>twp</th>\n",
       "      <th>class</th>\n",
       "    </tr>\n",
       "  </thead>\n",
       "  <tbody>\n",
       "    <tr>\n",
       "      <th>0</th>\n",
       "      <td>40.297876</td>\n",
       "      <td>-75.581294</td>\n",
       "      <td>19525</td>\n",
       "      <td>4</td>\n",
       "      <td>0</td>\n",
       "      <td>18187</td>\n",
       "      <td>35</td>\n",
       "      <td>0</td>\n",
       "    </tr>\n",
       "    <tr>\n",
       "      <th>1</th>\n",
       "      <td>40.258061</td>\n",
       "      <td>-75.264680</td>\n",
       "      <td>19446</td>\n",
       "      <td>4</td>\n",
       "      <td>0</td>\n",
       "      <td>2398</td>\n",
       "      <td>19</td>\n",
       "      <td>0</td>\n",
       "    </tr>\n",
       "    <tr>\n",
       "      <th>2</th>\n",
       "      <td>40.121182</td>\n",
       "      <td>-75.351975</td>\n",
       "      <td>19401</td>\n",
       "      <td>4</td>\n",
       "      <td>0</td>\n",
       "      <td>9768</td>\n",
       "      <td>36</td>\n",
       "      <td>1</td>\n",
       "    </tr>\n",
       "    <tr>\n",
       "      <th>3</th>\n",
       "      <td>40.116153</td>\n",
       "      <td>-75.343513</td>\n",
       "      <td>19401</td>\n",
       "      <td>4</td>\n",
       "      <td>0</td>\n",
       "      <td>615</td>\n",
       "      <td>36</td>\n",
       "      <td>0</td>\n",
       "    </tr>\n",
       "    <tr>\n",
       "      <th>5</th>\n",
       "      <td>40.253473</td>\n",
       "      <td>-75.283245</td>\n",
       "      <td>19446</td>\n",
       "      <td>4</td>\n",
       "      <td>0</td>\n",
       "      <td>3245</td>\n",
       "      <td>22</td>\n",
       "      <td>0</td>\n",
       "    </tr>\n",
       "    <tr>\n",
       "      <th>6</th>\n",
       "      <td>40.182111</td>\n",
       "      <td>-75.127795</td>\n",
       "      <td>19044</td>\n",
       "      <td>4</td>\n",
       "      <td>0</td>\n",
       "      <td>12164</td>\n",
       "      <td>20</td>\n",
       "      <td>0</td>\n",
       "    </tr>\n",
       "    <tr>\n",
       "      <th>7</th>\n",
       "      <td>40.217286</td>\n",
       "      <td>-75.405182</td>\n",
       "      <td>19426</td>\n",
       "      <td>4</td>\n",
       "      <td>0</td>\n",
       "      <td>4540</td>\n",
       "      <td>48</td>\n",
       "      <td>0</td>\n",
       "    </tr>\n",
       "    <tr>\n",
       "      <th>8</th>\n",
       "      <td>40.289027</td>\n",
       "      <td>-75.399590</td>\n",
       "      <td>19438</td>\n",
       "      <td>4</td>\n",
       "      <td>0</td>\n",
       "      <td>13272</td>\n",
       "      <td>31</td>\n",
       "      <td>0</td>\n",
       "    </tr>\n",
       "    <tr>\n",
       "      <th>9</th>\n",
       "      <td>40.102398</td>\n",
       "      <td>-75.291458</td>\n",
       "      <td>19462</td>\n",
       "      <td>4</td>\n",
       "      <td>0</td>\n",
       "      <td>2201</td>\n",
       "      <td>41</td>\n",
       "      <td>2</td>\n",
       "    </tr>\n",
       "    <tr>\n",
       "      <th>11</th>\n",
       "      <td>40.084161</td>\n",
       "      <td>-75.308386</td>\n",
       "      <td>19428</td>\n",
       "      <td>4</td>\n",
       "      <td>0</td>\n",
       "      <td>2606</td>\n",
       "      <td>41</td>\n",
       "      <td>2</td>\n",
       "    </tr>\n",
       "  </tbody>\n",
       "</table>\n",
       "</div>"
      ],
      "text/plain": [
       "          lat        lng    zip  weekday  time_of_day   addr  twp  class\n",
       "0   40.297876 -75.581294  19525        4            0  18187   35      0\n",
       "1   40.258061 -75.264680  19446        4            0   2398   19      0\n",
       "2   40.121182 -75.351975  19401        4            0   9768   36      1\n",
       "3   40.116153 -75.343513  19401        4            0    615   36      0\n",
       "5   40.253473 -75.283245  19446        4            0   3245   22      0\n",
       "6   40.182111 -75.127795  19044        4            0  12164   20      0\n",
       "7   40.217286 -75.405182  19426        4            0   4540   48      0\n",
       "8   40.289027 -75.399590  19438        4            0  13272   31      0\n",
       "9   40.102398 -75.291458  19462        4            0   2201   41      2\n",
       "11  40.084161 -75.308386  19428        4            0   2606   41      2"
      ]
     },
     "execution_count": 63,
     "metadata": {},
     "output_type": "execute_result"
    }
   ],
   "source": [
    "#Create copy of dataframe\n",
    "df2 = df\n",
    "\n",
    "#Delete old columns with string values and replace with new label encoded columns\n",
    "del df2['weekday']\n",
    "del df2['time_of_day']\n",
    "del df2['addr']\n",
    "del df2['twp']\n",
    "del df2['class']\n",
    "\n",
    "\n",
    "df2['weekday'] = le_dow\n",
    "df2['time_of_day'] = le_tod\n",
    "df2['addr'] = le_addr\n",
    "df2['twp'] = le_twp\n",
    "df2['class'] = le_class\n",
    "\n",
    "df2.head(10)"
   ]
  },
  {
   "cell_type": "code",
   "execution_count": 70,
   "metadata": {
    "collapsed": false
   },
   "outputs": [],
   "source": [
    "x = df[['lat', 'lng', 'zip', 'twp', 'addr', 'time_of_day', 'weekday']].copy()\n",
    "y = df[['class']].copy()\n",
    "x_train, x_test, y_train, y_test = train_test_split(x, y, stratify=y, random_state=30)"
   ]
  },
  {
   "cell_type": "code",
   "execution_count": 71,
   "metadata": {
    "collapsed": false
   },
   "outputs": [
    {
     "data": {
      "text/html": [
       "<div>\n",
       "<table border=\"1\" class=\"dataframe\">\n",
       "  <thead>\n",
       "    <tr style=\"text-align: right;\">\n",
       "      <th></th>\n",
       "      <th>lat</th>\n",
       "      <th>lng</th>\n",
       "      <th>zip</th>\n",
       "      <th>twp</th>\n",
       "      <th>addr</th>\n",
       "      <th>time_of_day</th>\n",
       "      <th>weekday</th>\n",
       "    </tr>\n",
       "  </thead>\n",
       "  <tbody>\n",
       "    <tr>\n",
       "      <th>0</th>\n",
       "      <td>40.297876</td>\n",
       "      <td>-75.581294</td>\n",
       "      <td>19525</td>\n",
       "      <td>35</td>\n",
       "      <td>18187</td>\n",
       "      <td>0</td>\n",
       "      <td>4</td>\n",
       "    </tr>\n",
       "    <tr>\n",
       "      <th>1</th>\n",
       "      <td>40.258061</td>\n",
       "      <td>-75.264680</td>\n",
       "      <td>19446</td>\n",
       "      <td>19</td>\n",
       "      <td>2398</td>\n",
       "      <td>0</td>\n",
       "      <td>4</td>\n",
       "    </tr>\n",
       "    <tr>\n",
       "      <th>2</th>\n",
       "      <td>40.121182</td>\n",
       "      <td>-75.351975</td>\n",
       "      <td>19401</td>\n",
       "      <td>36</td>\n",
       "      <td>9768</td>\n",
       "      <td>0</td>\n",
       "      <td>4</td>\n",
       "    </tr>\n",
       "    <tr>\n",
       "      <th>3</th>\n",
       "      <td>40.116153</td>\n",
       "      <td>-75.343513</td>\n",
       "      <td>19401</td>\n",
       "      <td>36</td>\n",
       "      <td>615</td>\n",
       "      <td>0</td>\n",
       "      <td>4</td>\n",
       "    </tr>\n",
       "    <tr>\n",
       "      <th>5</th>\n",
       "      <td>40.253473</td>\n",
       "      <td>-75.283245</td>\n",
       "      <td>19446</td>\n",
       "      <td>22</td>\n",
       "      <td>3245</td>\n",
       "      <td>0</td>\n",
       "      <td>4</td>\n",
       "    </tr>\n",
       "  </tbody>\n",
       "</table>\n",
       "</div>"
      ],
      "text/plain": [
       "         lat        lng    zip  twp   addr  time_of_day  weekday\n",
       "0  40.297876 -75.581294  19525   35  18187            0        4\n",
       "1  40.258061 -75.264680  19446   19   2398            0        4\n",
       "2  40.121182 -75.351975  19401   36   9768            0        4\n",
       "3  40.116153 -75.343513  19401   36    615            0        4\n",
       "5  40.253473 -75.283245  19446   22   3245            0        4"
      ]
     },
     "execution_count": 71,
     "metadata": {},
     "output_type": "execute_result"
    }
   ],
   "source": [
    "x.head()"
   ]
  },
  {
   "cell_type": "code",
   "execution_count": 79,
   "metadata": {
    "collapsed": false
   },
   "outputs": [
    {
     "data": {
      "text/html": [
       "<div>\n",
       "<table border=\"1\" class=\"dataframe\">\n",
       "  <thead>\n",
       "    <tr style=\"text-align: right;\">\n",
       "      <th></th>\n",
       "      <th>class</th>\n",
       "    </tr>\n",
       "  </thead>\n",
       "  <tbody>\n",
       "    <tr>\n",
       "      <th>0</th>\n",
       "      <td>0</td>\n",
       "    </tr>\n",
       "    <tr>\n",
       "      <th>1</th>\n",
       "      <td>0</td>\n",
       "    </tr>\n",
       "    <tr>\n",
       "      <th>2</th>\n",
       "      <td>1</td>\n",
       "    </tr>\n",
       "    <tr>\n",
       "      <th>3</th>\n",
       "      <td>0</td>\n",
       "    </tr>\n",
       "    <tr>\n",
       "      <th>5</th>\n",
       "      <td>0</td>\n",
       "    </tr>\n",
       "  </tbody>\n",
       "</table>\n",
       "</div>"
      ],
      "text/plain": [
       "   class\n",
       "0      0\n",
       "1      0\n",
       "2      1\n",
       "3      0\n",
       "5      0"
      ]
     },
     "execution_count": 79,
     "metadata": {},
     "output_type": "execute_result"
    }
   ],
   "source": [
    "y.head()"
   ]
  },
  {
   "cell_type": "code",
   "execution_count": 84,
   "metadata": {
    "collapsed": false
   },
   "outputs": [
    {
     "data": {
      "text/plain": [
       "BaggingClassifier(base_estimator=None, bootstrap=True,\n",
       "         bootstrap_features=False, max_features=7, max_samples=1.0,\n",
       "         n_estimators=100, n_jobs=1, oob_score=False, random_state=0,\n",
       "         verbose=0, warm_start=False)"
      ]
     },
     "execution_count": 84,
     "metadata": {},
     "output_type": "execute_result"
    }
   ],
   "source": [
    "bag = BaggingClassifier(base_estimator=None, max_features=7, n_estimators=100, random_state=0)\n",
    "bag.fit(x_train, y_train.values.ravel())"
   ]
  },
  {
   "cell_type": "code",
   "execution_count": 85,
   "metadata": {
    "collapsed": false
   },
   "outputs": [
    {
     "name": "stdout",
     "output_type": "stream",
     "text": [
      "Accuracy on training set: 0.877\n",
      "Accuracy on test set: 0.650\n"
     ]
    }
   ],
   "source": [
    "print(\"Accuracy on training set: {:.3f}\".format(bag.score(x_train, y_train)))\n",
    "print(\"Accuracy on test set: {:.3f}\".format(bag.score(x_test, y_test)))"
   ]
  },
  {
   "cell_type": "code",
   "execution_count": null,
   "metadata": {
    "collapsed": true
   },
   "outputs": [],
   "source": []
  }
 ],
 "metadata": {
  "kernelspec": {
   "display_name": "Python 2",
   "language": "python",
   "name": "python2"
  },
  "language_info": {
   "codemirror_mode": {
    "name": "ipython",
    "version": 2
   },
   "file_extension": ".py",
   "mimetype": "text/x-python",
   "name": "python",
   "nbconvert_exporter": "python",
   "pygments_lexer": "ipython2",
   "version": "2.7.13"
  }
 },
 "nbformat": 4,
 "nbformat_minor": 2
}
