{
 "cells": [
  {
   "cell_type": "code",
   "execution_count": 1,
   "metadata": {
    "collapsed": false
   },
   "outputs": [
    {
     "data": {
      "text/html": [
       "<div>\n",
       "<table border=\"1\" class=\"dataframe\">\n",
       "  <thead>\n",
       "    <tr style=\"text-align: right;\">\n",
       "      <th></th>\n",
       "      <th>lat</th>\n",
       "      <th>lng</th>\n",
       "      <th>desc</th>\n",
       "      <th>zip</th>\n",
       "      <th>title</th>\n",
       "      <th>timeStamp</th>\n",
       "      <th>twp</th>\n",
       "      <th>addr</th>\n",
       "      <th>e</th>\n",
       "    </tr>\n",
       "  </thead>\n",
       "  <tbody>\n",
       "    <tr>\n",
       "      <th>0</th>\n",
       "      <td>40.297876</td>\n",
       "      <td>-75.581294</td>\n",
       "      <td>REINDEER CT &amp; DEAD END;  NEW HANOVER; Station ...</td>\n",
       "      <td>19525.0</td>\n",
       "      <td>EMS: BACK PAINS/INJURY</td>\n",
       "      <td>2015-12-10 17:10:52</td>\n",
       "      <td>NEW HANOVER</td>\n",
       "      <td>REINDEER CT &amp; DEAD END</td>\n",
       "      <td>1</td>\n",
       "    </tr>\n",
       "    <tr>\n",
       "      <th>1</th>\n",
       "      <td>40.258061</td>\n",
       "      <td>-75.264680</td>\n",
       "      <td>BRIAR PATH &amp; WHITEMARSH LN;  HATFIELD TOWNSHIP...</td>\n",
       "      <td>19446.0</td>\n",
       "      <td>EMS: DIABETIC EMERGENCY</td>\n",
       "      <td>2015-12-10 17:29:21</td>\n",
       "      <td>HATFIELD TOWNSHIP</td>\n",
       "      <td>BRIAR PATH &amp; WHITEMARSH LN</td>\n",
       "      <td>1</td>\n",
       "    </tr>\n",
       "    <tr>\n",
       "      <th>2</th>\n",
       "      <td>40.121182</td>\n",
       "      <td>-75.351975</td>\n",
       "      <td>HAWS AVE; NORRISTOWN; 2015-12-10 @ 14:39:21-St...</td>\n",
       "      <td>19401.0</td>\n",
       "      <td>Fire: GAS-ODOR/LEAK</td>\n",
       "      <td>2015-12-10 14:39:21</td>\n",
       "      <td>NORRISTOWN</td>\n",
       "      <td>HAWS AVE</td>\n",
       "      <td>1</td>\n",
       "    </tr>\n",
       "    <tr>\n",
       "      <th>3</th>\n",
       "      <td>40.116153</td>\n",
       "      <td>-75.343513</td>\n",
       "      <td>AIRY ST &amp; SWEDE ST;  NORRISTOWN; Station 308A;...</td>\n",
       "      <td>19401.0</td>\n",
       "      <td>EMS: CARDIAC EMERGENCY</td>\n",
       "      <td>2015-12-10 16:47:36</td>\n",
       "      <td>NORRISTOWN</td>\n",
       "      <td>AIRY ST &amp; SWEDE ST</td>\n",
       "      <td>1</td>\n",
       "    </tr>\n",
       "    <tr>\n",
       "      <th>4</th>\n",
       "      <td>40.251492</td>\n",
       "      <td>-75.603350</td>\n",
       "      <td>CHERRYWOOD CT &amp; DEAD END;  LOWER POTTSGROVE; S...</td>\n",
       "      <td>NaN</td>\n",
       "      <td>EMS: DIZZINESS</td>\n",
       "      <td>2015-12-10 16:56:52</td>\n",
       "      <td>LOWER POTTSGROVE</td>\n",
       "      <td>CHERRYWOOD CT &amp; DEAD END</td>\n",
       "      <td>1</td>\n",
       "    </tr>\n",
       "  </tbody>\n",
       "</table>\n",
       "</div>"
      ],
      "text/plain": [
       "         lat        lng                                               desc  \\\n",
       "0  40.297876 -75.581294  REINDEER CT & DEAD END;  NEW HANOVER; Station ...   \n",
       "1  40.258061 -75.264680  BRIAR PATH & WHITEMARSH LN;  HATFIELD TOWNSHIP...   \n",
       "2  40.121182 -75.351975  HAWS AVE; NORRISTOWN; 2015-12-10 @ 14:39:21-St...   \n",
       "3  40.116153 -75.343513  AIRY ST & SWEDE ST;  NORRISTOWN; Station 308A;...   \n",
       "4  40.251492 -75.603350  CHERRYWOOD CT & DEAD END;  LOWER POTTSGROVE; S...   \n",
       "\n",
       "       zip                    title            timeStamp                twp  \\\n",
       "0  19525.0   EMS: BACK PAINS/INJURY  2015-12-10 17:10:52        NEW HANOVER   \n",
       "1  19446.0  EMS: DIABETIC EMERGENCY  2015-12-10 17:29:21  HATFIELD TOWNSHIP   \n",
       "2  19401.0      Fire: GAS-ODOR/LEAK  2015-12-10 14:39:21         NORRISTOWN   \n",
       "3  19401.0   EMS: CARDIAC EMERGENCY  2015-12-10 16:47:36         NORRISTOWN   \n",
       "4      NaN           EMS: DIZZINESS  2015-12-10 16:56:52   LOWER POTTSGROVE   \n",
       "\n",
       "                         addr  e  \n",
       "0      REINDEER CT & DEAD END  1  \n",
       "1  BRIAR PATH & WHITEMARSH LN  1  \n",
       "2                    HAWS AVE  1  \n",
       "3          AIRY ST & SWEDE ST  1  \n",
       "4    CHERRYWOOD CT & DEAD END  1  "
      ]
     },
     "execution_count": 1,
     "metadata": {},
     "output_type": "execute_result"
    }
   ],
   "source": [
    "import pandas as pd\n",
    "import numpy as np\n",
    "import datetime as dt\n",
    "from pandas import Series\n",
    "from time import sleep\n",
    "import seaborn as sns\n",
    "import matplotlib as mpl\n",
    "import matplotlib.pyplot as plt\n",
    "from geopy.geocoders import Nominatim\n",
    "from sklearn.ensemble import BaggingClassifier\n",
    "from sklearn.model_selection import train_test_split\n",
    "from sklearn import preprocessing\n",
    "from mpl_toolkits.basemap import Basemap\n",
    "%matplotlib inline\n",
    "#importing the dataset using pandas\n",
    "df = pd.read_csv(\"./911.csv\")\n",
    "\n",
    "#sample of original dataset\n",
    "df.head(5)"
   ]
  },
  {
   "cell_type": "code",
<<<<<<< HEAD
   "execution_count": 3,
=======
   "execution_count": 2,
>>>>>>> f6bebd2900176dd67f96e5152c401bb6be88c486
   "metadata": {
    "collapsed": false
   },
   "outputs": [
    {
     "data": {
      "text/html": [
       "<div>\n",
       "<table border=\"1\" class=\"dataframe\">\n",
       "  <thead>\n",
       "    <tr style=\"text-align: right;\">\n",
       "      <th></th>\n",
       "      <th>lat</th>\n",
       "      <th>lng</th>\n",
       "      <th>zip</th>\n",
       "      <th>title</th>\n",
       "      <th>twp</th>\n",
       "      <th>addr</th>\n",
       "      <th>date</th>\n",
       "      <th>time</th>\n",
       "    </tr>\n",
       "  </thead>\n",
       "  <tbody>\n",
       "    <tr>\n",
       "      <th>0</th>\n",
       "      <td>40.297876</td>\n",
       "      <td>-75.581294</td>\n",
       "      <td>19525.0</td>\n",
       "      <td>EMS: BACK PAINS/INJURY</td>\n",
       "      <td>NEW HANOVER</td>\n",
       "      <td>REINDEER CT &amp; DEAD END</td>\n",
       "      <td>2015-12-10</td>\n",
       "      <td>17:10:52</td>\n",
       "    </tr>\n",
       "    <tr>\n",
       "      <th>1</th>\n",
       "      <td>40.258061</td>\n",
       "      <td>-75.264680</td>\n",
       "      <td>19446.0</td>\n",
       "      <td>EMS: DIABETIC EMERGENCY</td>\n",
       "      <td>HATFIELD TOWNSHIP</td>\n",
       "      <td>BRIAR PATH &amp; WHITEMARSH LN</td>\n",
       "      <td>2015-12-10</td>\n",
       "      <td>17:29:21</td>\n",
       "    </tr>\n",
       "    <tr>\n",
       "      <th>2</th>\n",
       "      <td>40.121182</td>\n",
       "      <td>-75.351975</td>\n",
       "      <td>19401.0</td>\n",
       "      <td>Fire: GAS-ODOR/LEAK</td>\n",
       "      <td>NORRISTOWN</td>\n",
       "      <td>HAWS AVE</td>\n",
       "      <td>2015-12-10</td>\n",
       "      <td>14:39:21</td>\n",
       "    </tr>\n",
       "    <tr>\n",
       "      <th>3</th>\n",
       "      <td>40.116153</td>\n",
       "      <td>-75.343513</td>\n",
       "      <td>19401.0</td>\n",
       "      <td>EMS: CARDIAC EMERGENCY</td>\n",
       "      <td>NORRISTOWN</td>\n",
       "      <td>AIRY ST &amp; SWEDE ST</td>\n",
       "      <td>2015-12-10</td>\n",
       "      <td>16:47:36</td>\n",
       "    </tr>\n",
       "    <tr>\n",
       "      <th>4</th>\n",
       "      <td>40.251492</td>\n",
       "      <td>-75.603350</td>\n",
       "      <td>NaN</td>\n",
       "      <td>EMS: DIZZINESS</td>\n",
       "      <td>LOWER POTTSGROVE</td>\n",
       "      <td>CHERRYWOOD CT &amp; DEAD END</td>\n",
       "      <td>2015-12-10</td>\n",
       "      <td>16:56:52</td>\n",
       "    </tr>\n",
       "    <tr>\n",
       "      <th>5</th>\n",
       "      <td>40.253473</td>\n",
       "      <td>-75.283245</td>\n",
       "      <td>19446.0</td>\n",
       "      <td>EMS: HEAD INJURY</td>\n",
       "      <td>LANSDALE</td>\n",
       "      <td>CANNON AVE &amp; W 9TH ST</td>\n",
       "      <td>2015-12-10</td>\n",
       "      <td>15:39:04</td>\n",
       "    </tr>\n",
       "    <tr>\n",
       "      <th>6</th>\n",
       "      <td>40.182111</td>\n",
       "      <td>-75.127795</td>\n",
       "      <td>19044.0</td>\n",
       "      <td>EMS: NAUSEA/VOMITING</td>\n",
       "      <td>HORSHAM</td>\n",
       "      <td>LAUREL AVE &amp; OAKDALE AVE</td>\n",
       "      <td>2015-12-10</td>\n",
       "      <td>16:46:48</td>\n",
       "    </tr>\n",
       "    <tr>\n",
       "      <th>7</th>\n",
       "      <td>40.217286</td>\n",
       "      <td>-75.405182</td>\n",
       "      <td>19426.0</td>\n",
       "      <td>EMS: RESPIRATORY EMERGENCY</td>\n",
       "      <td>SKIPPACK</td>\n",
       "      <td>COLLEGEVILLE RD &amp; LYWISKI RD</td>\n",
       "      <td>2015-12-10</td>\n",
       "      <td>16:17:05</td>\n",
       "    </tr>\n",
       "    <tr>\n",
       "      <th>8</th>\n",
       "      <td>40.289027</td>\n",
       "      <td>-75.399590</td>\n",
       "      <td>19438.0</td>\n",
       "      <td>EMS: SYNCOPAL EPISODE</td>\n",
       "      <td>LOWER SALFORD</td>\n",
       "      <td>MAIN ST &amp; OLD SUMNEYTOWN PIKE</td>\n",
       "      <td>2015-12-10</td>\n",
       "      <td>16:51:42</td>\n",
       "    </tr>\n",
       "    <tr>\n",
       "      <th>9</th>\n",
       "      <td>40.102398</td>\n",
       "      <td>-75.291458</td>\n",
       "      <td>19462.0</td>\n",
       "      <td>Traffic: VEHICLE ACCIDENT -</td>\n",
       "      <td>PLYMOUTH</td>\n",
       "      <td>BLUEROUTE  &amp; RAMP I476 NB TO CHEMICAL RD</td>\n",
       "      <td>2015-12-10</td>\n",
       "      <td>17:35:41</td>\n",
       "    </tr>\n",
       "  </tbody>\n",
       "</table>\n",
       "</div>"
      ],
      "text/plain": [
       "         lat        lng      zip                        title  \\\n",
       "0  40.297876 -75.581294  19525.0       EMS: BACK PAINS/INJURY   \n",
       "1  40.258061 -75.264680  19446.0      EMS: DIABETIC EMERGENCY   \n",
       "2  40.121182 -75.351975  19401.0          Fire: GAS-ODOR/LEAK   \n",
       "3  40.116153 -75.343513  19401.0       EMS: CARDIAC EMERGENCY   \n",
       "4  40.251492 -75.603350      NaN               EMS: DIZZINESS   \n",
       "5  40.253473 -75.283245  19446.0             EMS: HEAD INJURY   \n",
       "6  40.182111 -75.127795  19044.0         EMS: NAUSEA/VOMITING   \n",
       "7  40.217286 -75.405182  19426.0   EMS: RESPIRATORY EMERGENCY   \n",
       "8  40.289027 -75.399590  19438.0        EMS: SYNCOPAL EPISODE   \n",
       "9  40.102398 -75.291458  19462.0  Traffic: VEHICLE ACCIDENT -   \n",
       "\n",
       "                 twp                                      addr         date  \\\n",
       "0        NEW HANOVER                    REINDEER CT & DEAD END  2015-12-10    \n",
       "1  HATFIELD TOWNSHIP                BRIAR PATH & WHITEMARSH LN  2015-12-10    \n",
       "2         NORRISTOWN                                  HAWS AVE  2015-12-10    \n",
       "3         NORRISTOWN                        AIRY ST & SWEDE ST  2015-12-10    \n",
       "4   LOWER POTTSGROVE                  CHERRYWOOD CT & DEAD END  2015-12-10    \n",
       "5           LANSDALE                     CANNON AVE & W 9TH ST  2015-12-10    \n",
       "6            HORSHAM                  LAUREL AVE & OAKDALE AVE  2015-12-10    \n",
       "7           SKIPPACK              COLLEGEVILLE RD & LYWISKI RD  2015-12-10    \n",
       "8      LOWER SALFORD             MAIN ST & OLD SUMNEYTOWN PIKE  2015-12-10    \n",
       "9           PLYMOUTH  BLUEROUTE  & RAMP I476 NB TO CHEMICAL RD  2015-12-10    \n",
       "\n",
       "       time  \n",
       "0  17:10:52  \n",
       "1  17:29:21  \n",
       "2  14:39:21  \n",
       "3  16:47:36  \n",
       "4  16:56:52  \n",
       "5  15:39:04  \n",
       "6  16:46:48  \n",
       "7  16:17:05  \n",
       "8  16:51:42  \n",
       "9  17:35:41  "
      ]
     },
<<<<<<< HEAD
     "execution_count": 3,
=======
     "execution_count": 2,
>>>>>>> f6bebd2900176dd67f96e5152c401bb6be88c486
     "metadata": {},
     "output_type": "execute_result"
    }
   ],
   "source": [
    "#separate timeStamp data into 2 new columns\n",
    "df['date'] = df.timeStamp.str[0:11]\n",
    "df['time'] = df.timeStamp.str[-8:]\n",
    "\n",
    "#Get rid of dummy 'e' column and 'timeStamp' column\n",
    "del df['e']\n",
    "del df['timeStamp']\n",
    "#If time at end, then try to extract station number and impute\n",
    "del df['desc']\n",
    "\n",
    "#sample of dataset\n",
    "df.head(10)"
   ]
  },
  {
   "cell_type": "code",
<<<<<<< HEAD
   "execution_count": 4,
=======
   "execution_count": 3,
>>>>>>> f6bebd2900176dd67f96e5152c401bb6be88c486
   "metadata": {
    "collapsed": false
   },
   "outputs": [
    {
     "data": {
      "text/plain": [
       "lat      177755\n",
       "lng      177755\n",
       "zip      155957\n",
       "title    177755\n",
       "twp      177694\n",
       "addr     177755\n",
       "date     177755\n",
       "time     177755\n",
       "dtype: int64"
      ]
     },
<<<<<<< HEAD
     "execution_count": 4,
=======
     "execution_count": 3,
>>>>>>> f6bebd2900176dd67f96e5152c401bb6be88c486
     "metadata": {},
     "output_type": "execute_result"
    }
   ],
   "source": [
    "#count number of values in each column\n",
    "df.count()"
   ]
  },
  {
   "cell_type": "code",
<<<<<<< HEAD
   "execution_count": 5,
=======
   "execution_count": 4,
>>>>>>> f6bebd2900176dd67f96e5152c401bb6be88c486
   "metadata": {
    "collapsed": false
   },
   "outputs": [
    {
     "data": {
      "text/plain": [
       "21822"
      ]
     },
<<<<<<< HEAD
     "execution_count": 5,
=======
     "execution_count": 4,
>>>>>>> f6bebd2900176dd67f96e5152c401bb6be88c486
     "metadata": {},
     "output_type": "execute_result"
    }
   ],
   "source": [
    "#Finds total number of rows with missing values \n",
    "#Rows with more than one missing value only counted once\n",
    "df.isnull().any(axis=1).sum()"
   ]
  },
  {
   "cell_type": "code",
<<<<<<< HEAD
   "execution_count": 6,
=======
   "execution_count": 5,
>>>>>>> f6bebd2900176dd67f96e5152c401bb6be88c486
   "metadata": {
    "collapsed": false
   },
   "outputs": [
    {
     "data": {
      "text/plain": [
       "lat      155957\n",
       "lng      155957\n",
       "zip      155957\n",
       "title    155957\n",
       "twp      155933\n",
       "addr     155957\n",
       "date     155957\n",
       "time     155957\n",
       "dtype: int64"
      ]
     },
<<<<<<< HEAD
     "execution_count": 6,
=======
     "execution_count": 5,
>>>>>>> f6bebd2900176dd67f96e5152c401bb6be88c486
     "metadata": {},
     "output_type": "execute_result"
    }
   ],
   "source": [
    "#Drop rows with missing zipcode values\n",
    "df = df.dropna(subset=['zip'])\n",
    "\n",
    "#Convert float values for zipcodes to integer type\n",
    "df['zip'] = df['zip'].astype(int)\n",
    "df.count()"
   ]
  },
  {
   "cell_type": "code",
<<<<<<< HEAD
   "execution_count": 7,
=======
   "execution_count": 6,
>>>>>>> f6bebd2900176dd67f96e5152c401bb6be88c486
   "metadata": {
    "collapsed": false
   },
   "outputs": [
    {
     "name": "stdout",
     "output_type": "stream",
     "text": [
      "UPPER MORELAND\n",
      "WARRINGTON\n",
      "NORRISTOWN\n",
      "NORRISTOWN\n",
      "MONTGOMERY\n",
      "UPPER MERION\n",
      "TOWAMENCIN\n",
      "HATBORO\n",
      "HORSHAM\n",
      "HATFIELD\n",
      "JENKINTOWN\n",
      "LOWER MERION\n",
      "FRANCONIA\n",
      "HATBORO\n",
      "POTTSTOWN\n",
      "SKIPPACK\n",
      "SKIPPACK\n",
      "UPPER MORELAND\n",
      "NORRISTOWN\n",
      "NORRISTOWN\n",
      "UPPER SALFORD\n",
      "SPRINGFIELD\n",
      "UPPER MERION\n",
      "UPPER PROVIDENCE\n"
     ]
    }
   ],
   "source": [
    "empty = np.where(pd.isnull(df))\n",
    "geolocator = Nominatim()\n",
    "index = 0\n",
    "\n",
    "\n",
    "#Impute 24 missing township values\n",
    "for i in np.nditer(empty):\n",
    "    \n",
    "    #row of missing township cell\n",
    "    row = empty[0][index] \n",
    "    #column of missing township cell\n",
    "    column = empty[1][index]\n",
    "    \n",
    "    \n",
    "    temp_lat = repr(df.iloc[row,0])\n",
    "    temp_long = repr(df.iloc[row,1])\n",
    "    \n",
    "    \n",
    "    location = geolocator.reverse([temp_lat, temp_long], timeout = 60)\n",
    "    \n",
    "    if column == 4:\n",
    "        \n",
    "    \n",
    "        #extract township value from location dictionary\n",
    "        town = location.raw['address']['city'] \n",
    "    \n",
    "    \n",
    "        #remove 'Township' ending from name of town    \n",
    "        if town.endswith(\"Township\"):\n",
    "            town = town[0:-9]\n",
    "            \n",
    "        else:\n",
    "            pass\n",
    "                \n",
    "        #convert to uppercase to maintain township format in dataframe    \n",
    "        town = town.upper()\n",
    "    \n",
    "        #put imputed township name into corresponding missing cell of dataframe\n",
    "        df.iloc[row, column] = town\n",
    "    \n",
    "        print(df.iloc[row, column])\n",
    "        \n",
    "    else:\n",
    "        \n",
    "        pass\n",
    "        \n",
    "        #Elected to comment out code to impute missing zipcodes because it would take too long (approx. 4-6 hrs.)\n",
    "        #zcode = location.raw['address']['postcode']\n",
    "        \n",
    "        #df.iloc[row, column] = zcode\n",
    "        \n",
    "        #print(df.iloc[row, column])\n",
    "    \n",
    "        \n",
    "    #increment index to get to next set of index values for empty township cell\n",
    "    index += 1"
   ]
  },
  {
   "cell_type": "code",
<<<<<<< HEAD
   "execution_count": 8,
=======
   "execution_count": 7,
>>>>>>> f6bebd2900176dd67f96e5152c401bb6be88c486
   "metadata": {
    "collapsed": false
   },
   "outputs": [
    {
     "data": {
      "text/plain": [
       "lat      155957\n",
       "lng      155957\n",
       "zip      155957\n",
       "title    155957\n",
       "twp      155957\n",
       "addr     155957\n",
       "date     155957\n",
       "time     155957\n",
       "dtype: int64"
      ]
     },
<<<<<<< HEAD
     "execution_count": 8,
=======
     "execution_count": 7,
>>>>>>> f6bebd2900176dd67f96e5152c401bb6be88c486
     "metadata": {},
     "output_type": "execute_result"
    }
   ],
   "source": [
    "df.count()"
   ]
  },
  {
   "cell_type": "code",
<<<<<<< HEAD
   "execution_count": 9,
=======
   "execution_count": 8,
>>>>>>> f6bebd2900176dd67f96e5152c401bb6be88c486
   "metadata": {
    "collapsed": false
   },
   "outputs": [],
   "source": [
    "hour = df.time.str[0:2]\n",
    "hour2 = pd.to_numeric(hour)\n",
    "\n",
    "#If time of call is between 6PM and 6AM then it is classified as 'night', otherwise it is classified as 'day'\n",
    "\n",
    "for i, row in df.iterrows():\n",
    "    if(hour2.loc[i] >= 18 or hour2.loc[i] < 6):\n",
    "        hour.at[i] = 'night'\n",
    "    else:\n",
    "        hour.at[i] = 'day'\n"
   ]
  },
  {
   "cell_type": "code",
<<<<<<< HEAD
   "execution_count": 10,
=======
   "execution_count": 9,
>>>>>>> f6bebd2900176dd67f96e5152c401bb6be88c486
   "metadata": {
    "collapsed": false
   },
   "outputs": [],
   "source": [
    "#Replace military time with either 'night' or 'day'\n",
    "del df['time']\n",
    "\n",
    "df['time_of_day'] = hour\n",
    "\n",
    "#df.head(10)   "
   ]
  },
  {
   "cell_type": "code",
<<<<<<< HEAD
   "execution_count": 11,
=======
   "execution_count": 10,
>>>>>>> f6bebd2900176dd67f96e5152c401bb6be88c486
   "metadata": {
    "collapsed": false
   },
   "outputs": [],
   "source": [
    "#Change date format to weekdays format\n",
    "df['dates'] = pd.to_datetime(df['date'])\n",
    "df['weekday'] = df['dates'].dt.weekday_name\n",
    "\n",
    "del df['date']\n",
    "del df['dates']"
   ]
  },
  {
   "cell_type": "code",
<<<<<<< HEAD
   "execution_count": 12,
=======
   "execution_count": 11,
>>>>>>> f6bebd2900176dd67f96e5152c401bb6be88c486
   "metadata": {
    "collapsed": false
   },
   "outputs": [],
   "source": [
    "#Separate first part of 911 call classification from rest of title\n",
    "df['class'], df['title2'] = df['title'].str.split(':', 1).str\n",
    "del df['title']\n",
    "del df['title2']\n"
   ]
  },
  {
   "cell_type": "code",
<<<<<<< HEAD
   "execution_count": 13,
=======
   "execution_count": 12,
>>>>>>> f6bebd2900176dd67f96e5152c401bb6be88c486
   "metadata": {
    "collapsed": false
   },
   "outputs": [
    {
     "data": {
      "text/html": [
       "<div>\n",
       "<table border=\"1\" class=\"dataframe\">\n",
       "  <thead>\n",
       "    <tr style=\"text-align: right;\">\n",
       "      <th></th>\n",
       "      <th>lat</th>\n",
       "      <th>lng</th>\n",
       "      <th>zip</th>\n",
       "      <th>twp</th>\n",
       "      <th>addr</th>\n",
       "      <th>time_of_day</th>\n",
       "      <th>weekday</th>\n",
       "      <th>class</th>\n",
       "    </tr>\n",
       "  </thead>\n",
       "  <tbody>\n",
       "    <tr>\n",
       "      <th>0</th>\n",
       "      <td>40.297876</td>\n",
       "      <td>-75.581294</td>\n",
       "      <td>19525</td>\n",
       "      <td>NEW HANOVER</td>\n",
       "      <td>REINDEER CT &amp; DEAD END</td>\n",
       "      <td>day</td>\n",
       "      <td>Thursday</td>\n",
       "      <td>EMS</td>\n",
       "    </tr>\n",
       "    <tr>\n",
       "      <th>1</th>\n",
       "      <td>40.258061</td>\n",
       "      <td>-75.264680</td>\n",
       "      <td>19446</td>\n",
       "      <td>HATFIELD TOWNSHIP</td>\n",
       "      <td>BRIAR PATH &amp; WHITEMARSH LN</td>\n",
       "      <td>day</td>\n",
       "      <td>Thursday</td>\n",
       "      <td>EMS</td>\n",
       "    </tr>\n",
       "    <tr>\n",
       "      <th>2</th>\n",
       "      <td>40.121182</td>\n",
       "      <td>-75.351975</td>\n",
       "      <td>19401</td>\n",
       "      <td>NORRISTOWN</td>\n",
       "      <td>HAWS AVE</td>\n",
       "      <td>day</td>\n",
       "      <td>Thursday</td>\n",
       "      <td>Fire</td>\n",
       "    </tr>\n",
       "    <tr>\n",
       "      <th>3</th>\n",
       "      <td>40.116153</td>\n",
       "      <td>-75.343513</td>\n",
       "      <td>19401</td>\n",
       "      <td>NORRISTOWN</td>\n",
       "      <td>AIRY ST &amp; SWEDE ST</td>\n",
       "      <td>day</td>\n",
       "      <td>Thursday</td>\n",
       "      <td>EMS</td>\n",
       "    </tr>\n",
       "    <tr>\n",
       "      <th>5</th>\n",
       "      <td>40.253473</td>\n",
       "      <td>-75.283245</td>\n",
       "      <td>19446</td>\n",
       "      <td>LANSDALE</td>\n",
       "      <td>CANNON AVE &amp; W 9TH ST</td>\n",
       "      <td>day</td>\n",
       "      <td>Thursday</td>\n",
       "      <td>EMS</td>\n",
       "    </tr>\n",
       "    <tr>\n",
       "      <th>6</th>\n",
       "      <td>40.182111</td>\n",
       "      <td>-75.127795</td>\n",
       "      <td>19044</td>\n",
       "      <td>HORSHAM</td>\n",
       "      <td>LAUREL AVE &amp; OAKDALE AVE</td>\n",
       "      <td>day</td>\n",
       "      <td>Thursday</td>\n",
       "      <td>EMS</td>\n",
       "    </tr>\n",
       "    <tr>\n",
       "      <th>7</th>\n",
       "      <td>40.217286</td>\n",
       "      <td>-75.405182</td>\n",
       "      <td>19426</td>\n",
       "      <td>SKIPPACK</td>\n",
       "      <td>COLLEGEVILLE RD &amp; LYWISKI RD</td>\n",
       "      <td>day</td>\n",
       "      <td>Thursday</td>\n",
       "      <td>EMS</td>\n",
       "    </tr>\n",
       "    <tr>\n",
       "      <th>8</th>\n",
       "      <td>40.289027</td>\n",
       "      <td>-75.399590</td>\n",
       "      <td>19438</td>\n",
       "      <td>LOWER SALFORD</td>\n",
       "      <td>MAIN ST &amp; OLD SUMNEYTOWN PIKE</td>\n",
       "      <td>day</td>\n",
       "      <td>Thursday</td>\n",
       "      <td>EMS</td>\n",
       "    </tr>\n",
       "    <tr>\n",
       "      <th>9</th>\n",
       "      <td>40.102398</td>\n",
       "      <td>-75.291458</td>\n",
       "      <td>19462</td>\n",
       "      <td>PLYMOUTH</td>\n",
       "      <td>BLUEROUTE  &amp; RAMP I476 NB TO CHEMICAL RD</td>\n",
       "      <td>day</td>\n",
       "      <td>Thursday</td>\n",
       "      <td>Traffic</td>\n",
       "    </tr>\n",
       "    <tr>\n",
       "      <th>11</th>\n",
       "      <td>40.084161</td>\n",
       "      <td>-75.308386</td>\n",
       "      <td>19428</td>\n",
       "      <td>PLYMOUTH</td>\n",
       "      <td>BROOK RD &amp; COLWELL LN</td>\n",
       "      <td>day</td>\n",
       "      <td>Thursday</td>\n",
       "      <td>Traffic</td>\n",
       "    </tr>\n",
       "  </tbody>\n",
       "</table>\n",
       "</div>"
      ],
      "text/plain": [
       "          lat        lng    zip                twp  \\\n",
       "0   40.297876 -75.581294  19525        NEW HANOVER   \n",
       "1   40.258061 -75.264680  19446  HATFIELD TOWNSHIP   \n",
       "2   40.121182 -75.351975  19401         NORRISTOWN   \n",
       "3   40.116153 -75.343513  19401         NORRISTOWN   \n",
       "5   40.253473 -75.283245  19446           LANSDALE   \n",
       "6   40.182111 -75.127795  19044            HORSHAM   \n",
       "7   40.217286 -75.405182  19426           SKIPPACK   \n",
       "8   40.289027 -75.399590  19438      LOWER SALFORD   \n",
       "9   40.102398 -75.291458  19462           PLYMOUTH   \n",
       "11  40.084161 -75.308386  19428           PLYMOUTH   \n",
       "\n",
       "                                        addr time_of_day   weekday    class  \n",
       "0                     REINDEER CT & DEAD END         day  Thursday      EMS  \n",
       "1                 BRIAR PATH & WHITEMARSH LN         day  Thursday      EMS  \n",
       "2                                   HAWS AVE         day  Thursday     Fire  \n",
       "3                         AIRY ST & SWEDE ST         day  Thursday      EMS  \n",
       "5                      CANNON AVE & W 9TH ST         day  Thursday      EMS  \n",
       "6                   LAUREL AVE & OAKDALE AVE         day  Thursday      EMS  \n",
       "7               COLLEGEVILLE RD & LYWISKI RD         day  Thursday      EMS  \n",
       "8              MAIN ST & OLD SUMNEYTOWN PIKE         day  Thursday      EMS  \n",
       "9   BLUEROUTE  & RAMP I476 NB TO CHEMICAL RD         day  Thursday  Traffic  \n",
       "11                     BROOK RD & COLWELL LN         day  Thursday  Traffic  "
      ]
     },
<<<<<<< HEAD
     "execution_count": 13,
=======
     "execution_count": 12,
>>>>>>> f6bebd2900176dd67f96e5152c401bb6be88c486
     "metadata": {},
     "output_type": "execute_result"
    }
   ],
   "source": [
    "df.head(10)"
   ]
  },
  {
   "cell_type": "code",
<<<<<<< HEAD
   "execution_count": 14,
=======
   "execution_count": 13,
>>>>>>> f6bebd2900176dd67f96e5152c401bb6be88c486
   "metadata": {
    "collapsed": false
   },
   "outputs": [
    {
     "data": {
      "text/plain": [
       "array([19525, 19446, 19401, 19044, 19426, 19438, 19462, 19428, 19040,\n",
       "       19027, 18936, 18974, 19031, 19403, 19422, 19085, 18964, 19038,\n",
       "       19406, 19468, 19010, 19095, 19464, 19444, 19041, 19440, 19405,\n",
       "       19002, 19096, 19454, 19465, 19004, 19066, 19072, 18041, 19046,\n",
       "       19090, 19012, 19025, 19473, 18073, 18969, 18074, 19460, 19001,\n",
       "       18054, 19009, 19006, 19035, 19150, 19075, 19034, 19151, 19453,\n",
       "       19003, 18914, 19512, 18976, 19120, 18915, 18076, 19477, 19087,\n",
       "       18966, 19131, 19128, 19083, 19053, 19475, 18960, 19504, 18070,\n",
       "       19492, 18932, 19118, 18092, 19490, 19518, 18056, 19119, 19107,\n",
       "       17752, 19111, 18927, 19435, 18951, 19472, 19503, 19126, 19505,\n",
       "       19423, 19138, 36107, 18036, 19116, 19139, 19129, 19115, 19355,\n",
       "       77316, 19457, 19082, 19127, 19443, 17555, 19520, 19063, 19020, 19404], dtype=int64)"
      ]
     },
<<<<<<< HEAD
     "execution_count": 14,
=======
     "execution_count": 13,
>>>>>>> f6bebd2900176dd67f96e5152c401bb6be88c486
     "metadata": {},
     "output_type": "execute_result"
    }
   ],
   "source": [
    "#unique zipcodes in the dataset\n",
    "df.zip.unique()"
   ]
  },
  {
   "cell_type": "code",
<<<<<<< HEAD
   "execution_count": 15,
=======
   "execution_count": 14,
>>>>>>> f6bebd2900176dd67f96e5152c401bb6be88c486
   "metadata": {
    "collapsed": false
   },
   "outputs": [
    {
     "name": "stdout",
     "output_type": "stream",
     "text": [
      "109\n"
     ]
    }
   ],
   "source": [
    "#find the number of unique zipcodes\n",
    "s = Series(df.zip)\n",
    "zip_unique = s.unique().size\n",
    "print(zip_unique)"
   ]
  },
  {
   "cell_type": "code",
<<<<<<< HEAD
   "execution_count": 16,
=======
   "execution_count": 15,
>>>>>>> f6bebd2900176dd67f96e5152c401bb6be88c486
   "metadata": {
    "collapsed": false
   },
   "outputs": [
    {
     "data": {
      "text/plain": [
       "array(['NEW HANOVER', 'HATFIELD TOWNSHIP', 'NORRISTOWN', 'LANSDALE',\n",
       "       'HORSHAM', 'SKIPPACK', 'LOWER SALFORD', 'PLYMOUTH',\n",
       "       'UPPER MORELAND', 'CHELTENHAM', 'MONTGOMERY', 'WHITEMARSH',\n",
       "       'UPPER GWYNEDD', 'LOWER PROVIDENCE', 'WHITPAIN', 'DELAWARE COUNTY',\n",
       "       'FRANCONIA', 'WEST CONSHOHOCKEN', 'UPPER MERION', 'LIMERICK',\n",
       "       'DOUGLASS', 'LOWER MERION', 'POTTSTOWN', 'BRIDGEPORT', 'TOWAMENCIN',\n",
       "       'AMBLER', 'LOWER POTTSGROVE', 'CHESTER COUNTY', 'UPPER HANOVER',\n",
       "       'SPRINGFIELD', 'ROCKLEDGE', 'ABINGTON', 'WEST NORRITON',\n",
       "       'ROYERSFORD', 'UPPER DUBLIN', 'UPPER SALFORD', 'CONSHOHOCKEN',\n",
       "       'PENNSBURG', 'TELFORD', 'EAST NORRITON', 'UPPER FREDERICK',\n",
       "       'UPPER PROVIDENCE', 'SALFORD', 'LEHIGH COUNTY', 'MARLBOROUGH',\n",
       "       'BRYN ATHYN', 'LOWER MORELAND', 'HATBORO', 'LOWER GWYNEDD',\n",
       "       'WORCESTER', 'COLLEGEVILLE', 'SCHWENKSVILLE', 'SOUDERTON',\n",
       "       'PERKIOMEN', 'LOWER FREDERICK', 'BUCKS COUNTY', 'RED HILL',\n",
       "       'WEST POTTSGROVE', 'UPPER POTTSGROVE', 'EAST GREENVILLE',\n",
       "       'NORTH WALES', 'JENKINTOWN', 'TRAPPE', 'NARBERTH', 'BERKS COUNTY',\n",
       "       'GREEN LANE', 'WARRINGTON', 'PHILA COUNTY', 'HATFIELD',\n",
       "       'HATFIELD BORO'], dtype=object)"
      ]
     },
<<<<<<< HEAD
     "execution_count": 16,
=======
     "execution_count": 15,
>>>>>>> f6bebd2900176dd67f96e5152c401bb6be88c486
     "metadata": {},
     "output_type": "execute_result"
    }
   ],
   "source": [
    "#unique townships in the dataset\n",
    "df.twp.unique()"
   ]
  },
  {
   "cell_type": "code",
<<<<<<< HEAD
   "execution_count": 17,
=======
   "execution_count": 16,
>>>>>>> f6bebd2900176dd67f96e5152c401bb6be88c486
   "metadata": {
    "collapsed": false
   },
   "outputs": [
    {
     "name": "stdout",
     "output_type": "stream",
     "text": [
      "70\n"
     ]
    }
   ],
   "source": [
    "#find the number of unique townships\n",
    "s2 = Series(df.twp)\n",
    "twp_unique = s2.unique().size\n",
    "print(twp_unique)"
   ]
  },
  {
   "cell_type": "code",
<<<<<<< HEAD
   "execution_count": 18,
=======
   "execution_count": 17,
>>>>>>> f6bebd2900176dd67f96e5152c401bb6be88c486
   "metadata": {
    "collapsed": false
   },
   "outputs": [
    {
     "data": {
      "text/plain": [
       "25162"
      ]
     },
<<<<<<< HEAD
     "execution_count": 18,
=======
     "execution_count": 17,
>>>>>>> f6bebd2900176dd67f96e5152c401bb6be88c486
     "metadata": {},
     "output_type": "execute_result"
    }
   ],
   "source": [
    "#find the number of unique address locations\n",
    "s4 = Series(df.addr)\n",
    "s4.unique().size"
   ]
  },
  {
   "cell_type": "code",
<<<<<<< HEAD
   "execution_count": 19,
=======
   "execution_count": 18,
>>>>>>> f6bebd2900176dd67f96e5152c401bb6be88c486
   "metadata": {
    "collapsed": false
   },
   "outputs": [
    {
     "data": {
      "text/plain": [
       "16968"
      ]
     },
<<<<<<< HEAD
     "execution_count": 19,
=======
     "execution_count": 18,
>>>>>>> f6bebd2900176dd67f96e5152c401bb6be88c486
     "metadata": {},
     "output_type": "execute_result"
    }
   ],
   "source": [
    "sLat = Series(df.lat)\n",
    "sLat.unique().size"
   ]
  },
  {
   "cell_type": "code",
<<<<<<< HEAD
   "execution_count": 20,
=======
   "execution_count": 19,
>>>>>>> f6bebd2900176dd67f96e5152c401bb6be88c486
   "metadata": {
    "collapsed": false
   },
   "outputs": [
    {
     "data": {
      "text/plain": [
       "16992"
      ]
     },
<<<<<<< HEAD
     "execution_count": 20,
=======
     "execution_count": 19,
>>>>>>> f6bebd2900176dd67f96e5152c401bb6be88c486
     "metadata": {},
     "output_type": "execute_result"
    }
   ],
   "source": [
    "sLong = Series(df.lng)\n",
    "sLong.unique().size"
   ]
  },
  {
   "cell_type": "code",
<<<<<<< HEAD
   "execution_count": 21,
=======
   "execution_count": 20,
>>>>>>> f6bebd2900176dd67f96e5152c401bb6be88c486
   "metadata": {
    "collapsed": false
   },
   "outputs": [
    {
     "data": {
      "text/html": [
       "<div>\n",
       "<table border=\"1\" class=\"dataframe\">\n",
       "  <thead>\n",
       "    <tr style=\"text-align: right;\">\n",
       "      <th></th>\n",
       "      <th>lat</th>\n",
       "      <th>lng</th>\n",
       "      <th>zip</th>\n",
       "    </tr>\n",
       "  </thead>\n",
       "  <tbody>\n",
       "    <tr>\n",
       "      <th>count</th>\n",
       "      <td>155957.000000</td>\n",
       "      <td>155957.000000</td>\n",
       "      <td>155957.000000</td>\n",
       "    </tr>\n",
       "    <tr>\n",
       "      <th>mean</th>\n",
       "      <td>40.160481</td>\n",
       "      <td>-75.316163</td>\n",
       "      <td>19235.886161</td>\n",
       "    </tr>\n",
       "    <tr>\n",
       "      <th>std</th>\n",
       "      <td>0.091951</td>\n",
       "      <td>0.170492</td>\n",
       "      <td>318.527911</td>\n",
       "    </tr>\n",
       "    <tr>\n",
       "      <th>min</th>\n",
       "      <td>30.333596</td>\n",
       "      <td>-95.595595</td>\n",
       "      <td>17555.000000</td>\n",
       "    </tr>\n",
       "    <tr>\n",
       "      <th>25%</th>\n",
       "      <td>40.102429</td>\n",
       "      <td>-75.399218</td>\n",
       "      <td>19038.000000</td>\n",
       "    </tr>\n",
       "    <tr>\n",
       "      <th>50%</th>\n",
       "      <td>40.145352</td>\n",
       "      <td>-75.302071</td>\n",
       "      <td>19401.000000</td>\n",
       "    </tr>\n",
       "    <tr>\n",
       "      <th>75%</th>\n",
       "      <td>40.231992</td>\n",
       "      <td>-75.206303</td>\n",
       "      <td>19446.000000</td>\n",
       "    </tr>\n",
       "    <tr>\n",
       "      <th>max</th>\n",
       "      <td>41.167156</td>\n",
       "      <td>-74.957973</td>\n",
       "      <td>77316.000000</td>\n",
       "    </tr>\n",
       "  </tbody>\n",
       "</table>\n",
       "</div>"
      ],
      "text/plain": [
       "                 lat            lng            zip\n",
       "count  155957.000000  155957.000000  155957.000000\n",
       "mean       40.160481     -75.316163   19235.886161\n",
       "std         0.091951       0.170492     318.527911\n",
       "min        30.333596     -95.595595   17555.000000\n",
       "25%        40.102429     -75.399218   19038.000000\n",
       "50%        40.145352     -75.302071   19401.000000\n",
       "75%        40.231992     -75.206303   19446.000000\n",
       "max        41.167156     -74.957973   77316.000000"
      ]
     },
<<<<<<< HEAD
     "execution_count": 21,
=======
     "execution_count": 20,
>>>>>>> f6bebd2900176dd67f96e5152c401bb6be88c486
     "metadata": {},
     "output_type": "execute_result"
    }
   ],
   "source": [
    "#find max, min latitudes and longitudes\n",
    "#sLat.max()\n",
    "#sLat.min()\n",
    "#sLong.max()\n",
    "#sLong.min()\n",
    "df.describe()"
   ]
  },
  {
   "cell_type": "code",
<<<<<<< HEAD
   "execution_count": 22,
=======
   "execution_count": 21,
>>>>>>> f6bebd2900176dd67f96e5152c401bb6be88c486
   "metadata": {
    "collapsed": true
   },
   "outputs": [],
   "source": [
    "#Change string data to label encoded integers for RandomForestClassifier()\n",
    "le_dow = preprocessing.LabelEncoder()\n",
    "le_tod = preprocessing.LabelEncoder()\n",
    "le_addr = preprocessing.LabelEncoder()\n",
    "le_twp = preprocessing.LabelEncoder()\n",
    "le_class = preprocessing.LabelEncoder()\n",
    "\n",
    "le_dow = le_dow.fit_transform(df['weekday'])\n",
    "le_tod = le_tod.fit_transform(df['time_of_day'])\n",
    "le_addr = le_addr.fit_transform(df['addr'])\n",
    "le_twp = le_twp.fit_transform(df['twp'])\n",
    "le_class = le_class.fit_transform(df['class'])"
   ]
  },
  {
   "cell_type": "code",
<<<<<<< HEAD
   "execution_count": 23,
=======
   "execution_count": 22,
>>>>>>> f6bebd2900176dd67f96e5152c401bb6be88c486
   "metadata": {
    "collapsed": false
   },
   "outputs": [
    {
     "data": {
      "text/html": [
       "<div>\n",
       "<table border=\"1\" class=\"dataframe\">\n",
       "  <thead>\n",
       "    <tr style=\"text-align: right;\">\n",
       "      <th></th>\n",
       "      <th>lat</th>\n",
       "      <th>lng</th>\n",
       "      <th>zip</th>\n",
       "      <th>weekday</th>\n",
       "      <th>time_of_day</th>\n",
       "      <th>addr</th>\n",
       "      <th>twp</th>\n",
       "      <th>class</th>\n",
       "    </tr>\n",
       "  </thead>\n",
       "  <tbody>\n",
       "    <tr>\n",
       "      <th>0</th>\n",
       "      <td>40.297876</td>\n",
       "      <td>-75.581294</td>\n",
       "      <td>19525</td>\n",
       "      <td>4</td>\n",
       "      <td>0</td>\n",
       "      <td>18187</td>\n",
       "      <td>35</td>\n",
       "      <td>0</td>\n",
       "    </tr>\n",
       "    <tr>\n",
       "      <th>1</th>\n",
       "      <td>40.258061</td>\n",
       "      <td>-75.264680</td>\n",
       "      <td>19446</td>\n",
       "      <td>4</td>\n",
       "      <td>0</td>\n",
       "      <td>2398</td>\n",
       "      <td>19</td>\n",
       "      <td>0</td>\n",
       "    </tr>\n",
       "    <tr>\n",
       "      <th>2</th>\n",
       "      <td>40.121182</td>\n",
       "      <td>-75.351975</td>\n",
       "      <td>19401</td>\n",
       "      <td>4</td>\n",
       "      <td>0</td>\n",
       "      <td>9768</td>\n",
       "      <td>36</td>\n",
       "      <td>1</td>\n",
       "    </tr>\n",
       "    <tr>\n",
       "      <th>3</th>\n",
       "      <td>40.116153</td>\n",
       "      <td>-75.343513</td>\n",
       "      <td>19401</td>\n",
       "      <td>4</td>\n",
       "      <td>0</td>\n",
       "      <td>615</td>\n",
       "      <td>36</td>\n",
       "      <td>0</td>\n",
       "    </tr>\n",
       "    <tr>\n",
       "      <th>5</th>\n",
       "      <td>40.253473</td>\n",
       "      <td>-75.283245</td>\n",
       "      <td>19446</td>\n",
       "      <td>4</td>\n",
       "      <td>0</td>\n",
       "      <td>3245</td>\n",
       "      <td>22</td>\n",
       "      <td>0</td>\n",
       "    </tr>\n",
       "    <tr>\n",
       "      <th>6</th>\n",
       "      <td>40.182111</td>\n",
       "      <td>-75.127795</td>\n",
       "      <td>19044</td>\n",
       "      <td>4</td>\n",
       "      <td>0</td>\n",
       "      <td>12164</td>\n",
       "      <td>20</td>\n",
       "      <td>0</td>\n",
       "    </tr>\n",
       "    <tr>\n",
       "      <th>7</th>\n",
       "      <td>40.217286</td>\n",
       "      <td>-75.405182</td>\n",
       "      <td>19426</td>\n",
       "      <td>4</td>\n",
       "      <td>0</td>\n",
       "      <td>4540</td>\n",
       "      <td>48</td>\n",
       "      <td>0</td>\n",
       "    </tr>\n",
       "    <tr>\n",
       "      <th>8</th>\n",
       "      <td>40.289027</td>\n",
       "      <td>-75.399590</td>\n",
       "      <td>19438</td>\n",
       "      <td>4</td>\n",
       "      <td>0</td>\n",
       "      <td>13272</td>\n",
       "      <td>31</td>\n",
       "      <td>0</td>\n",
       "    </tr>\n",
       "    <tr>\n",
       "      <th>9</th>\n",
       "      <td>40.102398</td>\n",
       "      <td>-75.291458</td>\n",
       "      <td>19462</td>\n",
       "      <td>4</td>\n",
       "      <td>0</td>\n",
       "      <td>2201</td>\n",
       "      <td>41</td>\n",
       "      <td>2</td>\n",
       "    </tr>\n",
       "    <tr>\n",
       "      <th>11</th>\n",
       "      <td>40.084161</td>\n",
       "      <td>-75.308386</td>\n",
       "      <td>19428</td>\n",
       "      <td>4</td>\n",
       "      <td>0</td>\n",
       "      <td>2606</td>\n",
       "      <td>41</td>\n",
       "      <td>2</td>\n",
       "    </tr>\n",
       "  </tbody>\n",
       "</table>\n",
       "</div>"
      ],
      "text/plain": [
       "          lat        lng    zip  weekday  time_of_day   addr  twp  class\n",
       "0   40.297876 -75.581294  19525        4            0  18187   35      0\n",
       "1   40.258061 -75.264680  19446        4            0   2398   19      0\n",
       "2   40.121182 -75.351975  19401        4            0   9768   36      1\n",
       "3   40.116153 -75.343513  19401        4            0    615   36      0\n",
       "5   40.253473 -75.283245  19446        4            0   3245   22      0\n",
       "6   40.182111 -75.127795  19044        4            0  12164   20      0\n",
       "7   40.217286 -75.405182  19426        4            0   4540   48      0\n",
       "8   40.289027 -75.399590  19438        4            0  13272   31      0\n",
       "9   40.102398 -75.291458  19462        4            0   2201   41      2\n",
       "11  40.084161 -75.308386  19428        4            0   2606   41      2"
      ]
     },
<<<<<<< HEAD
     "execution_count": 23,
=======
     "execution_count": 22,
>>>>>>> f6bebd2900176dd67f96e5152c401bb6be88c486
     "metadata": {},
     "output_type": "execute_result"
    }
   ],
   "source": [
    "#Create copy of dataframe\n",
    "df2 = df\n",
    "\n",
    "#Delete old columns with string values and replace with new label encoded columns\n",
    "del df2['weekday']\n",
    "del df2['time_of_day']\n",
    "del df2['addr']\n",
    "del df2['twp']\n",
    "del df2['class']\n",
    "\n",
    "\n",
    "df2['weekday'] = le_dow\n",
    "df2['time_of_day'] = le_tod\n",
    "df2['addr'] = le_addr\n",
    "df2['twp'] = le_twp\n",
    "df2['class'] = le_class\n",
    "\n",
    "df2.head(10)"
   ]
  },
  {
   "cell_type": "code",
<<<<<<< HEAD
   "execution_count": null,
   "metadata": {
    "collapsed": false
   },
   "outputs": [],
   "source": []
  },
  {
   "cell_type": "code",
   "execution_count": 24,
=======
   "execution_count": 23,
>>>>>>> f6bebd2900176dd67f96e5152c401bb6be88c486
   "metadata": {
    "collapsed": false
   },
   "outputs": [
    {
     "data": {
      "text/html": [
       "<div>\n",
       "<table border=\"1\" class=\"dataframe\">\n",
       "  <thead>\n",
       "    <tr style=\"text-align: right;\">\n",
       "      <th></th>\n",
       "      <th>lat</th>\n",
       "      <th>lng</th>\n",
       "      <th>zip</th>\n",
       "      <th>weekday</th>\n",
       "      <th>time_of_day</th>\n",
       "      <th>addr</th>\n",
       "      <th>twp</th>\n",
       "      <th>class</th>\n",
       "    </tr>\n",
       "  </thead>\n",
       "  <tbody>\n",
       "    <tr>\n",
       "      <th>count</th>\n",
       "      <td>155957.000000</td>\n",
       "      <td>155957.000000</td>\n",
       "      <td>155957.000000</td>\n",
       "      <td>155957.000000</td>\n",
       "      <td>155957.000000</td>\n",
       "      <td>155957.000000</td>\n",
       "      <td>155957.000000</td>\n",
       "      <td>155957.000000</td>\n",
       "    </tr>\n",
       "    <tr>\n",
       "      <th>mean</th>\n",
       "      <td>40.160481</td>\n",
       "      <td>-75.316163</td>\n",
       "      <td>19235.886161</td>\n",
       "      <td>3.017203</td>\n",
       "      <td>0.343313</td>\n",
       "      <td>12370.154421</td>\n",
       "      <td>33.990786</td>\n",
       "      <td>0.820887</td>\n",
       "    </tr>\n",
       "    <tr>\n",
       "      <th>std</th>\n",
       "      <td>0.091951</td>\n",
       "      <td>0.170492</td>\n",
       "      <td>318.527911</td>\n",
       "      <td>2.045898</td>\n",
       "      <td>0.474816</td>\n",
       "      <td>7232.513078</td>\n",
       "      <td>19.880535</td>\n",
       "      <td>0.904946</td>\n",
       "    </tr>\n",
       "    <tr>\n",
       "      <th>min</th>\n",
       "      <td>30.333596</td>\n",
       "      <td>-95.595595</td>\n",
       "      <td>17555.000000</td>\n",
       "      <td>0.000000</td>\n",
       "      <td>0.000000</td>\n",
       "      <td>0.000000</td>\n",
       "      <td>0.000000</td>\n",
       "      <td>0.000000</td>\n",
       "    </tr>\n",
       "    <tr>\n",
       "      <th>25%</th>\n",
       "      <td>40.102429</td>\n",
       "      <td>-75.399218</td>\n",
       "      <td>19038.000000</td>\n",
       "      <td>1.000000</td>\n",
       "      <td>0.000000</td>\n",
       "      <td>6087.000000</td>\n",
       "      <td>20.000000</td>\n",
       "      <td>0.000000</td>\n",
       "    </tr>\n",
       "    <tr>\n",
       "      <th>50%</th>\n",
       "      <td>40.145352</td>\n",
       "      <td>-75.302071</td>\n",
       "      <td>19401.000000</td>\n",
       "      <td>3.000000</td>\n",
       "      <td>0.000000</td>\n",
       "      <td>12360.000000</td>\n",
       "      <td>33.000000</td>\n",
       "      <td>0.000000</td>\n",
       "    </tr>\n",
       "    <tr>\n",
       "      <th>75%</th>\n",
       "      <td>40.231992</td>\n",
       "      <td>-75.206303</td>\n",
       "      <td>19446.000000</td>\n",
       "      <td>5.000000</td>\n",
       "      <td>1.000000</td>\n",
       "      <td>18459.000000</td>\n",
       "      <td>52.000000</td>\n",
       "      <td>2.000000</td>\n",
       "    </tr>\n",
       "    <tr>\n",
       "      <th>max</th>\n",
       "      <td>41.167156</td>\n",
       "      <td>-74.957973</td>\n",
       "      <td>77316.000000</td>\n",
       "      <td>6.000000</td>\n",
       "      <td>1.000000</td>\n",
       "      <td>25161.000000</td>\n",
       "      <td>69.000000</td>\n",
       "      <td>2.000000</td>\n",
       "    </tr>\n",
       "  </tbody>\n",
       "</table>\n",
       "</div>"
      ],
      "text/plain": [
       "                 lat            lng            zip        weekday  \\\n",
       "count  155957.000000  155957.000000  155957.000000  155957.000000   \n",
       "mean       40.160481     -75.316163   19235.886161       3.017203   \n",
       "std         0.091951       0.170492     318.527911       2.045898   \n",
       "min        30.333596     -95.595595   17555.000000       0.000000   \n",
       "25%        40.102429     -75.399218   19038.000000       1.000000   \n",
       "50%        40.145352     -75.302071   19401.000000       3.000000   \n",
       "75%        40.231992     -75.206303   19446.000000       5.000000   \n",
       "max        41.167156     -74.957973   77316.000000       6.000000   \n",
       "\n",
       "         time_of_day           addr            twp          class  \n",
       "count  155957.000000  155957.000000  155957.000000  155957.000000  \n",
       "mean        0.343313   12370.154421      33.990786       0.820887  \n",
       "std         0.474816    7232.513078      19.880535       0.904946  \n",
       "min         0.000000       0.000000       0.000000       0.000000  \n",
       "25%         0.000000    6087.000000      20.000000       0.000000  \n",
       "50%         0.000000   12360.000000      33.000000       0.000000  \n",
       "75%         1.000000   18459.000000      52.000000       2.000000  \n",
       "max         1.000000   25161.000000      69.000000       2.000000  "
      ]
     },
<<<<<<< HEAD
     "execution_count": 24,
=======
     "execution_count": 23,
>>>>>>> f6bebd2900176dd67f96e5152c401bb6be88c486
     "metadata": {},
     "output_type": "execute_result"
    }
   ],
   "source": [
    "x = df[['lat', 'lng', 'zip', 'twp', 'addr', 'time_of_day', 'weekday']].copy()\n",
    "y = df[['class']].copy()\n",
    "x_train, x_test, y_train, y_test = train_test_split(x, y, stratify=y, random_state=42)\n",
    "df.describe()"
   ]
  },
  {
   "cell_type": "code",
<<<<<<< HEAD
   "execution_count": 25,
=======
   "execution_count": 24,
>>>>>>> f6bebd2900176dd67f96e5152c401bb6be88c486
   "metadata": {
    "collapsed": false
   },
   "outputs": [
    {
     "data": {
      "text/html": [
       "<div>\n",
       "<table border=\"1\" class=\"dataframe\">\n",
       "  <thead>\n",
       "    <tr style=\"text-align: right;\">\n",
       "      <th></th>\n",
       "      <th>lat</th>\n",
       "      <th>lng</th>\n",
       "      <th>zip</th>\n",
       "      <th>twp</th>\n",
       "      <th>addr</th>\n",
       "      <th>time_of_day</th>\n",
       "      <th>weekday</th>\n",
       "    </tr>\n",
       "  </thead>\n",
       "  <tbody>\n",
       "    <tr>\n",
       "      <th>0</th>\n",
       "      <td>40.297876</td>\n",
       "      <td>-75.581294</td>\n",
       "      <td>19525</td>\n",
       "      <td>35</td>\n",
       "      <td>18187</td>\n",
       "      <td>0</td>\n",
       "      <td>4</td>\n",
       "    </tr>\n",
       "    <tr>\n",
       "      <th>1</th>\n",
       "      <td>40.258061</td>\n",
       "      <td>-75.264680</td>\n",
       "      <td>19446</td>\n",
       "      <td>19</td>\n",
       "      <td>2398</td>\n",
       "      <td>0</td>\n",
       "      <td>4</td>\n",
       "    </tr>\n",
       "    <tr>\n",
       "      <th>2</th>\n",
       "      <td>40.121182</td>\n",
       "      <td>-75.351975</td>\n",
       "      <td>19401</td>\n",
       "      <td>36</td>\n",
       "      <td>9768</td>\n",
       "      <td>0</td>\n",
       "      <td>4</td>\n",
       "    </tr>\n",
       "    <tr>\n",
       "      <th>3</th>\n",
       "      <td>40.116153</td>\n",
       "      <td>-75.343513</td>\n",
       "      <td>19401</td>\n",
       "      <td>36</td>\n",
       "      <td>615</td>\n",
       "      <td>0</td>\n",
       "      <td>4</td>\n",
       "    </tr>\n",
       "    <tr>\n",
       "      <th>5</th>\n",
       "      <td>40.253473</td>\n",
       "      <td>-75.283245</td>\n",
       "      <td>19446</td>\n",
       "      <td>22</td>\n",
       "      <td>3245</td>\n",
       "      <td>0</td>\n",
       "      <td>4</td>\n",
       "    </tr>\n",
       "  </tbody>\n",
       "</table>\n",
       "</div>"
      ],
      "text/plain": [
       "         lat        lng    zip  twp   addr  time_of_day  weekday\n",
       "0  40.297876 -75.581294  19525   35  18187            0        4\n",
       "1  40.258061 -75.264680  19446   19   2398            0        4\n",
       "2  40.121182 -75.351975  19401   36   9768            0        4\n",
       "3  40.116153 -75.343513  19401   36    615            0        4\n",
       "5  40.253473 -75.283245  19446   22   3245            0        4"
      ]
     },
<<<<<<< HEAD
     "execution_count": 25,
=======
     "execution_count": 24,
>>>>>>> f6bebd2900176dd67f96e5152c401bb6be88c486
     "metadata": {},
     "output_type": "execute_result"
    }
   ],
   "source": [
    "x.head()"
   ]
  },
  {
   "cell_type": "code",
<<<<<<< HEAD
   "execution_count": 26,
=======
   "execution_count": 25,
>>>>>>> f6bebd2900176dd67f96e5152c401bb6be88c486
   "metadata": {
    "collapsed": false
   },
   "outputs": [
    {
     "data": {
      "text/html": [
       "<div>\n",
       "<table border=\"1\" class=\"dataframe\">\n",
       "  <thead>\n",
       "    <tr style=\"text-align: right;\">\n",
       "      <th></th>\n",
       "      <th>class</th>\n",
       "    </tr>\n",
       "  </thead>\n",
       "  <tbody>\n",
       "    <tr>\n",
       "      <th>0</th>\n",
       "      <td>0</td>\n",
       "    </tr>\n",
       "    <tr>\n",
       "      <th>1</th>\n",
       "      <td>0</td>\n",
       "    </tr>\n",
       "    <tr>\n",
       "      <th>2</th>\n",
       "      <td>1</td>\n",
       "    </tr>\n",
       "    <tr>\n",
       "      <th>3</th>\n",
       "      <td>0</td>\n",
       "    </tr>\n",
       "    <tr>\n",
       "      <th>5</th>\n",
       "      <td>0</td>\n",
       "    </tr>\n",
       "  </tbody>\n",
       "</table>\n",
       "</div>"
      ],
      "text/plain": [
       "   class\n",
       "0      0\n",
       "1      0\n",
       "2      1\n",
       "3      0\n",
       "5      0"
      ]
     },
<<<<<<< HEAD
     "execution_count": 26,
=======
     "execution_count": 25,
>>>>>>> f6bebd2900176dd67f96e5152c401bb6be88c486
     "metadata": {},
     "output_type": "execute_result"
    }
   ],
   "source": [
    "y.head()"
   ]
  },
  {
   "cell_type": "code",
<<<<<<< HEAD
   "execution_count": 27,
=======
   "execution_count": 26,
>>>>>>> f6bebd2900176dd67f96e5152c401bb6be88c486
   "metadata": {
    "collapsed": false
   },
   "outputs": [
    {
     "data": {
      "text/plain": [
       "BaggingClassifier(base_estimator=None, bootstrap=True,\n",
       "         bootstrap_features=False, max_features=7, max_samples=1.0,\n",
       "         n_estimators=100, n_jobs=-1, oob_score=False, random_state=0,\n",
       "         verbose=0, warm_start=False)"
      ]
     },
<<<<<<< HEAD
     "execution_count": 27,
=======
     "execution_count": 26,
>>>>>>> f6bebd2900176dd67f96e5152c401bb6be88c486
     "metadata": {},
     "output_type": "execute_result"
    }
   ],
   "source": [
    "bag = BaggingClassifier(base_estimator=None, max_features=7, n_estimators=100, n_jobs=-1, random_state=0)\n",
    "bag.fit(x_train, y_train.values.ravel())"
   ]
  },
  {
   "cell_type": "code",
<<<<<<< HEAD
   "execution_count": 28,
=======
   "execution_count": 27,
>>>>>>> f6bebd2900176dd67f96e5152c401bb6be88c486
   "metadata": {
    "collapsed": false
   },
   "outputs": [
    {
     "name": "stdout",
     "output_type": "stream",
     "text": [
      "Accuracy on training set: 0.876\n",
      "Accuracy on test set: 0.654\n"
     ]
    }
   ],
   "source": [
    "print(\"Accuracy on training set: {:.3f}\".format(bag.score(x_train, y_train)))\n",
    "print(\"Accuracy on test set: {:.3f}\".format(bag.score(x_test, y_test)))"
   ]
  },
  {
   "cell_type": "code",
<<<<<<< HEAD
   "execution_count": 29,
=======
   "execution_count": 28,
>>>>>>> f6bebd2900176dd67f96e5152c401bb6be88c486
   "metadata": {
    "collapsed": false
   },
   "outputs": [],
   "source": [
    "# used and modified code from https://www.kaggle.com/vishnoiprem/d/mchirico/montcoalert/911-calls-visualization\n",
    "\n",
    "DATA = np.zeros((df2.shape[0],7),dtype='O')\n",
    "DATA[:,0] = df2['lng'].values\n",
    "DATA[:,1] = df2['lat'].values\n",
    "DATA[:,2] = df2['zip'].values\n",
    "DATA[:,3] = df2['weekday'].values\n",
    "DATA[:,4] = df2['time_of_day'].values\n",
    "DATA[:,5] = df2['addr'].values\n",
    "DATA[:,6] = df2['class'].values\n"
   ]
  },
  {
   "cell_type": "code",
<<<<<<< HEAD
   "execution_count": 30,
=======
   "execution_count": 29,
>>>>>>> f6bebd2900176dd67f96e5152c401bb6be88c486
   "metadata": {
    "collapsed": false
   },
   "outputs": [],
   "source": [
    "typeOfCall = np.zeros(DATA.shape[0],dtype='O')\n",
    "for i in range(typeOfCall.size):\n",
    "    typeOfCall[i] = DATA[i][6]"
   ]
  },
  {
   "cell_type": "code",
<<<<<<< HEAD
   "execution_count": 31,
=======
   "execution_count": 40,
>>>>>>> f6bebd2900176dd67f96e5152c401bb6be88c486
   "metadata": {
    "collapsed": false
   },
   "outputs": [
    {
     "data": {
      "text/plain": [
<<<<<<< HEAD
       "<matplotlib.axes._subplots.AxesSubplot at 0x7f127c5b6748>"
      ]
     },
     "execution_count": 31,
=======
       "<matplotlib.axes._subplots.AxesSubplot at 0x48b7fcb00>"
      ]
     },
     "execution_count": 40,
>>>>>>> f6bebd2900176dd67f96e5152c401bb6be88c486
     "metadata": {},
     "output_type": "execute_result"
    },
    {
     "data": {
      "image/png": "iVBORw0KGgoAAAANSUhEUgAAAt0AAAETCAYAAADqPbqrAAAABHNCSVQICAgIfAhkiAAAAAlwSFlz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\nS+6jhgHhrQAAAABJRU5ErkJggg==\n",
      "text/plain": [
<<<<<<< HEAD
       "<matplotlib.figure.Figure at 0x7f127c560320>"
=======
       "<matplotlib.figure.Figure at 0x48b7fcf98>"
>>>>>>> f6bebd2900176dd67f96e5152c401bb6be88c486
      ]
     },
     "metadata": {},
     "output_type": "display_data"
    }
   ],
   "source": [
    "call_type = np.array([\"Ems\", \"Fire\", \"Traffic\"])\n",
    "sns.plt.figure(figsize=(12,4))\n",
    "sns.plt.xlabel(\"Type of Incident\")\n",
    "sns.plt.title(\"All Situations By Time\")\n",
    "sns.countplot(typeOfCall)\n",
    "\n",
    "#0 --> EMS\n",
    "#1 --> Fire\n",
    "#2 --> Traffic"
   ]
  },
  {
   "cell_type": "code",
   "execution_count": 38,
   "metadata": {
    "collapsed": false
   },
   "outputs": [
    {
     "name": "stderr",
     "output_type": "stream",
     "text": [
      "/home/ssurya/anaconda3/lib/python3.6/site-packages/mpl_toolkits/basemap/__init__.py:3260: MatplotlibDeprecationWarning: The ishold function was deprecated in version 2.0.\n",
      "  b = ax.ishold()\n",
      "/home/ssurya/anaconda3/lib/python3.6/site-packages/mpl_toolkits/basemap/__init__.py:3269: MatplotlibDeprecationWarning: axes.hold is deprecated.\n",
      "    See the API Changes document (http://matplotlib.org/api/api_changes.html)\n",
      "    for more details.\n",
      "  ax.hold(b)\n"
     ]
    },
    {
     "data": {
      "image/png": "iVBORw0KGgoAAAANSUhEUgAAAuMAAAIuCAYAAAAVCwbOAAAABHNCSVQICAgIfAhkiAAAAAlwSFlz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\nYII=\n",
      "text/plain": [
       "<matplotlib.figure.Figure at 0x7f12b5758438>"
      ]
     },
     "metadata": {},
     "output_type": "display_data"
    }
   ],
   "source": [
    "fig = plt.figure(figsize=(20,10))\n",
    "\n",
    "map = Basemap(width=120000,height=90000,projection='lcc', \n",
    "              resolution = 'h', area_thresh = 100000.0, lat_0=40.25,lon_0=-75.5)\n",
    "\n",
    "map.drawcoastlines()\n",
    "map.drawcountries()\n",
    "\n",
    "x,y = map(df2['lng'].values, df2['lat'].values)\n",
    "map.plot(x, y, 'ro', markersize=6)\n",
    "\n",
    "plt.show()"
   ]
  },
  {
   "cell_type": "code",
   "execution_count": null,
   "metadata": {
    "collapsed": false
   },
   "outputs": [],
   "source": []
  },
  {
   "cell_type": "code",
   "execution_count": null,
   "metadata": {
    "collapsed": true
   },
   "outputs": [],
   "source": []
  }
 ],
 "metadata": {
  "kernelspec": {
   "display_name": "Python 3",
   "language": "python",
   "name": "python3"
  },
  "language_info": {
   "codemirror_mode": {
    "name": "ipython",
    "version": 3
   },
   "file_extension": ".py",
   "mimetype": "text/x-python",
   "name": "python",
   "nbconvert_exporter": "python",
   "pygments_lexer": "ipython3",
   "version": "3.6.0"
  }
 },
 "nbformat": 4,
 "nbformat_minor": 2
}
