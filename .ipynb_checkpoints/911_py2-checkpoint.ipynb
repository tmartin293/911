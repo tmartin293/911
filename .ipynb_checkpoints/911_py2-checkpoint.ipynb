{
 "cells": [
  {
   "cell_type": "code",
   "execution_count": 1,
   "metadata": {
    "collapsed": false
   },
   "outputs": [
    {
     "data": {
      "text/html": [
       "<div>\n",
       "<table border=\"1\" class=\"dataframe\">\n",
       "  <thead>\n",
       "    <tr style=\"text-align: right;\">\n",
       "      <th></th>\n",
       "      <th>lat</th>\n",
       "      <th>lng</th>\n",
       "      <th>desc</th>\n",
       "      <th>zip</th>\n",
       "      <th>title</th>\n",
       "      <th>timeStamp</th>\n",
       "      <th>twp</th>\n",
       "      <th>addr</th>\n",
       "      <th>e</th>\n",
       "    </tr>\n",
       "  </thead>\n",
       "  <tbody>\n",
       "    <tr>\n",
       "      <th>0</th>\n",
       "      <td>40.297876</td>\n",
       "      <td>-75.581294</td>\n",
       "      <td>REINDEER CT &amp; DEAD END;  NEW HANOVER; Station ...</td>\n",
       "      <td>19525.0</td>\n",
       "      <td>EMS: BACK PAINS/INJURY</td>\n",
       "      <td>2015-12-10 17:10:52</td>\n",
       "      <td>NEW HANOVER</td>\n",
       "      <td>REINDEER CT &amp; DEAD END</td>\n",
       "      <td>1</td>\n",
       "    </tr>\n",
       "    <tr>\n",
       "      <th>1</th>\n",
       "      <td>40.258061</td>\n",
       "      <td>-75.264680</td>\n",
       "      <td>BRIAR PATH &amp; WHITEMARSH LN;  HATFIELD TOWNSHIP...</td>\n",
       "      <td>19446.0</td>\n",
       "      <td>EMS: DIABETIC EMERGENCY</td>\n",
       "      <td>2015-12-10 17:29:21</td>\n",
       "      <td>HATFIELD TOWNSHIP</td>\n",
       "      <td>BRIAR PATH &amp; WHITEMARSH LN</td>\n",
       "      <td>1</td>\n",
       "    </tr>\n",
       "    <tr>\n",
       "      <th>2</th>\n",
       "      <td>40.121182</td>\n",
       "      <td>-75.351975</td>\n",
       "      <td>HAWS AVE; NORRISTOWN; 2015-12-10 @ 14:39:21-St...</td>\n",
       "      <td>19401.0</td>\n",
       "      <td>Fire: GAS-ODOR/LEAK</td>\n",
       "      <td>2015-12-10 14:39:21</td>\n",
       "      <td>NORRISTOWN</td>\n",
       "      <td>HAWS AVE</td>\n",
       "      <td>1</td>\n",
       "    </tr>\n",
       "    <tr>\n",
       "      <th>3</th>\n",
       "      <td>40.116153</td>\n",
       "      <td>-75.343513</td>\n",
       "      <td>AIRY ST &amp; SWEDE ST;  NORRISTOWN; Station 308A;...</td>\n",
       "      <td>19401.0</td>\n",
       "      <td>EMS: CARDIAC EMERGENCY</td>\n",
       "      <td>2015-12-10 16:47:36</td>\n",
       "      <td>NORRISTOWN</td>\n",
       "      <td>AIRY ST &amp; SWEDE ST</td>\n",
       "      <td>1</td>\n",
       "    </tr>\n",
       "    <tr>\n",
       "      <th>4</th>\n",
       "      <td>40.251492</td>\n",
       "      <td>-75.603350</td>\n",
       "      <td>CHERRYWOOD CT &amp; DEAD END;  LOWER POTTSGROVE; S...</td>\n",
       "      <td>NaN</td>\n",
       "      <td>EMS: DIZZINESS</td>\n",
       "      <td>2015-12-10 16:56:52</td>\n",
       "      <td>LOWER POTTSGROVE</td>\n",
       "      <td>CHERRYWOOD CT &amp; DEAD END</td>\n",
       "      <td>1</td>\n",
       "    </tr>\n",
       "  </tbody>\n",
       "</table>\n",
       "</div>"
      ],
      "text/plain": [
       "         lat        lng                                               desc  \\\n",
       "0  40.297876 -75.581294  REINDEER CT & DEAD END;  NEW HANOVER; Station ...   \n",
       "1  40.258061 -75.264680  BRIAR PATH & WHITEMARSH LN;  HATFIELD TOWNSHIP...   \n",
       "2  40.121182 -75.351975  HAWS AVE; NORRISTOWN; 2015-12-10 @ 14:39:21-St...   \n",
       "3  40.116153 -75.343513  AIRY ST & SWEDE ST;  NORRISTOWN; Station 308A;...   \n",
       "4  40.251492 -75.603350  CHERRYWOOD CT & DEAD END;  LOWER POTTSGROVE; S...   \n",
       "\n",
       "       zip                    title            timeStamp                twp  \\\n",
       "0  19525.0   EMS: BACK PAINS/INJURY  2015-12-10 17:10:52        NEW HANOVER   \n",
       "1  19446.0  EMS: DIABETIC EMERGENCY  2015-12-10 17:29:21  HATFIELD TOWNSHIP   \n",
       "2  19401.0      Fire: GAS-ODOR/LEAK  2015-12-10 14:39:21         NORRISTOWN   \n",
       "3  19401.0   EMS: CARDIAC EMERGENCY  2015-12-10 16:47:36         NORRISTOWN   \n",
       "4      NaN           EMS: DIZZINESS  2015-12-10 16:56:52   LOWER POTTSGROVE   \n",
       "\n",
       "                         addr  e  \n",
       "0      REINDEER CT & DEAD END  1  \n",
       "1  BRIAR PATH & WHITEMARSH LN  1  \n",
       "2                    HAWS AVE  1  \n",
       "3          AIRY ST & SWEDE ST  1  \n",
       "4    CHERRYWOOD CT & DEAD END  1  "
      ]
     },
     "execution_count": 1,
     "metadata": {},
     "output_type": "execute_result"
    }
   ],
   "source": [
    "import pandas as pd\n",
    "import numpy as np\n",
    "from pandas import Series\n",
    "\n",
    "#importing the dataset using pandas\n",
    "df = pd.read_csv(\"./911.csv\")\n",
    "\n",
    "#sample of original dataset\n",
    "df.head(5)"
   ]
  },
  {
   "cell_type": "code",
   "execution_count": 2,
   "metadata": {
    "collapsed": false
   },
   "outputs": [
    {
     "data": {
      "text/html": [
       "<div>\n",
       "<table border=\"1\" class=\"dataframe\">\n",
       "  <thead>\n",
       "    <tr style=\"text-align: right;\">\n",
       "      <th></th>\n",
       "      <th>lat</th>\n",
       "      <th>lng</th>\n",
       "      <th>zip</th>\n",
       "      <th>title</th>\n",
       "      <th>twp</th>\n",
       "      <th>addr</th>\n",
       "      <th>date</th>\n",
       "      <th>time</th>\n",
       "    </tr>\n",
       "  </thead>\n",
       "  <tbody>\n",
       "    <tr>\n",
       "      <th>0</th>\n",
       "      <td>40.297876</td>\n",
       "      <td>-75.581294</td>\n",
       "      <td>19525.0</td>\n",
       "      <td>EMS: BACK PAINS/INJURY</td>\n",
       "      <td>NEW HANOVER</td>\n",
       "      <td>REINDEER CT &amp; DEAD END</td>\n",
       "      <td>2015-12-10</td>\n",
       "      <td>17:10:52</td>\n",
       "    </tr>\n",
       "    <tr>\n",
       "      <th>1</th>\n",
       "      <td>40.258061</td>\n",
       "      <td>-75.264680</td>\n",
       "      <td>19446.0</td>\n",
       "      <td>EMS: DIABETIC EMERGENCY</td>\n",
       "      <td>HATFIELD TOWNSHIP</td>\n",
       "      <td>BRIAR PATH &amp; WHITEMARSH LN</td>\n",
       "      <td>2015-12-10</td>\n",
       "      <td>17:29:21</td>\n",
       "    </tr>\n",
       "    <tr>\n",
       "      <th>2</th>\n",
       "      <td>40.121182</td>\n",
       "      <td>-75.351975</td>\n",
       "      <td>19401.0</td>\n",
       "      <td>Fire: GAS-ODOR/LEAK</td>\n",
       "      <td>NORRISTOWN</td>\n",
       "      <td>HAWS AVE</td>\n",
       "      <td>2015-12-10</td>\n",
       "      <td>14:39:21</td>\n",
       "    </tr>\n",
       "    <tr>\n",
       "      <th>3</th>\n",
       "      <td>40.116153</td>\n",
       "      <td>-75.343513</td>\n",
       "      <td>19401.0</td>\n",
       "      <td>EMS: CARDIAC EMERGENCY</td>\n",
       "      <td>NORRISTOWN</td>\n",
       "      <td>AIRY ST &amp; SWEDE ST</td>\n",
       "      <td>2015-12-10</td>\n",
       "      <td>16:47:36</td>\n",
       "    </tr>\n",
       "    <tr>\n",
       "      <th>4</th>\n",
       "      <td>40.251492</td>\n",
       "      <td>-75.603350</td>\n",
       "      <td>NaN</td>\n",
       "      <td>EMS: DIZZINESS</td>\n",
       "      <td>LOWER POTTSGROVE</td>\n",
       "      <td>CHERRYWOOD CT &amp; DEAD END</td>\n",
       "      <td>2015-12-10</td>\n",
       "      <td>16:56:52</td>\n",
       "    </tr>\n",
       "  </tbody>\n",
       "</table>\n",
       "</div>"
      ],
      "text/plain": [
       "         lat        lng      zip                    title                twp  \\\n",
       "0  40.297876 -75.581294  19525.0   EMS: BACK PAINS/INJURY        NEW HANOVER   \n",
       "1  40.258061 -75.264680  19446.0  EMS: DIABETIC EMERGENCY  HATFIELD TOWNSHIP   \n",
       "2  40.121182 -75.351975  19401.0      Fire: GAS-ODOR/LEAK         NORRISTOWN   \n",
       "3  40.116153 -75.343513  19401.0   EMS: CARDIAC EMERGENCY         NORRISTOWN   \n",
       "4  40.251492 -75.603350      NaN           EMS: DIZZINESS   LOWER POTTSGROVE   \n",
       "\n",
       "                         addr         date      time  \n",
       "0      REINDEER CT & DEAD END  2015-12-10   17:10:52  \n",
       "1  BRIAR PATH & WHITEMARSH LN  2015-12-10   17:29:21  \n",
       "2                    HAWS AVE  2015-12-10   14:39:21  \n",
       "3          AIRY ST & SWEDE ST  2015-12-10   16:47:36  \n",
       "4    CHERRYWOOD CT & DEAD END  2015-12-10   16:56:52  "
      ]
     },
     "execution_count": 2,
     "metadata": {},
     "output_type": "execute_result"
    }
   ],
   "source": [
    "#separate timeStamp data into 2 new columns\n",
    "df['date'] = df.timeStamp.str[0:11]\n",
    "df['time'] = df.timeStamp.str[-8:]\n",
    "\n",
    "#Get rid of dummy 'e' column and 'timeStamp' column\n",
    "del df['e']\n",
    "del df['timeStamp']\n",
    "#If time at end, then try to extract station number and impute\n",
    "del df['desc']\n",
    "\n",
    "#sample of dataset\n",
    "df.head(5)"
   ]
  },
  {
   "cell_type": "code",
   "execution_count": 3,
   "metadata": {
    "collapsed": false
   },
   "outputs": [],
   "source": [
    "#Finds index of 'Station' in 'desc' column if it exists\n",
    "#for i, row in df.iterrows():\n",
    "    \n",
    "    #Beginning index for station extraction\n",
    "    #index1 = str.find(df['desc'][i],'Station')\n",
    "    \n",
    "    #Ending index for station extraction\n",
    "    #index2 = str.find(df['desc'][i],';',index1)\n",
    "    "
   ]
  },
  {
   "cell_type": "code",
   "execution_count": 4,
   "metadata": {
    "collapsed": false
   },
   "outputs": [
    {
     "data": {
      "text/plain": [
       "lat      177755\n",
       "lng      177755\n",
       "zip      155957\n",
       "title    177755\n",
       "twp      177694\n",
       "addr     177755\n",
       "date     177755\n",
       "time     177755\n",
       "dtype: int64"
      ]
     },
     "execution_count": 4,
     "metadata": {},
     "output_type": "execute_result"
    }
   ],
   "source": [
    "#count number of values in each column\n",
    "df.count()"
   ]
  },
  {
   "cell_type": "code",
   "execution_count": 5,
   "metadata": {
    "collapsed": false
   },
   "outputs": [
    {
     "data": {
      "text/plain": [
       "21822"
      ]
     },
     "execution_count": 5,
     "metadata": {},
     "output_type": "execute_result"
    }
   ],
   "source": [
    "#Finds total number of rows with missing values \n",
    "#Rows with more than one missing value only counted once\n",
    "df.isnull().any(axis=1).sum()"
   ]
  },
  {
   "cell_type": "code",
   "execution_count": 17,
   "metadata": {
    "collapsed": false
   },
   "outputs": [
    {
     "data": {
      "text/plain": [
       "lat      155933\n",
       "lng      155933\n",
       "zip      155933\n",
       "title    155933\n",
       "twp      155933\n",
       "addr     155933\n",
       "date     155933\n",
       "time     155933\n",
       "dtype: int64"
      ]
     },
     "execution_count": 17,
     "metadata": {},
     "output_type": "execute_result"
    }
   ],
   "source": [
    "#Drop rows with missing values\n",
    "df = df.dropna(subset=['zip', 'twp'])\n",
    "df.count()"
   ]
  },
  {
   "cell_type": "code",
   "execution_count": 6,
   "metadata": {
    "collapsed": false
   },
   "outputs": [
    {
     "data": {
      "text/plain": [
       "array([ 19525.,  19446.,  19401.,     nan,  19044.,  19426.,  19438.,\n",
       "        19462.,  19428.,  19040.,  19027.,  18936.,  18974.,  19031.,\n",
       "        19403.,  19422.,  19085.,  18964.,  19038.,  19406.,  19468.,\n",
       "        19010.,  19095.,  19464.,  19444.,  19041.,  19440.,  19405.,\n",
       "        19002.,  19096.,  19454.,  19465.,  19004.,  19066.,  19072.,\n",
       "        18041.,  19046.,  19090.,  19012.,  19025.,  19473.,  18073.,\n",
       "        18969.,  18074.,  19460.,  19001.,  18054.,  19009.,  19006.,\n",
       "        19035.,  19150.,  19075.,  19034.,  19151.,  19453.,  19003.,\n",
       "        18914.,  19512.,  18976.,  19120.,  18915.,  18076.,  19477.,\n",
       "        19087.,  18966.,  19131.,  19128.,  19083.,  19053.,  19475.,\n",
       "        18960.,  19504.,  18070.,  19492.,  18932.,  19118.,  18092.,\n",
       "        19490.,  19518.,  18056.,  19119.,  19107.,  17752.,  19111.,\n",
       "        18927.,  19435.,  18951.,  19472.,  19503.,  19126.,  19505.,\n",
       "        19423.,  19138.,  36107.,  18036.,  19116.,  19139.,  19129.,\n",
       "        19115.,  19355.,  77316.,  19457.,  19082.,  19127.,  19443.,\n",
       "        17555.,  19520.,  19063.,  19020.,  19404.])"
      ]
     },
     "execution_count": 6,
     "metadata": {},
     "output_type": "execute_result"
    }
   ],
   "source": [
    "#unique zipcodes in the dataset\n",
    "df.zip.unique()"
   ]
  },
  {
   "cell_type": "code",
   "execution_count": 7,
   "metadata": {
    "collapsed": false
   },
   "outputs": [
    {
     "name": "stdout",
     "output_type": "stream",
     "text": [
      "109\n"
     ]
    }
   ],
   "source": [
    "#find the number of unique zipcodes, excluding the NaN zipcode category\n",
    "s = Series(df.zip)\n",
    "zip_unique = s.unique().size - 1\n",
    "print(zip_unique)"
   ]
  },
  {
   "cell_type": "code",
   "execution_count": 8,
   "metadata": {
    "collapsed": false
   },
   "outputs": [
    {
     "data": {
      "text/plain": [
       "array(['NEW HANOVER', 'HATFIELD TOWNSHIP', 'NORRISTOWN',\n",
       "       'LOWER POTTSGROVE', 'LANSDALE', 'HORSHAM', 'SKIPPACK',\n",
       "       'LOWER SALFORD', 'PLYMOUTH', 'MONTGOMERY', 'UPPER MORELAND',\n",
       "       'CHELTENHAM', 'UPPER MERION', 'WHITEMARSH', 'UPPER GWYNEDD',\n",
       "       'LOWER PROVIDENCE', 'UPPER DUBLIN', 'WHITPAIN', 'DELAWARE COUNTY',\n",
       "       'FRANCONIA', 'WEST CONSHOHOCKEN', 'LOWER MERION', 'LIMERICK',\n",
       "       'TOWAMENCIN', 'DOUGLASS', 'POTTSTOWN', 'BRIDGEPORT', 'AMBLER',\n",
       "       'CHESTER COUNTY', 'UPPER HANOVER', 'SPRINGFIELD', 'ROCKLEDGE',\n",
       "       'ABINGTON', 'WEST NORRITON', 'ROYERSFORD', 'UPPER SALFORD',\n",
       "       'LOWER MORELAND', 'CONSHOHOCKEN', 'PENNSBURG', 'TELFORD',\n",
       "       'EAST NORRITON', 'UPPER FREDERICK', 'UPPER PROVIDENCE', 'SALFORD',\n",
       "       'HATFIELD BORO', 'LEHIGH COUNTY', 'LOWER GWYNEDD', 'MARLBOROUGH',\n",
       "       'BRYN ATHYN', 'HATBORO', 'WORCESTER', 'COLLEGEVILLE',\n",
       "       'SCHWENKSVILLE', 'PERKIOMEN', 'SOUDERTON', 'UPPER POTTSGROVE',\n",
       "       'LOWER FREDERICK', 'BUCKS COUNTY', 'RED HILL', 'WEST POTTSGROVE',\n",
       "       'EAST GREENVILLE', 'BERKS COUNTY', 'NORTH WALES', 'JENKINTOWN',\n",
       "       'TRAPPE', nan, 'NARBERTH', 'GREEN LANE', 'PHILA COUNTY'], dtype=object)"
      ]
     },
     "execution_count": 8,
     "metadata": {},
     "output_type": "execute_result"
    }
   ],
   "source": [
    "#unique townships in the dataset\n",
    "df.twp.unique()"
   ]
  },
  {
   "cell_type": "code",
   "execution_count": 9,
   "metadata": {
    "collapsed": false
   },
   "outputs": [
    {
     "name": "stdout",
     "output_type": "stream",
     "text": [
      "68\n"
     ]
    }
   ],
   "source": [
    "#find the number of unique townships, excluding the NaN township category\n",
    "s2 = Series(df.twp)\n",
    "twp_unique = s2.unique().size - 1\n",
    "print(twp_unique)"
   ]
  },
  {
   "cell_type": "code",
   "execution_count": 10,
   "metadata": {
    "collapsed": false
   },
   "outputs": [
    {
     "data": {
      "text/plain": [
       "array(['EMS: BACK PAINS/INJURY', 'EMS: DIABETIC EMERGENCY',\n",
       "       'Fire: GAS-ODOR/LEAK', 'EMS: CARDIAC EMERGENCY', 'EMS: DIZZINESS',\n",
       "       'EMS: HEAD INJURY', 'EMS: NAUSEA/VOMITING',\n",
       "       'EMS: RESPIRATORY EMERGENCY', 'EMS: SYNCOPAL EPISODE',\n",
       "       'Traffic: VEHICLE ACCIDENT -', 'EMS: VEHICLE ACCIDENT',\n",
       "       'Traffic: DISABLED VEHICLE -', 'Fire: APPLIANCE FIRE',\n",
       "       'EMS: GENERAL WEAKNESS', 'Fire: CARBON MONOXIDE DETECTOR',\n",
       "       'EMS: UNKNOWN MEDICAL EMERGENCY', 'EMS: UNRESPONSIVE SUBJECT',\n",
       "       'Fire: VEHICLE ACCIDENT', 'EMS: ALTERED MENTAL STATUS',\n",
       "       'Fire: FIRE ALARM', 'EMS: CVA/STROKE',\n",
       "       'Traffic: ROAD OBSTRUCTION -', 'EMS: SUBJECT IN PAIN',\n",
       "       'EMS: HEMORRHAGING', 'EMS: FALL VICTIM', 'EMS: ASSAULT VICTIM',\n",
       "       'EMS: SEIZURES', 'EMS: MEDICAL ALERT ALARM', 'EMS: ABDOMINAL PAINS',\n",
       "       'Fire: PUMP DETAIL', 'Fire: FIRE INVESTIGATION', 'EMS: OVERDOSE',\n",
       "       'EMS: MATERNITY', 'EMS: UNCONSCIOUS SUBJECT', 'EMS: CHOKING',\n",
       "       'EMS: LACERATIONS', 'Fire: TRASH/DUMPSTER FIRE',\n",
       "       'Fire: UNKNOWN TYPE FIRE', 'Fire: BUILDING FIRE',\n",
       "       'Fire: ELECTRICAL FIRE OUTSIDE', 'Fire: DEBRIS/FLUIDS ON HIGHWAY',\n",
       "       'Traffic: DEBRIS/FLUIDS ON HIGHWAY -', 'EMS: FEVER',\n",
       "       'EMS: ALLERGIC REACTION', 'Traffic: VEHICLE LEAKING FUEL -',\n",
       "       'EMS: FRACTURE', 'Fire: BURN VICTIM', 'EMS: BURN VICTIM',\n",
       "       'Fire: RESCUE - GENERAL', 'Fire: WOODS/FIELD FIRE',\n",
       "       'EMS: RESCUE - GENERAL', 'Fire: FIRE SPECIAL SERVICE',\n",
       "       'Fire: VEHICLE FIRE', 'Traffic: VEHICLE FIRE -',\n",
       "       'EMS: WARRANT SERVICE', 'Fire: S/B AT HELICOPTER LANDING',\n",
       "       'EMS: EMS SPECIAL SERVICE', 'Traffic: HAZARDOUS ROAD CONDITIONS -',\n",
       "       'Fire: RESCUE - ELEVATOR', 'EMS: FIRE SPECIAL SERVICE',\n",
       "       'EMS: DEHYDRATION', 'EMS: CARBON MONOXIDE DETECTOR',\n",
       "       'EMS: BUILDING FIRE', 'EMS: APPLIANCE FIRE', 'EMS: SHOOTING',\n",
       "       'EMS: POISONING', 'Fire: TRANSFERRED CALL',\n",
       "       'Fire: RESCUE - TECHNICAL', 'EMS: RESCUE - TECHNICAL',\n",
       "       'Fire: VEHICLE LEAKING FUEL', 'EMS: EYE INJURY',\n",
       "       'EMS: ELECTROCUTION', 'EMS: STABBING', 'Fire: FIRE POLICE NEEDED',\n",
       "       'EMS: AMPUTATION', 'EMS: ANIMAL BITE', 'EMS: FIRE ALARM',\n",
       "       'EMS: VEHICLE FIRE', 'EMS: HAZARDOUS MATERIALS INCIDENT',\n",
       "       'EMS: RESCUE - ELEVATOR', 'EMS: FIRE INVESTIGATION',\n",
       "       'Fire: MEDICAL ALERT ALARM', 'EMS: UNKNOWN TYPE FIRE',\n",
       "       'EMS: GAS-ODOR/LEAK', 'Fire: TRAIN CRASH',\n",
       "       'Fire: HAZARDOUS MATERIALS INCIDENT', 'EMS: TRANSFERRED CALL',\n",
       "       'EMS: TRAIN CRASH', 'EMS: RESCUE - WATER',\n",
       "       'EMS: S/B AT HELICOPTER LANDING', 'Fire: UNKNOWN MEDICAL EMERGENCY',\n",
       "       'Fire: RESCUE - WATER', 'EMS: CARDIAC ARREST', 'EMS: PLANE CRASH',\n",
       "       'Fire: PLANE CRASH', 'EMS: WOODS/FIELD FIRE',\n",
       "       'Fire: CARDIAC ARREST', 'Fire: EMS SPECIAL SERVICE',\n",
       "       'Fire: UNCONSCIOUS SUBJECT', 'EMS: HEAT EXHAUSTION',\n",
       "       'EMS: DEBRIS/FLUIDS ON HIGHWAY', 'EMS: ACTIVE SHOOTER',\n",
       "       'EMS: DISABLED VEHICLE', 'Fire: POLICE INFORMATION',\n",
       "       'Fire: DIABETIC EMERGENCY', 'EMS: BOMB DEVICE FOUND',\n",
       "       'Fire: SYNCOPAL EPISODE', 'EMS: INDUSTRIAL ACCIDENT',\n",
       "       'EMS: DROWNING', 'EMS: SUSPICIOUS', 'Fire: FALL VICTIM',\n",
       "       'EMS: ARMED SUBJECT', 'Fire: CARDIAC EMERGENCY',\n",
       "       'EMS: STANDBY FOR ANOTHER CO', 'EMS: ELECTRICAL FIRE OUTSIDE',\n",
       "       'Fire: UNRESPONSIVE SUBJECT', 'EMS: HIT + RUN',\n",
       "       'EMS: SUICIDE THREAT', 'Fire: DISABLED VEHICLE',\n",
       "       'Fire: ANIMAL COMPLAINT', 'Fire: STANDBY FOR ANOTHER CO',\n",
       "       'EMS: FIRE POLICE NEEDED', 'Fire: PRISONER IN CUSTODY'], dtype=object)"
      ]
     },
     "execution_count": 10,
     "metadata": {},
     "output_type": "execute_result"
    }
   ],
   "source": [
    "#unique 911 call categories in the dataset\n",
    "df.title.unique()"
   ]
  },
  {
   "cell_type": "code",
   "execution_count": 11,
   "metadata": {
    "collapsed": false
   },
   "outputs": [
    {
     "data": {
      "text/plain": [
       "123"
      ]
     },
     "execution_count": 11,
     "metadata": {},
     "output_type": "execute_result"
    }
   ],
   "source": [
    "#find the number of unique 911 call categories\n",
    "s3 = Series(df.title)\n",
    "s3.unique().size"
   ]
  },
  {
   "cell_type": "code",
   "execution_count": 12,
   "metadata": {
    "collapsed": false
   },
   "outputs": [
    {
     "data": {
      "text/plain": [
       "27644"
      ]
     },
     "execution_count": 12,
     "metadata": {},
     "output_type": "execute_result"
    }
   ],
   "source": [
    "#find the number of unique address locations\n",
    "s4 = Series(df.addr)\n",
    "s4.unique().size"
   ]
  },
  {
   "cell_type": "code",
   "execution_count": null,
   "metadata": {
    "collapsed": true
   },
   "outputs": [],
   "source": []
  }
 ],
 "metadata": {
  "kernelspec": {
   "display_name": "Python 2",
   "language": "python",
   "name": "python2"
  },
  "language_info": {
   "codemirror_mode": {
    "name": "ipython",
    "version": 2
   },
   "file_extension": ".py",
   "mimetype": "text/x-python",
   "name": "python",
   "nbconvert_exporter": "python",
   "pygments_lexer": "ipython2",
   "version": "2.7.13"
  }
 },
 "nbformat": 4,
 "nbformat_minor": 2
}
