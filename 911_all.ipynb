{
 "cells": [
  {
   "cell_type": "code",
   "execution_count": 1,
   "metadata": {
    "collapsed": false
   },
   "outputs": [
    {
     "data": {
      "text/html": [
       "<div>\n",
       "<table border=\"1\" class=\"dataframe\">\n",
       "  <thead>\n",
       "    <tr style=\"text-align: right;\">\n",
       "      <th></th>\n",
       "      <th>lat</th>\n",
       "      <th>lng</th>\n",
       "      <th>desc</th>\n",
       "      <th>zip</th>\n",
       "      <th>title</th>\n",
       "      <th>timeStamp</th>\n",
       "      <th>twp</th>\n",
       "      <th>addr</th>\n",
       "      <th>e</th>\n",
       "    </tr>\n",
       "  </thead>\n",
       "  <tbody>\n",
       "    <tr>\n",
       "      <th>0</th>\n",
       "      <td>40.297876</td>\n",
       "      <td>-75.581294</td>\n",
       "      <td>REINDEER CT &amp; DEAD END;  NEW HANOVER; Station ...</td>\n",
       "      <td>19525.0</td>\n",
       "      <td>EMS: BACK PAINS/INJURY</td>\n",
       "      <td>2015-12-10 17:10:52</td>\n",
       "      <td>NEW HANOVER</td>\n",
       "      <td>REINDEER CT &amp; DEAD END</td>\n",
       "      <td>1</td>\n",
       "    </tr>\n",
       "    <tr>\n",
       "      <th>1</th>\n",
       "      <td>40.258061</td>\n",
       "      <td>-75.264680</td>\n",
       "      <td>BRIAR PATH &amp; WHITEMARSH LN;  HATFIELD TOWNSHIP...</td>\n",
       "      <td>19446.0</td>\n",
       "      <td>EMS: DIABETIC EMERGENCY</td>\n",
       "      <td>2015-12-10 17:29:21</td>\n",
       "      <td>HATFIELD TOWNSHIP</td>\n",
       "      <td>BRIAR PATH &amp; WHITEMARSH LN</td>\n",
       "      <td>1</td>\n",
       "    </tr>\n",
       "    <tr>\n",
       "      <th>2</th>\n",
       "      <td>40.121182</td>\n",
       "      <td>-75.351975</td>\n",
       "      <td>HAWS AVE; NORRISTOWN; 2015-12-10 @ 14:39:21-St...</td>\n",
       "      <td>19401.0</td>\n",
       "      <td>Fire: GAS-ODOR/LEAK</td>\n",
       "      <td>2015-12-10 14:39:21</td>\n",
       "      <td>NORRISTOWN</td>\n",
       "      <td>HAWS AVE</td>\n",
       "      <td>1</td>\n",
       "    </tr>\n",
       "    <tr>\n",
       "      <th>3</th>\n",
       "      <td>40.116153</td>\n",
       "      <td>-75.343513</td>\n",
       "      <td>AIRY ST &amp; SWEDE ST;  NORRISTOWN; Station 308A;...</td>\n",
       "      <td>19401.0</td>\n",
       "      <td>EMS: CARDIAC EMERGENCY</td>\n",
       "      <td>2015-12-10 16:47:36</td>\n",
       "      <td>NORRISTOWN</td>\n",
       "      <td>AIRY ST &amp; SWEDE ST</td>\n",
       "      <td>1</td>\n",
       "    </tr>\n",
       "    <tr>\n",
       "      <th>4</th>\n",
       "      <td>40.251492</td>\n",
       "      <td>-75.603350</td>\n",
       "      <td>CHERRYWOOD CT &amp; DEAD END;  LOWER POTTSGROVE; S...</td>\n",
       "      <td>NaN</td>\n",
       "      <td>EMS: DIZZINESS</td>\n",
       "      <td>2015-12-10 16:56:52</td>\n",
       "      <td>LOWER POTTSGROVE</td>\n",
       "      <td>CHERRYWOOD CT &amp; DEAD END</td>\n",
       "      <td>1</td>\n",
       "    </tr>\n",
       "  </tbody>\n",
       "</table>\n",
       "</div>"
      ],
      "text/plain": [
       "         lat        lng                                               desc  \\\n",
       "0  40.297876 -75.581294  REINDEER CT & DEAD END;  NEW HANOVER; Station ...   \n",
       "1  40.258061 -75.264680  BRIAR PATH & WHITEMARSH LN;  HATFIELD TOWNSHIP...   \n",
       "2  40.121182 -75.351975  HAWS AVE; NORRISTOWN; 2015-12-10 @ 14:39:21-St...   \n",
       "3  40.116153 -75.343513  AIRY ST & SWEDE ST;  NORRISTOWN; Station 308A;...   \n",
       "4  40.251492 -75.603350  CHERRYWOOD CT & DEAD END;  LOWER POTTSGROVE; S...   \n",
       "\n",
       "       zip                    title            timeStamp                twp  \\\n",
       "0  19525.0   EMS: BACK PAINS/INJURY  2015-12-10 17:10:52        NEW HANOVER   \n",
       "1  19446.0  EMS: DIABETIC EMERGENCY  2015-12-10 17:29:21  HATFIELD TOWNSHIP   \n",
       "2  19401.0      Fire: GAS-ODOR/LEAK  2015-12-10 14:39:21         NORRISTOWN   \n",
       "3  19401.0   EMS: CARDIAC EMERGENCY  2015-12-10 16:47:36         NORRISTOWN   \n",
       "4      NaN           EMS: DIZZINESS  2015-12-10 16:56:52   LOWER POTTSGROVE   \n",
       "\n",
       "                         addr  e  \n",
       "0      REINDEER CT & DEAD END  1  \n",
       "1  BRIAR PATH & WHITEMARSH LN  1  \n",
       "2                    HAWS AVE  1  \n",
       "3          AIRY ST & SWEDE ST  1  \n",
       "4    CHERRYWOOD CT & DEAD END  1  "
      ]
     },
     "execution_count": 1,
     "metadata": {},
     "output_type": "execute_result"
    }
   ],
   "source": [
    "%matplotlib inline\n",
    "import pandas as pd\n",
    "import numpy as np\n",
    "import datetime as dt\n",
    "from pandas import Series\n",
    "import seaborn as sns\n",
    "import matplotlib as mpl\n",
    "import matplotlib.pyplot as plt\n",
    "from geopy.geocoders import Nominatim\n",
    "from sklearn.ensemble import BaggingClassifier\n",
    "from sklearn.ensemble import RandomForestClassifier\n",
    "from sklearn.neighbors import KNeighborsClassifier\n",
    "from sklearn.model_selection import train_test_split\n",
    "from sklearn import preprocessing\n",
    "from sklearn.svm import LinearSVC\n",
    "from sklearn.multiclass import OneVsRestClassifier\n",
    "import gmplot\n",
    "\n",
    "#importing the dataset using pandas\n",
    "df = pd.read_csv(\"./911.csv\")\n",
    "\n",
    "#sample of original dataset\n",
    "df.head(5)"
   ]
  },
  {
   "cell_type": "code",
   "execution_count": 2,
   "metadata": {
    "collapsed": false
   },
   "outputs": [],
   "source": [
    "#separate timeStamp data into 2 new columns\n",
    "df['date'] = df.timeStamp.str[0:11]\n",
    "df['time'] = df.timeStamp.str[-8:]\n",
    "\n",
    "#Get rid of dummy 'e' column and 'timeStamp' column\n",
    "del df['e']\n",
    "del df['timeStamp']\n",
    "#If time at end, then try to extract station number and impute\n",
    "del df['desc']\n"
   ]
  },
  {
   "cell_type": "code",
   "execution_count": 3,
   "metadata": {
    "collapsed": false
   },
   "outputs": [
    {
     "data": {
      "text/plain": [
       "lat      177755\n",
       "lng      177755\n",
       "zip      155957\n",
       "title    177755\n",
       "twp      177694\n",
       "addr     177755\n",
       "date     177755\n",
       "time     177755\n",
       "dtype: int64"
      ]
     },
     "execution_count": 3,
     "metadata": {},
     "output_type": "execute_result"
    }
   ],
   "source": [
    "#count number of values in each column\n",
    "df.count()"
   ]
  },
  {
   "cell_type": "code",
   "execution_count": 4,
   "metadata": {
    "collapsed": false
   },
   "outputs": [
    {
     "data": {
      "text/plain": [
       "21822"
      ]
     },
     "execution_count": 4,
     "metadata": {},
     "output_type": "execute_result"
    }
   ],
   "source": [
    "#Finds total number of rows with missing values \n",
    "#Rows with more than one missing value only counted once\n",
    "df.isnull().any(axis=1).sum()"
   ]
  },
  {
   "cell_type": "code",
   "execution_count": 5,
   "metadata": {
    "collapsed": false
   },
   "outputs": [
    {
     "data": {
      "text/plain": [
       "lat      155957\n",
       "lng      155957\n",
       "zip      155957\n",
       "title    155957\n",
       "twp      155933\n",
       "addr     155957\n",
       "date     155957\n",
       "time     155957\n",
       "dtype: int64"
      ]
     },
     "execution_count": 5,
     "metadata": {},
     "output_type": "execute_result"
    }
   ],
   "source": [
    "#Drop rows with missing zipcode values\n",
    "df = df.dropna(subset=['zip'])\n",
    "\n",
    "#Convert float values for zipcodes to integer type\n",
    "df['zip'] = df['zip'].astype(int)\n",
    "df.count()"
   ]
  },
  {
   "cell_type": "code",
   "execution_count": 6,
   "metadata": {
    "collapsed": false
   },
   "outputs": [
    {
     "name": "stdout",
     "output_type": "stream",
     "text": [
      "UPPER MORELAND\n",
      "WARRINGTON\n",
      "NORRISTOWN\n",
      "NORRISTOWN\n",
      "MONTGOMERY\n",
      "UPPER MERION\n",
      "TOWAMENCIN\n",
      "HATBORO\n",
      "HORSHAM\n",
      "HATFIELD\n",
      "JENKINTOWN\n",
      "LOWER MERION\n",
      "FRANCONIA\n",
      "HATBORO\n",
      "POTTSTOWN\n",
      "SKIPPACK\n",
      "SKIPPACK\n",
      "UPPER MORELAND\n",
      "NORRISTOWN\n",
      "NORRISTOWN\n",
      "UPPER SALFORD\n",
      "SPRINGFIELD\n",
      "UPPER MERION\n",
      "UPPER PROVIDENCE\n"
     ]
    }
   ],
   "source": [
    "empty = np.where(pd.isnull(df))\n",
    "geolocator = Nominatim()\n",
    "index = 0\n",
    "\n",
    "\n",
    "#Impute 24 missing township values\n",
    "for i in np.nditer(empty):\n",
    "    \n",
    "    #row of missing township cell\n",
    "    row = empty[0][index] \n",
    "    #column of missing township cell\n",
    "    column = empty[1][index]\n",
    "    \n",
    "    \n",
    "    temp_lat = repr(df.iloc[row,0])\n",
    "    temp_long = repr(df.iloc[row,1])\n",
    "    \n",
    "    \n",
    "    location = geolocator.reverse([temp_lat, temp_long], timeout = 60)\n",
    "    \n",
    "    if column == 4:\n",
    "        \n",
    "    \n",
    "        #extract township value from location dictionary\n",
    "        town = location.raw['address']['city'] \n",
    "    \n",
    "    \n",
    "        #remove 'Township' ending from name of town    \n",
    "        if town.endswith(\"Township\"):\n",
    "            town = town[0:-9]\n",
    "            \n",
    "        else:\n",
    "            pass\n",
    "                \n",
    "        #convert to uppercase to maintain township format in dataframe    \n",
    "        town = town.upper()\n",
    "    \n",
    "        #put imputed township name into corresponding missing cell of dataframe\n",
    "        df.iloc[row, column] = town\n",
    "    \n",
    "        print(df.iloc[row, column])\n",
    "        \n",
    "    else:\n",
    "        \n",
    "        pass\n",
    "        \n",
    "        #Elected to comment out code to impute missing zipcodes because it would take too long (approx. 4-6 hrs.)\n",
    "        #zcode = location.raw['address']['postcode']\n",
    "        \n",
    "        #df.iloc[row, column] = zcode\n",
    "        \n",
    "        #print(df.iloc[row, column])\n",
    "    \n",
    "        \n",
    "    #increment index to get to next set of index values for empty township cell\n",
    "    index += 1"
   ]
  },
  {
   "cell_type": "code",
   "execution_count": 7,
   "metadata": {
    "collapsed": false
   },
   "outputs": [
    {
     "data": {
      "text/plain": [
       "lat      155957\n",
       "lng      155957\n",
       "zip      155957\n",
       "title    155957\n",
       "twp      155957\n",
       "addr     155957\n",
       "date     155957\n",
       "time     155957\n",
       "dtype: int64"
      ]
     },
     "execution_count": 7,
     "metadata": {},
     "output_type": "execute_result"
    }
   ],
   "source": [
    "#After imputing townships: No more missing values in the dataset\n",
    "df.count()"
   ]
  },
  {
   "cell_type": "code",
   "execution_count": 8,
   "metadata": {
    "collapsed": false
   },
   "outputs": [],
   "source": [
    "hour = df.time.str[0:2]\n",
    "hour2 = pd.to_numeric(hour)\n",
    "\n",
    "#If time of call is between 6PM and 6AM then it is classified as 'night', otherwise it is classified as 'day'\n",
    "\n",
    "for i, row in df.iterrows():\n",
    "    if(hour2.loc[i] >= 18 or hour2.loc[i] < 6):\n",
    "        hour.at[i] = 'night'\n",
    "    else:\n",
    "        hour.at[i] = 'day'\n"
   ]
  },
  {
   "cell_type": "code",
   "execution_count": 9,
   "metadata": {
    "collapsed": false
   },
   "outputs": [],
   "source": [
    "#Replace military time with either 'night' or 'day'\n",
    "del df['time']\n",
    "\n",
    "df['time_of_day'] = hour   "
   ]
  },
  {
   "cell_type": "code",
   "execution_count": 10,
   "metadata": {
    "collapsed": false
   },
   "outputs": [],
   "source": [
    "#Change date format to weekdays format (ex. Monday, Tuesday ...)\n",
    "df['dates'] = pd.to_datetime(df['date'])\n",
    "df['weekday'] = df['dates'].dt.weekday_name\n",
    "\n",
    "del df['date']\n",
    "del df['dates']"
   ]
  },
  {
   "cell_type": "code",
   "execution_count": 11,
   "metadata": {
    "collapsed": false
   },
   "outputs": [],
   "source": [
    "#Separate first part of 911 call classification from rest of title\n",
    "df['class'], df['title2'] = df['title'].str.split(':', 1).str\n",
    "del df['title']\n",
    "del df['title2']\n"
   ]
  },
  {
   "cell_type": "code",
   "execution_count": 12,
   "metadata": {
    "collapsed": false
   },
   "outputs": [
    {
     "data": {
      "text/html": [
       "<div>\n",
       "<table border=\"1\" class=\"dataframe\">\n",
       "  <thead>\n",
       "    <tr style=\"text-align: right;\">\n",
       "      <th></th>\n",
       "      <th>lat</th>\n",
       "      <th>lng</th>\n",
       "      <th>zip</th>\n",
       "      <th>twp</th>\n",
       "      <th>addr</th>\n",
       "      <th>time_of_day</th>\n",
       "      <th>weekday</th>\n",
       "      <th>class</th>\n",
       "    </tr>\n",
       "  </thead>\n",
       "  <tbody>\n",
       "    <tr>\n",
       "      <th>0</th>\n",
       "      <td>40.297876</td>\n",
       "      <td>-75.581294</td>\n",
       "      <td>19525</td>\n",
       "      <td>NEW HANOVER</td>\n",
       "      <td>REINDEER CT &amp; DEAD END</td>\n",
       "      <td>day</td>\n",
       "      <td>Thursday</td>\n",
       "      <td>EMS</td>\n",
       "    </tr>\n",
       "    <tr>\n",
       "      <th>1</th>\n",
       "      <td>40.258061</td>\n",
       "      <td>-75.264680</td>\n",
       "      <td>19446</td>\n",
       "      <td>HATFIELD TOWNSHIP</td>\n",
       "      <td>BRIAR PATH &amp; WHITEMARSH LN</td>\n",
       "      <td>day</td>\n",
       "      <td>Thursday</td>\n",
       "      <td>EMS</td>\n",
       "    </tr>\n",
       "    <tr>\n",
       "      <th>2</th>\n",
       "      <td>40.121182</td>\n",
       "      <td>-75.351975</td>\n",
       "      <td>19401</td>\n",
       "      <td>NORRISTOWN</td>\n",
       "      <td>HAWS AVE</td>\n",
       "      <td>day</td>\n",
       "      <td>Thursday</td>\n",
       "      <td>Fire</td>\n",
       "    </tr>\n",
       "    <tr>\n",
       "      <th>3</th>\n",
       "      <td>40.116153</td>\n",
       "      <td>-75.343513</td>\n",
       "      <td>19401</td>\n",
       "      <td>NORRISTOWN</td>\n",
       "      <td>AIRY ST &amp; SWEDE ST</td>\n",
       "      <td>day</td>\n",
       "      <td>Thursday</td>\n",
       "      <td>EMS</td>\n",
       "    </tr>\n",
       "    <tr>\n",
       "      <th>5</th>\n",
       "      <td>40.253473</td>\n",
       "      <td>-75.283245</td>\n",
       "      <td>19446</td>\n",
       "      <td>LANSDALE</td>\n",
       "      <td>CANNON AVE &amp; W 9TH ST</td>\n",
       "      <td>day</td>\n",
       "      <td>Thursday</td>\n",
       "      <td>EMS</td>\n",
       "    </tr>\n",
       "    <tr>\n",
       "      <th>6</th>\n",
       "      <td>40.182111</td>\n",
       "      <td>-75.127795</td>\n",
       "      <td>19044</td>\n",
       "      <td>HORSHAM</td>\n",
       "      <td>LAUREL AVE &amp; OAKDALE AVE</td>\n",
       "      <td>day</td>\n",
       "      <td>Thursday</td>\n",
       "      <td>EMS</td>\n",
       "    </tr>\n",
       "    <tr>\n",
       "      <th>7</th>\n",
       "      <td>40.217286</td>\n",
       "      <td>-75.405182</td>\n",
       "      <td>19426</td>\n",
       "      <td>SKIPPACK</td>\n",
       "      <td>COLLEGEVILLE RD &amp; LYWISKI RD</td>\n",
       "      <td>day</td>\n",
       "      <td>Thursday</td>\n",
       "      <td>EMS</td>\n",
       "    </tr>\n",
       "    <tr>\n",
       "      <th>8</th>\n",
       "      <td>40.289027</td>\n",
       "      <td>-75.399590</td>\n",
       "      <td>19438</td>\n",
       "      <td>LOWER SALFORD</td>\n",
       "      <td>MAIN ST &amp; OLD SUMNEYTOWN PIKE</td>\n",
       "      <td>day</td>\n",
       "      <td>Thursday</td>\n",
       "      <td>EMS</td>\n",
       "    </tr>\n",
       "    <tr>\n",
       "      <th>9</th>\n",
       "      <td>40.102398</td>\n",
       "      <td>-75.291458</td>\n",
       "      <td>19462</td>\n",
       "      <td>PLYMOUTH</td>\n",
       "      <td>BLUEROUTE  &amp; RAMP I476 NB TO CHEMICAL RD</td>\n",
       "      <td>day</td>\n",
       "      <td>Thursday</td>\n",
       "      <td>Traffic</td>\n",
       "    </tr>\n",
       "    <tr>\n",
       "      <th>11</th>\n",
       "      <td>40.084161</td>\n",
       "      <td>-75.308386</td>\n",
       "      <td>19428</td>\n",
       "      <td>PLYMOUTH</td>\n",
       "      <td>BROOK RD &amp; COLWELL LN</td>\n",
       "      <td>day</td>\n",
       "      <td>Thursday</td>\n",
       "      <td>Traffic</td>\n",
       "    </tr>\n",
       "  </tbody>\n",
       "</table>\n",
       "</div>"
      ],
      "text/plain": [
       "          lat        lng    zip                twp  \\\n",
       "0   40.297876 -75.581294  19525        NEW HANOVER   \n",
       "1   40.258061 -75.264680  19446  HATFIELD TOWNSHIP   \n",
       "2   40.121182 -75.351975  19401         NORRISTOWN   \n",
       "3   40.116153 -75.343513  19401         NORRISTOWN   \n",
       "5   40.253473 -75.283245  19446           LANSDALE   \n",
       "6   40.182111 -75.127795  19044            HORSHAM   \n",
       "7   40.217286 -75.405182  19426           SKIPPACK   \n",
       "8   40.289027 -75.399590  19438      LOWER SALFORD   \n",
       "9   40.102398 -75.291458  19462           PLYMOUTH   \n",
       "11  40.084161 -75.308386  19428           PLYMOUTH   \n",
       "\n",
       "                                        addr time_of_day   weekday    class  \n",
       "0                     REINDEER CT & DEAD END         day  Thursday      EMS  \n",
       "1                 BRIAR PATH & WHITEMARSH LN         day  Thursday      EMS  \n",
       "2                                   HAWS AVE         day  Thursday     Fire  \n",
       "3                         AIRY ST & SWEDE ST         day  Thursday      EMS  \n",
       "5                      CANNON AVE & W 9TH ST         day  Thursday      EMS  \n",
       "6                   LAUREL AVE & OAKDALE AVE         day  Thursday      EMS  \n",
       "7               COLLEGEVILLE RD & LYWISKI RD         day  Thursday      EMS  \n",
       "8              MAIN ST & OLD SUMNEYTOWN PIKE         day  Thursday      EMS  \n",
       "9   BLUEROUTE  & RAMP I476 NB TO CHEMICAL RD         day  Thursday  Traffic  \n",
       "11                     BROOK RD & COLWELL LN         day  Thursday  Traffic  "
      ]
     },
     "execution_count": 12,
     "metadata": {},
     "output_type": "execute_result"
    }
   ],
   "source": [
    "df.head(10)"
   ]
  },
  {
   "cell_type": "code",
   "execution_count": 13,
   "metadata": {
    "collapsed": false
   },
   "outputs": [],
   "source": [
    "#end of general preprocessing"
   ]
  },
  {
   "cell_type": "code",
   "execution_count": 14,
   "metadata": {
    "collapsed": false
   },
   "outputs": [
    {
     "data": {
      "text/plain": [
       "array([19525, 19446, 19401, 19044, 19426, 19438, 19462, 19428, 19040,\n",
       "       19027, 18936, 18974, 19031, 19403, 19422, 19085, 18964, 19038,\n",
       "       19406, 19468, 19010, 19095, 19464, 19444, 19041, 19440, 19405,\n",
       "       19002, 19096, 19454, 19465, 19004, 19066, 19072, 18041, 19046,\n",
       "       19090, 19012, 19025, 19473, 18073, 18969, 18074, 19460, 19001,\n",
       "       18054, 19009, 19006, 19035, 19150, 19075, 19034, 19151, 19453,\n",
       "       19003, 18914, 19512, 18976, 19120, 18915, 18076, 19477, 19087,\n",
       "       18966, 19131, 19128, 19083, 19053, 19475, 18960, 19504, 18070,\n",
       "       19492, 18932, 19118, 18092, 19490, 19518, 18056, 19119, 19107,\n",
       "       17752, 19111, 18927, 19435, 18951, 19472, 19503, 19126, 19505,\n",
       "       19423, 19138, 36107, 18036, 19116, 19139, 19129, 19115, 19355,\n",
       "       77316, 19457, 19082, 19127, 19443, 17555, 19520, 19063, 19020, 19404])"
      ]
     },
     "execution_count": 14,
     "metadata": {},
     "output_type": "execute_result"
    }
   ],
   "source": [
    "#unique zipcodes in the dataset\n",
    "df.zip.unique()"
   ]
  },
  {
   "cell_type": "code",
   "execution_count": 15,
   "metadata": {
    "collapsed": false
   },
   "outputs": [
    {
     "name": "stdout",
     "output_type": "stream",
     "text": [
      "109\n"
     ]
    }
   ],
   "source": [
    "#find the number of unique zipcodes\n",
    "s = Series(df.zip)\n",
    "zip_unique = s.unique().size\n",
    "print(zip_unique)"
   ]
  },
  {
   "cell_type": "code",
   "execution_count": 16,
   "metadata": {
    "collapsed": false
   },
   "outputs": [
    {
     "data": {
      "text/plain": [
       "array(['NEW HANOVER', 'HATFIELD TOWNSHIP', 'NORRISTOWN', 'LANSDALE',\n",
       "       'HORSHAM', 'SKIPPACK', 'LOWER SALFORD', 'PLYMOUTH',\n",
       "       'UPPER MORELAND', 'CHELTENHAM', 'MONTGOMERY', 'WHITEMARSH',\n",
       "       'UPPER GWYNEDD', 'LOWER PROVIDENCE', 'WHITPAIN', 'DELAWARE COUNTY',\n",
       "       'FRANCONIA', 'WEST CONSHOHOCKEN', 'UPPER MERION', 'LIMERICK',\n",
       "       'DOUGLASS', 'LOWER MERION', 'POTTSTOWN', 'BRIDGEPORT', 'TOWAMENCIN',\n",
       "       'AMBLER', 'LOWER POTTSGROVE', 'CHESTER COUNTY', 'UPPER HANOVER',\n",
       "       'SPRINGFIELD', 'ROCKLEDGE', 'ABINGTON', 'WEST NORRITON',\n",
       "       'ROYERSFORD', 'UPPER DUBLIN', 'UPPER SALFORD', 'CONSHOHOCKEN',\n",
       "       'PENNSBURG', 'TELFORD', 'EAST NORRITON', 'UPPER FREDERICK',\n",
       "       'UPPER PROVIDENCE', 'SALFORD', 'LEHIGH COUNTY', 'MARLBOROUGH',\n",
       "       'BRYN ATHYN', 'LOWER MORELAND', 'HATBORO', 'LOWER GWYNEDD',\n",
       "       'WORCESTER', 'COLLEGEVILLE', 'SCHWENKSVILLE', 'SOUDERTON',\n",
       "       'PERKIOMEN', 'LOWER FREDERICK', 'BUCKS COUNTY', 'RED HILL',\n",
       "       'WEST POTTSGROVE', 'UPPER POTTSGROVE', 'EAST GREENVILLE',\n",
       "       'NORTH WALES', 'JENKINTOWN', 'TRAPPE', 'NARBERTH', 'BERKS COUNTY',\n",
       "       'GREEN LANE', 'WARRINGTON', 'PHILA COUNTY', 'HATFIELD',\n",
       "       'HATFIELD BORO'], dtype=object)"
      ]
     },
     "execution_count": 16,
     "metadata": {},
     "output_type": "execute_result"
    }
   ],
   "source": [
    "#unique townships in the dataset\n",
    "df.twp.unique()"
   ]
  },
  {
   "cell_type": "code",
   "execution_count": 17,
   "metadata": {
    "collapsed": false
   },
   "outputs": [
    {
     "name": "stdout",
     "output_type": "stream",
     "text": [
      "70\n"
     ]
    }
   ],
   "source": [
    "#find the number of unique townships\n",
    "s2 = Series(df.twp)\n",
    "twp_unique = s2.unique().size\n",
    "print(twp_unique)"
   ]
  },
  {
   "cell_type": "code",
   "execution_count": 18,
   "metadata": {
    "collapsed": false
   },
   "outputs": [
    {
     "data": {
      "text/plain": [
       "25162"
      ]
     },
     "execution_count": 18,
     "metadata": {},
     "output_type": "execute_result"
    }
   ],
   "source": [
    "#find the number of unique address locations\n",
    "s4 = Series(df.addr)\n",
    "s4.unique().size"
   ]
  },
  {
   "cell_type": "code",
   "execution_count": 19,
   "metadata": {
    "collapsed": false
   },
   "outputs": [
    {
     "data": {
      "text/plain": [
       "16968"
      ]
     },
     "execution_count": 19,
     "metadata": {},
     "output_type": "execute_result"
    }
   ],
   "source": [
    "#find number of unique latitude values\n",
    "sLat = Series(df.lat)\n",
    "sLat.unique().size"
   ]
  },
  {
   "cell_type": "code",
   "execution_count": 20,
   "metadata": {
    "collapsed": false
   },
   "outputs": [
    {
     "data": {
      "text/plain": [
       "16992"
      ]
     },
     "execution_count": 20,
     "metadata": {},
     "output_type": "execute_result"
    }
   ],
   "source": [
    "#find number of unique longitude values\n",
    "sLong = Series(df.lng)\n",
    "sLong.unique().size"
   ]
  },
  {
   "cell_type": "code",
   "execution_count": 21,
   "metadata": {
    "collapsed": false
   },
   "outputs": [
    {
     "data": {
      "text/html": [
       "<div>\n",
       "<table border=\"1\" class=\"dataframe\">\n",
       "  <thead>\n",
       "    <tr style=\"text-align: right;\">\n",
       "      <th></th>\n",
       "      <th>lat</th>\n",
       "      <th>lng</th>\n",
       "      <th>zip</th>\n",
       "    </tr>\n",
       "  </thead>\n",
       "  <tbody>\n",
       "    <tr>\n",
       "      <th>count</th>\n",
       "      <td>155957.000000</td>\n",
       "      <td>155957.000000</td>\n",
       "      <td>155957.000000</td>\n",
       "    </tr>\n",
       "    <tr>\n",
       "      <th>mean</th>\n",
       "      <td>40.160481</td>\n",
       "      <td>-75.316163</td>\n",
       "      <td>19235.886161</td>\n",
       "    </tr>\n",
       "    <tr>\n",
       "      <th>std</th>\n",
       "      <td>0.091951</td>\n",
       "      <td>0.170492</td>\n",
       "      <td>318.527911</td>\n",
       "    </tr>\n",
       "    <tr>\n",
       "      <th>min</th>\n",
       "      <td>30.333596</td>\n",
       "      <td>-95.595595</td>\n",
       "      <td>17555.000000</td>\n",
       "    </tr>\n",
       "    <tr>\n",
       "      <th>25%</th>\n",
       "      <td>40.102429</td>\n",
       "      <td>-75.399218</td>\n",
       "      <td>19038.000000</td>\n",
       "    </tr>\n",
       "    <tr>\n",
       "      <th>50%</th>\n",
       "      <td>40.145352</td>\n",
       "      <td>-75.302071</td>\n",
       "      <td>19401.000000</td>\n",
       "    </tr>\n",
       "    <tr>\n",
       "      <th>75%</th>\n",
       "      <td>40.231992</td>\n",
       "      <td>-75.206303</td>\n",
       "      <td>19446.000000</td>\n",
       "    </tr>\n",
       "    <tr>\n",
       "      <th>max</th>\n",
       "      <td>41.167156</td>\n",
       "      <td>-74.957973</td>\n",
       "      <td>77316.000000</td>\n",
       "    </tr>\n",
       "  </tbody>\n",
       "</table>\n",
       "</div>"
      ],
      "text/plain": [
       "                 lat            lng            zip\n",
       "count  155957.000000  155957.000000  155957.000000\n",
       "mean       40.160481     -75.316163   19235.886161\n",
       "std         0.091951       0.170492     318.527911\n",
       "min        30.333596     -95.595595   17555.000000\n",
       "25%        40.102429     -75.399218   19038.000000\n",
       "50%        40.145352     -75.302071   19401.000000\n",
       "75%        40.231992     -75.206303   19446.000000\n",
       "max        41.167156     -74.957973   77316.000000"
      ]
     },
     "execution_count": 21,
     "metadata": {},
     "output_type": "execute_result"
    }
   ],
   "source": [
    "#find max, min latitudes and longitudes\n",
    "df.describe()"
   ]
  },
  {
   "cell_type": "code",
   "execution_count": 22,
   "metadata": {
    "collapsed": false
   },
   "outputs": [],
   "source": [
    "# used code from https://www.kaggle.com/vishnoiprem/d/mchirico/montcoalert/911-calls-visualization\n",
    "# modified some code and added to the visulization\n",
    "DATA = np.zeros((df.shape[0],7),dtype='O')\n",
    "DATA[:,0] = df['lng'].values\n",
    "DATA[:,1] = df['lat'].values\n",
    "DATA[:,2] = df['zip'].values\n",
    "DATA[:,3] = df['weekday'].values\n",
    "DATA[:,4] = df['time_of_day'].values\n",
    "DATA[:,5] = df['addr'].values\n",
    "DATA[:,6] = df['class'].values\n"
   ]
  },
  {
   "cell_type": "code",
   "execution_count": 23,
   "metadata": {
    "collapsed": false
   },
   "outputs": [],
   "source": [
    "typeOfCall = np.zeros(DATA.shape[0],dtype='O')\n",
    "for i in range(typeOfCall.size):\n",
    "    typeOfCall[i] = DATA[i][6]"
   ]
  },
  {
   "cell_type": "code",
   "execution_count": 24,
   "metadata": {
    "collapsed": false
   },
   "outputs": [
    {
     "data": {
      "text/plain": [
       "<matplotlib.axes._subplots.AxesSubplot at 0x7fa98644d780>"
      ]
     },
     "execution_count": 24,
     "metadata": {},
     "output_type": "execute_result"
    },
    {
     "data": {
      "image/png": "[encoded data removed]",
      "text/plain": [
       "<matplotlib.figure.Figure at 0x7fa986336be0>"
      ]
     },
     "metadata": {},
     "output_type": "display_data"
    }
   ],
   "source": [
    "call_type = np.array([\"Ems\", \"Fire\", \"Traffic\"])\n",
    "sns.plt.figure(figsize=(12,4))\n",
    "sns.plt.xlabel(\"Type of Incident\")\n",
    "sns.plt.title(\"All Situations By Time\")\n",
    "sns.countplot(typeOfCall)"
   ]
  },
  {
   "cell_type": "code",
   "execution_count": 25,
   "metadata": {
    "collapsed": true
   },
   "outputs": [],
   "source": [
    "#Additional Preprocessing for Bagging and Random Forest"
   ]
  },
  {
   "cell_type": "code",
   "execution_count": 28,
   "metadata": {
    "collapsed": false
   },
   "outputs": [],
   "source": [
    "#Change string data to label encoded integers for Bagging & RandomForest Classifier\n",
    "le_dow = preprocessing.LabelEncoder()\n",
    "le_tod = preprocessing.LabelEncoder()\n",
    "le_addr = preprocessing.LabelEncoder()\n",
    "le_twp = preprocessing.LabelEncoder()\n",
    "le_class = preprocessing.LabelEncoder()\n",
    "\n",
    "le_dow = le_dow.fit_transform(df['weekday'])\n",
    "le_tod = le_tod.fit_transform(df['time_of_day'])\n",
    "le_addr = le_addr.fit_transform(df['addr'])\n",
    "le_twp = le_twp.fit_transform(df['twp'])\n",
    "le_class = le_class.fit_transform(df['class'])"
   ]
  },
  {
   "cell_type": "code",
   "execution_count": 30,
   "metadata": {
    "collapsed": false
   },
   "outputs": [
    {
     "data": {
      "text/html": [
       "<div>\n",
       "<table border=\"1\" class=\"dataframe\">\n",
       "  <thead>\n",
       "    <tr style=\"text-align: right;\">\n",
       "      <th></th>\n",
       "      <th>lat</th>\n",
       "      <th>lng</th>\n",
       "      <th>zip</th>\n",
       "      <th>weekday</th>\n",
       "      <th>time_of_day</th>\n",
       "      <th>addr</th>\n",
       "      <th>twp</th>\n",
       "      <th>class</th>\n",
       "    </tr>\n",
       "  </thead>\n",
       "  <tbody>\n",
       "    <tr>\n",
       "      <th>0</th>\n",
       "      <td>40.297876</td>\n",
       "      <td>-75.581294</td>\n",
       "      <td>19525</td>\n",
       "      <td>4</td>\n",
       "      <td>0</td>\n",
       "      <td>18187</td>\n",
       "      <td>35</td>\n",
       "      <td>0</td>\n",
       "    </tr>\n",
       "    <tr>\n",
       "      <th>1</th>\n",
       "      <td>40.258061</td>\n",
       "      <td>-75.264680</td>\n",
       "      <td>19446</td>\n",
       "      <td>4</td>\n",
       "      <td>0</td>\n",
       "      <td>2398</td>\n",
       "      <td>19</td>\n",
       "      <td>0</td>\n",
       "    </tr>\n",
       "    <tr>\n",
       "      <th>2</th>\n",
       "      <td>40.121182</td>\n",
       "      <td>-75.351975</td>\n",
       "      <td>19401</td>\n",
       "      <td>4</td>\n",
       "      <td>0</td>\n",
       "      <td>9768</td>\n",
       "      <td>36</td>\n",
       "      <td>1</td>\n",
       "    </tr>\n",
       "    <tr>\n",
       "      <th>3</th>\n",
       "      <td>40.116153</td>\n",
       "      <td>-75.343513</td>\n",
       "      <td>19401</td>\n",
       "      <td>4</td>\n",
       "      <td>0</td>\n",
       "      <td>615</td>\n",
       "      <td>36</td>\n",
       "      <td>0</td>\n",
       "    </tr>\n",
       "    <tr>\n",
       "      <th>5</th>\n",
       "      <td>40.253473</td>\n",
       "      <td>-75.283245</td>\n",
       "      <td>19446</td>\n",
       "      <td>4</td>\n",
       "      <td>0</td>\n",
       "      <td>3245</td>\n",
       "      <td>22</td>\n",
       "      <td>0</td>\n",
       "    </tr>\n",
       "    <tr>\n",
       "      <th>6</th>\n",
       "      <td>40.182111</td>\n",
       "      <td>-75.127795</td>\n",
       "      <td>19044</td>\n",
       "      <td>4</td>\n",
       "      <td>0</td>\n",
       "      <td>12164</td>\n",
       "      <td>20</td>\n",
       "      <td>0</td>\n",
       "    </tr>\n",
       "    <tr>\n",
       "      <th>7</th>\n",
       "      <td>40.217286</td>\n",
       "      <td>-75.405182</td>\n",
       "      <td>19426</td>\n",
       "      <td>4</td>\n",
       "      <td>0</td>\n",
       "      <td>4540</td>\n",
       "      <td>48</td>\n",
       "      <td>0</td>\n",
       "    </tr>\n",
       "    <tr>\n",
       "      <th>8</th>\n",
       "      <td>40.289027</td>\n",
       "      <td>-75.399590</td>\n",
       "      <td>19438</td>\n",
       "      <td>4</td>\n",
       "      <td>0</td>\n",
       "      <td>13272</td>\n",
       "      <td>31</td>\n",
       "      <td>0</td>\n",
       "    </tr>\n",
       "    <tr>\n",
       "      <th>9</th>\n",
       "      <td>40.102398</td>\n",
       "      <td>-75.291458</td>\n",
       "      <td>19462</td>\n",
       "      <td>4</td>\n",
       "      <td>0</td>\n",
       "      <td>2201</td>\n",
       "      <td>41</td>\n",
       "      <td>2</td>\n",
       "    </tr>\n",
       "    <tr>\n",
       "      <th>11</th>\n",
       "      <td>40.084161</td>\n",
       "      <td>-75.308386</td>\n",
       "      <td>19428</td>\n",
       "      <td>4</td>\n",
       "      <td>0</td>\n",
       "      <td>2606</td>\n",
       "      <td>41</td>\n",
       "      <td>2</td>\n",
       "    </tr>\n",
       "  </tbody>\n",
       "</table>\n",
       "</div>"
      ],
      "text/plain": [
       "          lat        lng    zip  weekday  time_of_day   addr  twp  class\n",
       "0   40.297876 -75.581294  19525        4            0  18187   35      0\n",
       "1   40.258061 -75.264680  19446        4            0   2398   19      0\n",
       "2   40.121182 -75.351975  19401        4            0   9768   36      1\n",
       "3   40.116153 -75.343513  19401        4            0    615   36      0\n",
       "5   40.253473 -75.283245  19446        4            0   3245   22      0\n",
       "6   40.182111 -75.127795  19044        4            0  12164   20      0\n",
       "7   40.217286 -75.405182  19426        4            0   4540   48      0\n",
       "8   40.289027 -75.399590  19438        4            0  13272   31      0\n",
       "9   40.102398 -75.291458  19462        4            0   2201   41      2\n",
       "11  40.084161 -75.308386  19428        4            0   2606   41      2"
      ]
     },
     "execution_count": 30,
     "metadata": {},
     "output_type": "execute_result"
    }
   ],
   "source": [
    "#Create copy of dataframe\n",
    "df2 = df.copy()\n",
    "\n",
    "#Delete old columns with string values and replace with new label encoded columns\n",
    "del df2['weekday']\n",
    "del df2['time_of_day']\n",
    "del df2['addr']\n",
    "del df2['twp']\n",
    "del df2['class']\n",
    "\n",
    "\n",
    "df2['weekday'] = le_dow\n",
    "df2['time_of_day'] = le_tod\n",
    "df2['addr'] = le_addr\n",
    "df2['twp'] = le_twp\n",
    "df2['class'] = le_class\n",
    "\n",
    "df2.head(10)"
   ]
  },
  {
   "cell_type": "code",
   "execution_count": 31,
   "metadata": {
    "collapsed": false
   },
   "outputs": [],
   "source": [
    "#split dataset for building Bagging classifier\n",
    "x = df2[['lat', 'lng', 'zip', 'twp', 'addr', 'time_of_day', 'weekday']].copy()\n",
    "y = df2[['class']].copy()\n",
    "x_train, x_test, y_train, y_test = train_test_split(x, y, stratify=y, random_state=42)"
   ]
  },
  {
   "cell_type": "code",
   "execution_count": 32,
   "metadata": {
    "collapsed": false
   },
   "outputs": [
    {
     "data": {
      "text/html": [
       "<div>\n",
       "<table border=\"1\" class=\"dataframe\">\n",
       "  <thead>\n",
       "    <tr style=\"text-align: right;\">\n",
       "      <th></th>\n",
       "      <th>lat</th>\n",
       "      <th>lng</th>\n",
       "      <th>zip</th>\n",
       "      <th>twp</th>\n",
       "      <th>addr</th>\n",
       "      <th>time_of_day</th>\n",
       "      <th>weekday</th>\n",
       "    </tr>\n",
       "  </thead>\n",
       "  <tbody>\n",
       "    <tr>\n",
       "      <th>0</th>\n",
       "      <td>40.297876</td>\n",
       "      <td>-75.581294</td>\n",
       "      <td>19525</td>\n",
       "      <td>35</td>\n",
       "      <td>18187</td>\n",
       "      <td>0</td>\n",
       "      <td>4</td>\n",
       "    </tr>\n",
       "    <tr>\n",
       "      <th>1</th>\n",
       "      <td>40.258061</td>\n",
       "      <td>-75.264680</td>\n",
       "      <td>19446</td>\n",
       "      <td>19</td>\n",
       "      <td>2398</td>\n",
       "      <td>0</td>\n",
       "      <td>4</td>\n",
       "    </tr>\n",
       "    <tr>\n",
       "      <th>2</th>\n",
       "      <td>40.121182</td>\n",
       "      <td>-75.351975</td>\n",
       "      <td>19401</td>\n",
       "      <td>36</td>\n",
       "      <td>9768</td>\n",
       "      <td>0</td>\n",
       "      <td>4</td>\n",
       "    </tr>\n",
       "    <tr>\n",
       "      <th>3</th>\n",
       "      <td>40.116153</td>\n",
       "      <td>-75.343513</td>\n",
       "      <td>19401</td>\n",
       "      <td>36</td>\n",
       "      <td>615</td>\n",
       "      <td>0</td>\n",
       "      <td>4</td>\n",
       "    </tr>\n",
       "    <tr>\n",
       "      <th>5</th>\n",
       "      <td>40.253473</td>\n",
       "      <td>-75.283245</td>\n",
       "      <td>19446</td>\n",
       "      <td>22</td>\n",
       "      <td>3245</td>\n",
       "      <td>0</td>\n",
       "      <td>4</td>\n",
       "    </tr>\n",
       "  </tbody>\n",
       "</table>\n",
       "</div>"
      ],
      "text/plain": [
       "         lat        lng    zip  twp   addr  time_of_day  weekday\n",
       "0  40.297876 -75.581294  19525   35  18187            0        4\n",
       "1  40.258061 -75.264680  19446   19   2398            0        4\n",
       "2  40.121182 -75.351975  19401   36   9768            0        4\n",
       "3  40.116153 -75.343513  19401   36    615            0        4\n",
       "5  40.253473 -75.283245  19446   22   3245            0        4"
      ]
     },
     "execution_count": 32,
     "metadata": {},
     "output_type": "execute_result"
    }
   ],
   "source": [
    "#view input attributes for Bagging and Random Forest classifiers\n",
    "x.head()"
   ]
  },
  {
   "cell_type": "code",
   "execution_count": 33,
   "metadata": {
    "collapsed": false
   },
   "outputs": [
    {
     "data": {
      "text/html": [
       "<div>\n",
       "<table border=\"1\" class=\"dataframe\">\n",
       "  <thead>\n",
       "    <tr style=\"text-align: right;\">\n",
       "      <th></th>\n",
       "      <th>class</th>\n",
       "    </tr>\n",
       "  </thead>\n",
       "  <tbody>\n",
       "    <tr>\n",
       "      <th>0</th>\n",
       "      <td>0</td>\n",
       "    </tr>\n",
       "    <tr>\n",
       "      <th>1</th>\n",
       "      <td>0</td>\n",
       "    </tr>\n",
       "    <tr>\n",
       "      <th>2</th>\n",
       "      <td>1</td>\n",
       "    </tr>\n",
       "    <tr>\n",
       "      <th>3</th>\n",
       "      <td>0</td>\n",
       "    </tr>\n",
       "    <tr>\n",
       "      <th>5</th>\n",
       "      <td>0</td>\n",
       "    </tr>\n",
       "  </tbody>\n",
       "</table>\n",
       "</div>"
      ],
      "text/plain": [
       "   class\n",
       "0      0\n",
       "1      0\n",
       "2      1\n",
       "3      0\n",
       "5      0"
      ]
     },
     "execution_count": 33,
     "metadata": {},
     "output_type": "execute_result"
    }
   ],
   "source": [
    "#view output values for Bagging and Random Forest\n",
    "y.head()"
   ]
  },
  {
   "cell_type": "code",
   "execution_count": 40,
   "metadata": {
    "collapsed": false
   },
   "outputs": [
    {
     "data": {
      "text/plain": [
       "BaggingClassifier(base_estimator=None, bootstrap=True,\n",
       "         bootstrap_features=False, max_features=7, max_samples=1.0,\n",
       "         n_estimators=100, n_jobs=-1, oob_score=False, random_state=0,\n",
       "         verbose=0, warm_start=False)"
      ]
     },
     "execution_count": 40,
     "metadata": {},
     "output_type": "execute_result"
    }
   ],
   "source": [
    "bag = BaggingClassifier(base_estimator=None, max_features=7, n_estimators=100, n_jobs=-1, random_state=0)\n",
    "bag.fit(x_train, y_train.values.ravel())"
   ]
  },
  {
   "cell_type": "code",
   "execution_count": 39,
   "metadata": {
    "collapsed": false,
    "scrolled": true
   },
   "outputs": [
    {
     "name": "stdout",
     "output_type": "stream",
     "text": [
      "Accuracy on training set: 0.876\n",
      "Accuracy on test set: 0.633\n"
     ]
    }
   ],
   "source": [
    "print(\"Accuracy on training set: {:.3f}\".format(bag.score(x_train, y_train)))\n",
    "print(\"Accuracy on test set: {:.3f}\".format(bag.score(x_test, y_test)))"
   ]
  },
  {
   "cell_type": "code",
   "execution_count": 41,
   "metadata": {
    "collapsed": false
   },
   "outputs": [
    {
     "data": {
      "text/plain": [
       "BaggingClassifier(base_estimator=KNeighborsClassifier(algorithm='auto', leaf_size=30, metric='minkowski',\n",
       "           metric_params=None, n_jobs=-1, n_neighbors=10, p=1,\n",
       "           weights='uniform'),\n",
       "         bootstrap=True, bootstrap_features=False, max_features=7,\n",
       "         max_samples=1.0, n_estimators=100, n_jobs=-1, oob_score=False,\n",
       "         random_state=0, verbose=0, warm_start=False)"
      ]
     },
     "execution_count": 41,
     "metadata": {},
     "output_type": "execute_result"
    }
   ],
   "source": [
    "bag1 = BaggingClassifier(base_estimator=KNeighborsClassifier(n_jobs=-1, p=1, n_neighbors=10), max_features=7, n_estimators=100, n_jobs=-1, random_state=0)\n",
    "bag1.fit(x_train, y_train.values.ravel())"
   ]
  },
  {
   "cell_type": "code",
   "execution_count": 42,
   "metadata": {
    "collapsed": false
   },
   "outputs": [
    {
     "name": "stdout",
     "output_type": "stream",
     "text": [
      "Accuracy on training set: 0.721\n",
      "Accuracy on test set: 0.668\n"
     ]
    }
   ],
   "source": [
    "print(\"Accuracy on training set: {:.3f}\".format(bag1.score(x_train, y_train)))\n",
    "print(\"Accuracy on test set: {:.3f}\".format(bag1.score(x_test, y_test)))"
   ]
  },
  {
   "cell_type": "code",
   "execution_count": 43,
   "metadata": {
    "collapsed": false
   },
   "outputs": [],
   "source": [
    "#Random Forest Classification"
   ]
  },
  {
   "cell_type": "code",
   "execution_count": 45,
   "metadata": {
    "collapsed": false
   },
   "outputs": [
    {
     "data": {
      "text/plain": [
       "RandomForestClassifier(bootstrap=True, class_weight=None, criterion='entropy',\n",
       "            max_depth=25, max_features=5, max_leaf_nodes=None,\n",
       "            min_impurity_split=0.9, min_samples_leaf=1,\n",
       "            min_samples_split=2, min_weight_fraction_leaf=0.0,\n",
       "            n_estimators=100, n_jobs=-1, oob_score=False, random_state=0,\n",
       "            verbose=0, warm_start=False)"
      ]
     },
     "execution_count": 45,
     "metadata": {},
     "output_type": "execute_result"
    }
   ],
   "source": [
    "#Manual 80/20 Train/Test split since data is timeseries data (newer data should be test data)\n",
    "x_train2 = x[:124766]\n",
    "x_test2 = x[124766:]\n",
    "\n",
    "y_train2 = y[:124766]\n",
    "y_test2 = y[124766:]\n",
    "\n",
    "forest2 = RandomForestClassifier(n_estimators=100, criterion='entropy', max_features=5, max_depth=25, \n",
    "                                 min_impurity_split=0.9, n_jobs=-1, random_state=0)\n",
    "\n",
    "forest2.fit(x_train2, y_train2.values.ravel())"
   ]
  },
  {
   "cell_type": "code",
   "execution_count": 46,
   "metadata": {
    "collapsed": false
   },
   "outputs": [
    {
     "name": "stdout",
     "output_type": "stream",
     "text": [
      "Accuracy on training set: 0.806\n",
      "Accuracy on test set: 0.684\n"
     ]
    }
   ],
   "source": [
    "print(\"Accuracy on training set: {:.3f}\".format(forest2.score(x_train2, y_train2)))\n",
    "print(\"Accuracy on test set: {:.3f}\".format(forest2.score(x_test2, y_test2)))"
   ]
  },
  {
   "cell_type": "code",
   "execution_count": 47,
   "metadata": {
    "collapsed": false
   },
   "outputs": [
    {
     "name": "stdout",
     "output_type": "stream",
     "text": [
      "Feature importance:\n",
      "\n",
      "lat :  0.219829724772 \n",
      "\n",
      "lng :  0.225356420095 \n",
      "\n",
      "zip :  0.0360357120862 \n",
      "\n",
      "weekday :  0.039311769295 \n",
      "\n",
      "time_of_day :  0.326532781421 \n",
      "\n",
      "addr :  0.0178919969393 \n",
      "\n",
      "twp :  0.135041595391 \n",
      "\n"
     ]
    }
   ],
   "source": [
    "important = forest2.feature_importances_\n",
    "print ('Feature importance:\\n')\n",
    "\n",
    "#Print importance value for each feature\n",
    "for i in range(7):\n",
    "    print(df2.columns.values[i],': ',important[i], '\\n')\n",
    "    "
   ]
  },
  {
   "cell_type": "code",
   "execution_count": 48,
   "metadata": {
    "collapsed": false
   },
   "outputs": [
    {
     "data": {
      "text/plain": [
       "<matplotlib.text.Text at 0x7fa986f998d0>"
      ]
     },
     "execution_count": 48,
     "metadata": {},
     "output_type": "execute_result"
    },
    {
     "data": {
      "image/png": "[encoded data removed]",
      "text/plain": [
       "<matplotlib.figure.Figure at 0x7fa986f34518>"
      ]
     },
     "metadata": {},
     "output_type": "display_data"
    }
   ],
   "source": [
    "n_features = 7\n",
    "names = []\n",
    "\n",
    "for i in range(n_features):\n",
    "    names.append(df2.columns.values[i])\n",
    "\n",
    "#Plot importance of attributes for Random Forest Classifier\n",
    "plt.barh(range(n_features), forest2.feature_importances_, align='center')\n",
    "plt.yticks(np.arange(n_features), names)\n",
    "plt.xlabel(\"911 Dataset Feature importance\")"
   ]
  },
  {
   "cell_type": "code",
   "execution_count": 49,
   "metadata": {
    "collapsed": true
   },
   "outputs": [],
   "source": [
    "#SVC (Support Vector Classification)"
   ]
  },
  {
   "cell_type": "code",
   "execution_count": 50,
   "metadata": {
    "collapsed": false
   },
   "outputs": [],
   "source": [
    "#make a copy of data set to start transforming attributes into float \n",
    "df3= df.copy()\n",
    "\n",
    "df3.head()\n",
    "\n",
    "#uncomment the next two lines to encode the addresses for input in classification\n",
    "le_addr = preprocessing.LabelEncoder()\n",
    "le_addr = le_addr.fit_transform(df3['addr'])\n",
    "\n",
    "\n",
    "#delete addrs attribute\n",
    "#del df3['addr']\n",
    "\n",
    "#uncomment next line and comment out previous line if keeping addresses is desired\n",
    "df3['addr'] = le_addr\n"
   ]
  },
  {
   "cell_type": "code",
   "execution_count": 51,
   "metadata": {
    "collapsed": false
   },
   "outputs": [],
   "source": [
    "#transformed dataframe to dictionary for additional preprocessing\n",
    "comb = [df3]"
   ]
  },
  {
   "cell_type": "code",
   "execution_count": 52,
   "metadata": {
    "collapsed": false
   },
   "outputs": [],
   "source": [
    "for dataset in comb:\n",
    "    dataset['time_of_day'] = dataset['time_of_day'].map( {'day': 1,'night': 2} ).astype(float)"
   ]
  },
  {
   "cell_type": "code",
   "execution_count": 53,
   "metadata": {
    "collapsed": true
   },
   "outputs": [],
   "source": [
    "for dataset in comb:\n",
    "    dataset['class'] = dataset['class'].map( {'Traffic': 10,'EMS': 20, 'Fire': 30} ).astype(float)"
   ]
  },
  {
   "cell_type": "code",
   "execution_count": 54,
   "metadata": {
    "collapsed": true
   },
   "outputs": [],
   "source": [
    "for dataset in comb:\n",
    "     dataset['weekday'] = dataset['weekday'].map( {'Monday': 11,'Tuesday': 22,'Wednesday': 33,'Thursday': 44,'Friday': 55,'Saturday': 66, 'Sunday': 77} ).astype(float) "
   ]
  },
  {
   "cell_type": "code",
   "execution_count": 55,
   "metadata": {
    "collapsed": true
   },
   "outputs": [],
   "source": [
    "#Using unique float values for each mapping\n",
    "for dataset in comb:\n",
    "    dataset['twp'] = dataset['twp'].map({'NEW HANOVER' :101, 'HATFIELD TOWNSHIP': 111, 'NORRISTOWN': 12, 'LANSDALE': 13,\n",
    "       'HORSHAM': 14, 'SKIPPACK': 15, 'LOWER SALFORD': 16, 'PLYMOUTH': 17,\n",
    "       'UPPER MORELAND': 18, 'CHELTENHAM': 19, 'MONTGOMERY': 202, 'WHITEMARSH': 21,\n",
    "       'UPPER GWYNEDD': 222, 'LOWER PROVIDENCE': 23, 'WHITPAIN': 24, 'DELAWARE COUNTY': 25,\n",
    "       'FRANCONIA': 76, 'WEST CONSHOHOCKEN': 777, 'UPPER MERION': 78, 'LIMERICK': 79,\n",
    "       'DOUGLASS': 26, 'LOWER MERION': 27, 'POTTSTOWN': 28, 'BRIDGEPORT': 29, 'TOWAMENCIN': 303,\n",
    "       'AMBLER': 31, 'LOWER POTTSGROVE': 32, 'CHESTER COUNTY': 333, 'UPPER HANOVER': 34,\n",
    "       'SPRINGFIELD': 35, 'ROCKLEDGE': 36, 'ABINGTON': 37, 'WEST NORRITON': 38,\n",
    "       'ROYERSFORD': 39, 'UPPER DUBLIN': 40, 'UPPER SALFORD': 41, 'CONSHOHOCKEN': 42,\n",
    "       'PENNSBURG': 43, 'TELFORD': 444, 'EAST NORRITON': 45, 'UPPER FREDERICK': 46,\n",
    "       'UPPER PROVIDENCE': 47, 'SALFORD': 48, 'LEHIGH COUNTY': 49, 'MARLBOROUGH': 50,\n",
    "       'BRYN ATHYN': 51, 'LOWER MORELAND': 52, 'HATBORO': 53, 'LOWER GWYNEDD': 54,\n",
    "       'WORCESTER': 555, 'COLLEGEVILLE': 56, 'SCHWENKSVILLE': 57, 'SOUDERTON': 58,\n",
    "       'PERKIOMEN': 59, 'LOWER FREDERICK': 60, 'BUCKS COUNTY': 61, 'RED HILL': 62,\n",
    "       'WEST POTTSGROVE': 63, 'UPPER POTTSGROVE': 64, 'EAST GREENVILLE': 65,\n",
    "       'NORTH WALES': 666,'JENKINTOWN': 67,'TRAPPE': 68, 'NARBERTH': 69, 'BERKS COUNTY': 70,\n",
    "       'GREEN LANE': 71, 'WARRINGTON': 72, 'PHILA COUNTY': 73, 'HATFIELD': 74,\n",
    "       'HATFIELD BORO': 75}).astype(float)"
   ]
  },
  {
   "cell_type": "code",
   "execution_count": 56,
   "metadata": {
    "collapsed": false
   },
   "outputs": [
    {
     "data": {
      "text/html": [
       "<div>\n",
       "<table border=\"1\" class=\"dataframe\">\n",
       "  <thead>\n",
       "    <tr style=\"text-align: right;\">\n",
       "      <th></th>\n",
       "      <th>lat</th>\n",
       "      <th>lng</th>\n",
       "      <th>zip</th>\n",
       "      <th>twp</th>\n",
       "      <th>addr</th>\n",
       "      <th>time_of_day</th>\n",
       "      <th>weekday</th>\n",
       "      <th>class</th>\n",
       "    </tr>\n",
       "  </thead>\n",
       "  <tbody>\n",
       "    <tr>\n",
       "      <th>0</th>\n",
       "      <td>40.297876</td>\n",
       "      <td>-75.581294</td>\n",
       "      <td>19525</td>\n",
       "      <td>101.0</td>\n",
       "      <td>18187</td>\n",
       "      <td>1.0</td>\n",
       "      <td>44.0</td>\n",
       "      <td>20.0</td>\n",
       "    </tr>\n",
       "    <tr>\n",
       "      <th>1</th>\n",
       "      <td>40.258061</td>\n",
       "      <td>-75.264680</td>\n",
       "      <td>19446</td>\n",
       "      <td>111.0</td>\n",
       "      <td>2398</td>\n",
       "      <td>1.0</td>\n",
       "      <td>44.0</td>\n",
       "      <td>20.0</td>\n",
       "    </tr>\n",
       "    <tr>\n",
       "      <th>2</th>\n",
       "      <td>40.121182</td>\n",
       "      <td>-75.351975</td>\n",
       "      <td>19401</td>\n",
       "      <td>12.0</td>\n",
       "      <td>9768</td>\n",
       "      <td>1.0</td>\n",
       "      <td>44.0</td>\n",
       "      <td>30.0</td>\n",
       "    </tr>\n",
       "    <tr>\n",
       "      <th>3</th>\n",
       "      <td>40.116153</td>\n",
       "      <td>-75.343513</td>\n",
       "      <td>19401</td>\n",
       "      <td>12.0</td>\n",
       "      <td>615</td>\n",
       "      <td>1.0</td>\n",
       "      <td>44.0</td>\n",
       "      <td>20.0</td>\n",
       "    </tr>\n",
       "    <tr>\n",
       "      <th>5</th>\n",
       "      <td>40.253473</td>\n",
       "      <td>-75.283245</td>\n",
       "      <td>19446</td>\n",
       "      <td>13.0</td>\n",
       "      <td>3245</td>\n",
       "      <td>1.0</td>\n",
       "      <td>44.0</td>\n",
       "      <td>20.0</td>\n",
       "    </tr>\n",
       "  </tbody>\n",
       "</table>\n",
       "</div>"
      ],
      "text/plain": [
       "         lat        lng    zip    twp   addr  time_of_day  weekday  class\n",
       "0  40.297876 -75.581294  19525  101.0  18187          1.0     44.0   20.0\n",
       "1  40.258061 -75.264680  19446  111.0   2398          1.0     44.0   20.0\n",
       "2  40.121182 -75.351975  19401   12.0   9768          1.0     44.0   30.0\n",
       "3  40.116153 -75.343513  19401   12.0    615          1.0     44.0   20.0\n",
       "5  40.253473 -75.283245  19446   13.0   3245          1.0     44.0   20.0"
      ]
     },
     "execution_count": 56,
     "metadata": {},
     "output_type": "execute_result"
    }
   ],
   "source": [
    "df3.head(5)"
   ]
  },
  {
   "cell_type": "code",
   "execution_count": 57,
   "metadata": {
    "collapsed": true
   },
   "outputs": [],
   "source": [
    "#Splitting data into training and testing sets\n",
    "#uncoment this next line and comment out the following line to keep address feature\n",
    "x3 = df3[['lat', 'lng', 'zip', 'addr', 'twp', 'time_of_day', 'weekday']].copy()\n",
    "\n",
    "#x3 = df3[['lat', 'lng', 'zip', 'twp', 'time_of_day', 'weekday']].copy()\n",
    "y3 = df3[['class']].copy()"
   ]
  },
  {
   "cell_type": "code",
   "execution_count": 58,
   "metadata": {
    "collapsed": true
   },
   "outputs": [],
   "source": [
    "x_train3, x_test3, y_train3, y_test3 = train_test_split(x3, y3, stratify=y, random_state=42)"
   ]
  },
  {
   "cell_type": "code",
   "execution_count": 59,
   "metadata": {
    "collapsed": false
   },
   "outputs": [
    {
     "data": {
      "text/plain": [
       "OneVsRestClassifier(estimator=LinearSVC(C=1.0, class_weight=None, dual=True, fit_intercept=True,\n",
       "     intercept_scaling=1, loss='squared_hinge', max_iter=100,\n",
       "     multi_class='ovr', penalty='l2', random_state=None, tol=0.0001,\n",
       "     verbose=0),\n",
       "          n_jobs=1)"
      ]
     },
     "execution_count": 59,
     "metadata": {},
     "output_type": "execute_result"
    }
   ],
   "source": [
    "#Create Linear SVC model\n",
    "model = OneVsRestClassifier(LinearSVC(penalty='l2', loss='squared_hinge', dual=True, tol=0.0001, C=1.0, multi_class='ovr', fit_intercept=True, intercept_scaling=1, \n",
    "                                      class_weight=None, verbose=0, random_state=None, max_iter=100))\n",
    "\n",
    "model.fit(x_train3,y_train3)"
   ]
  },
  {
   "cell_type": "code",
   "execution_count": 60,
   "metadata": {
    "collapsed": false
   },
   "outputs": [
    {
     "name": "stdout",
     "output_type": "stream",
     "text": [
      "Accuracy on training set: 0.515\n",
      "Accuracy on test set: 0.515\n"
     ]
    }
   ],
   "source": [
    "print(\"Accuracy on training set: {:.3f}\".format(model.score(x_train3, y_train3)))\n",
    "print(\"Accuracy on test set: {:.3f}\".format(model.score(x_test3, y_test3)))"
   ]
  },
  {
   "cell_type": "code",
   "execution_count": 61,
   "metadata": {
    "collapsed": true
   },
   "outputs": [],
   "source": [
    "#uncomment next two blocks of code to use kernel SVC, runtime is approximately 1-1.5 hours\n",
    "#from sklearn import svm\n",
    "\n",
    "#clf = svm.SVC()\n",
    "#clf.fit(x_train3,y_train3.values.ravel())"
   ]
  },
  {
   "cell_type": "code",
   "execution_count": 62,
   "metadata": {
    "collapsed": true
   },
   "outputs": [],
   "source": [
    "#print(\"Accuracy on training set: {:.3f}\".format(clf.score(x_train3, y_train3)))\n",
    "#print(\"Accuracy on test set: {:.3f}\".format(clf.score(x_test3, y_test3)))"
   ]
  },
  {
   "cell_type": "code",
   "execution_count": 68,
   "metadata": {
    "collapsed": true
   },
   "outputs": [],
   "source": [
    "#Arrays for all latitudes and longitudes \n",
    "lats = []\n",
    "longs = []\n",
    "\n",
    "#Arrays for latitude and longitude of each different 911 call type\n",
    "ems_lat = []\n",
    "ems_long = []\n",
    "fire_lat = []\n",
    "fire_long = []\n",
    "traffic_lat = []\n",
    "traffic_long = []\n",
    "\n",
    "\n",
    "#Put latitute and longitude of 911 calls into arrays for maps\n",
    "for i in range(155957):\n",
    "    lats.append(df2.iloc[i, 0])\n",
    "    longs.append(df2.iloc[i, 1])\n",
    "    \n",
    "    #911 call for EMS\n",
    "    if df2.iloc[i, 7] == 0:\n",
    "        ems_lat.append(df2.iloc[i, 0])\n",
    "        ems_long.append(df2.iloc[i, 1])\n",
    "    \n",
    "    #911 call for Fire\n",
    "    elif df2.iloc[i, 7] == 1:\n",
    "        fire_lat.append(df2.iloc[i, 0])\n",
    "        fire_long.append(df2.iloc[i, 1])\n",
    "    \n",
    "    #911 call for Traffic\n",
    "    else:\n",
    "        traffic_lat.append(df2.iloc[i, 0])\n",
    "        traffic_long.append(df2.iloc[i, 1])"
   ]
  },
  {
   "cell_type": "code",
   "execution_count": 69,
   "metadata": {
    "collapsed": true
   },
   "outputs": [],
   "source": [
    "#Latitudes and Longitudes for plotting boundaries of Montgomery County Pennsylvania\n",
    "lat_bound = (40.241979, 40.447123, 40.138185, 40.069056, 40.063658, 40.046278, 40.084713, \n",
    "40.073154, 40.092990, 40.054093, 40.011573, 39.977010, 40.019547, 40.015951, 40.072212, \n",
    "40.060884, 40.097123, 40.090095, 40.094000, 40.087753, 40.115236, 40.126164, 40.129910,\n",
    "40.147977, 40.194150, 40.223927, 40.236395, 40.241979)\n",
    "\n",
    "long_bound = (-75.696874, -75.529820, -75.015042, -75.096642, -75.087832, -75.110155,\n",
    "-75.176633, -75.188473, -75.223789, -75.264413, -75.206578, -75.276598, -75.311506, \n",
    "-75.320488, -75.367236, -75.392806, -75.420365, -75.437921, -75.440779, -75.456498, \n",
    "-75.471208, -75.463654, -75.500604, -75.524058, -75.569582, -75.608164, -75.687167, -75.696874)                    \n",
    "\n",
    "\n",
    "#Create map centered at lat, long, amount of zoom\n",
    "gmap = gmplot.GoogleMapPlotter(40.194126, -75.362524, 8.5)\n",
    "\n",
    "#Plot outline of Montgomery County\n",
    "gmap.plot(lat_bound, long_bound, 'cornflowerblue', edge_width=5)\n",
    "\n",
    "#Plot 911 call location in heatmap form\n",
    "gmap.heatmap(lats, longs)\n",
    "\n",
    "#Save html file of Google map\n",
    "gmap.draw(\"Montgomery_County_Heatmap.html\")"
   ]
  },
  {
   "cell_type": "code",
   "execution_count": 70,
   "metadata": {
    "collapsed": true
   },
   "outputs": [],
   "source": [
    "#Create map centered at lat, long, amount of zoom\n",
    "gmap2 = gmplot.GoogleMapPlotter(40.194126, -75.362524, 10)\n",
    "\n",
    "#Plot outline of Montgomery County\n",
    "gmap2.plot(lat_bound, long_bound, 'cornflowerblue', edge_width=5)\n",
    "\n",
    "#Plot first 10,000 EMS, Fire, and Traffic 911 call locations onto map (30,000 call locations total)\n",
    "#EMS = green\n",
    "gmap2.scatter(ems_lat[0:10000],ems_long[0:10000] , 'g', 5, marker=False)\n",
    "#Fire = red\n",
    "gmap2.scatter(fire_lat[0:10000],fire_long[0:10000] , 'r', 5, marker=False)\n",
    "#Traffic = yellow\n",
    "gmap2.scatter(traffic_lat[0:10000],traffic_long[0:10000] , 'y', 5, marker=False)\n",
    "\n",
    "\n",
    "#Save html file of Google map\n",
    "gmap2.draw(\"911_Call_Locations.html\")"
   ]
  },
  {
   "cell_type": "code",
   "execution_count": null,
   "metadata": {
    "collapsed": true
   },
   "outputs": [],
   "source": []
  }
 ],
 "metadata": {
  "kernelspec": {
   "display_name": "Python 3",
   "language": "python",
   "name": "python3"
  },
  "language_info": {
   "codemirror_mode": {
    "name": "ipython",
    "version": 3
   },
   "file_extension": ".py",
   "mimetype": "text/x-python",
   "name": "python",
   "nbconvert_exporter": "python",
   "pygments_lexer": "ipython3",
   "version": "3.6.0"
  }
 },
 "nbformat": 4,
 "nbformat_minor": 2
}
